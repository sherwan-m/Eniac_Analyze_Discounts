{
 "cells": [
  {
   "cell_type": "markdown",
   "metadata": {},
   "source": [
    "# Data cleaning and merging dataframes"
   ]
  },
  {
   "cell_type": "markdown",
   "metadata": {},
   "source": [
    "## Loading multiple datasets"
   ]
  },
  {
   "cell_type": "markdown",
   "metadata": {},
   "source": [
    "**Google way**"
   ]
  },
  {
   "cell_type": "code",
   "execution_count": 8,
   "metadata": {},
   "outputs": [],
   "source": [
    "# import pandas as pd\n",
    "\n",
    "# # orderlines.csv\n",
    "# url = 'https://drive.google.com/file/d/14Y7g5ITyf6LMyPoKc9wr010V9StaCUux/view?usp=sharing' \n",
    "# path = 'https://drive.google.com/uc?export=download&id='+url.split('/')[-2]\n",
    "# orderlines = pd.read_csv(path)\n",
    "\n",
    "# # orders.csv\n",
    "# url = 'https://drive.google.com/file/d/1BLEHcP-9fm9Rv7A01H3co2XBMnSr66YC/view?usp=sharing' \n",
    "# path = 'https://drive.google.com/uc?export=download&id='+url.split('/')[-2]\n",
    "# orders = pd.read_csv(path)\n",
    "\n",
    "# print(path)\n",
    "\n",
    "# # brands.csv\n",
    "# url = 'https://drive.google.com/file/d/1BrNrIY0F1LbyXtyaQygUBXVxQGB3JBqx/view?usp=sharing' \n",
    "# path = 'https://drive.google.com/uc?export=download&id='+url.split('/')[-2]\n",
    "# brands = pd.read_csv(path)\n",
    "\n",
    "# # products.csv\n",
    "# url = 'https://drive.google.com/file/d/1UfsHI80cpQqGfsH2g4T4Tsw8cWayOfzC/view?usp=sharing' \n",
    "# path = 'https://drive.google.com/uc?export=download&id='+url.split('/')[-2]\n",
    "# products = pd.read_csv(path)\n",
    "\n",
    "# df_list = [orderlines, orders, brands, products]\n",
    "# files = ['orderlines','orders','brands','products']\n",
    "\n"
   ]
  },
  {
   "cell_type": "markdown",
   "metadata": {},
   "source": [
    "**Other ways**"
   ]
  },
  {
   "cell_type": "code",
   "execution_count": 9,
   "metadata": {},
   "outputs": [],
   "source": [
    "import pandas as pd\n",
    "\n",
    "path = './data/eniac/'\n",
    "orderlines = pd.read_csv(path + 'orderlines.csv')\n",
    "orders = pd.read_csv(path + 'orders.csv')\n",
    "brands = pd.read_csv(path + 'brands.csv')\n",
    "products = pd.read_csv(path + 'products.csv')\n",
    "\n",
    "df_list = [orderlines, orders, brands, products]\n",
    "files = ['orderlines','orders','brands','products']"
   ]
  },
  {
   "cell_type": "code",
   "execution_count": null,
   "metadata": {},
   "outputs": [],
   "source": [
    "# import pandas as pd\n",
    "# import os\n",
    "# path = '../data/eniac/'\n",
    "# path, dirs, files = next(os.walk(path))\n",
    "# #print(files)\n",
    "\n",
    "# # remove non-csv files\n",
    "# for file in files:\n",
    "#     if not file.endswith(\"csv\"):\n",
    "#         files.remove(file)\n",
    "\n",
    "# # create empty list \n",
    "# df_list = []\n",
    "\n",
    "# # append datasets to the list\n",
    "# for file in files:\n",
    "#     temp_df = pd.read_csv(path + file, sep=',')\n",
    "#     df_list.append(temp_df)\n",
    "\n",
    "# # show results\n",
    "# products, orders, orderlines, brands = df_list[0], df_list[1], df_list[2], df_list[3]"
   ]
  },
  {
   "cell_type": "markdown",
   "metadata": {},
   "source": [
    "## Data quality\n",
    "\n",
    "### Missing values"
   ]
  },
  {
   "cell_type": "code",
   "execution_count": 13,
   "metadata": {},
   "outputs": [
    {
     "data": {
      "text/plain": [
       "0"
      ]
     },
     "execution_count": 13,
     "metadata": {},
     "output_type": "execute_result"
    }
   ],
   "source": [
    "#check missing values for the whole dataframe\n",
    "orderlines.isna().sum().sum()"
   ]
  },
  {
   "cell_type": "code",
   "execution_count": 14,
   "metadata": {},
   "outputs": [
    {
     "data": {
      "text/plain": [
       "id                  0\n",
       "id_order            0\n",
       "product_id          0\n",
       "product_quantity    0\n",
       "sku                 0\n",
       "unit_price          0\n",
       "date                0\n",
       "dtype: int64"
      ]
     },
     "execution_count": 14,
     "metadata": {},
     "output_type": "execute_result"
    }
   ],
   "source": [
    "# check missing values column\n",
    "orderlines.isna().sum()"
   ]
  },
  {
   "cell_type": "code",
   "execution_count": 16,
   "metadata": {},
   "outputs": [
    {
     "name": "stdout",
     "output_type": "stream",
     "text": [
      "<class 'pandas.core.frame.DataFrame'>\n",
      "RangeIndex: 293983 entries, 0 to 293982\n",
      "Data columns (total 7 columns):\n",
      " #   Column            Non-Null Count   Dtype \n",
      "---  ------            --------------   ----- \n",
      " 0   id                293983 non-null  int64 \n",
      " 1   id_order          293983 non-null  int64 \n",
      " 2   product_id        293983 non-null  int64 \n",
      " 3   product_quantity  293983 non-null  int64 \n",
      " 4   sku               293983 non-null  object\n",
      " 5   unit_price        293983 non-null  object\n",
      " 6   date              293983 non-null  object\n",
      "dtypes: int64(4), object(3)\n",
      "memory usage: 15.7+ MB\n"
     ]
    }
   ],
   "source": [
    "orderlines.info()"
   ]
  },
  {
   "cell_type": "code",
   "execution_count": 17,
   "metadata": {},
   "outputs": [
    {
     "name": "stdout",
     "output_type": "stream",
     "text": [
      "<class 'pandas.core.frame.DataFrame'>\n",
      "RangeIndex: 226909 entries, 0 to 226908\n",
      "Data columns (total 4 columns):\n",
      " #   Column        Non-Null Count   Dtype  \n",
      "---  ------        --------------   -----  \n",
      " 0   order_id      226909 non-null  int64  \n",
      " 1   created_date  226909 non-null  object \n",
      " 2   total_paid    226904 non-null  float64\n",
      " 3   state         226909 non-null  object \n",
      "dtypes: float64(1), int64(1), object(2)\n",
      "memory usage: 6.9+ MB\n"
     ]
    }
   ],
   "source": [
    "orders.info()"
   ]
  },
  {
   "cell_type": "code",
   "execution_count": 18,
   "metadata": {},
   "outputs": [
    {
     "name": "stdout",
     "output_type": "stream",
     "text": [
      "<class 'pandas.core.frame.DataFrame'>\n",
      "RangeIndex: 187 entries, 0 to 186\n",
      "Data columns (total 2 columns):\n",
      " #   Column  Non-Null Count  Dtype \n",
      "---  ------  --------------  ----- \n",
      " 0   short   187 non-null    object\n",
      " 1   long    187 non-null    object\n",
      "dtypes: object(2)\n",
      "memory usage: 3.0+ KB\n"
     ]
    }
   ],
   "source": [
    "brands.info()"
   ]
  },
  {
   "cell_type": "code",
   "execution_count": 19,
   "metadata": {},
   "outputs": [
    {
     "name": "stdout",
     "output_type": "stream",
     "text": [
      "<class 'pandas.core.frame.DataFrame'>\n",
      "RangeIndex: 19326 entries, 0 to 19325\n",
      "Data columns (total 7 columns):\n",
      " #   Column       Non-Null Count  Dtype \n",
      "---  ------       --------------  ----- \n",
      " 0   sku          19326 non-null  object\n",
      " 1   name         19326 non-null  object\n",
      " 2   desc         19319 non-null  object\n",
      " 3   price        19280 non-null  object\n",
      " 4   promo_price  19326 non-null  object\n",
      " 5   in_stock     19326 non-null  int64 \n",
      " 6   type         19276 non-null  object\n",
      "dtypes: int64(1), object(6)\n",
      "memory usage: 1.0+ MB\n"
     ]
    }
   ],
   "source": [
    "products.info()"
   ]
  },
  {
   "cell_type": "markdown",
   "metadata": {},
   "source": [
    "### Duplicates\n",
    "\n",
    "The presence of duplicate rows is generally a sign that the data is not clean, and will deserve further exploration."
   ]
  },
  {
   "cell_type": "code",
   "execution_count": 20,
   "metadata": {},
   "outputs": [
    {
     "data": {
      "text/plain": [
       "0"
      ]
     },
     "execution_count": 20,
     "metadata": {},
     "output_type": "execute_result"
    }
   ],
   "source": [
    "orderlines.duplicated().sum()"
   ]
  },
  {
   "cell_type": "code",
   "execution_count": 21,
   "metadata": {},
   "outputs": [
    {
     "data": {
      "text/plain": [
       "0"
      ]
     },
     "execution_count": 21,
     "metadata": {},
     "output_type": "execute_result"
    }
   ],
   "source": [
    "orders.duplicated().sum()"
   ]
  },
  {
   "cell_type": "code",
   "execution_count": 22,
   "metadata": {},
   "outputs": [
    {
     "data": {
      "text/plain": [
       "0"
      ]
     },
     "execution_count": 22,
     "metadata": {},
     "output_type": "execute_result"
    }
   ],
   "source": [
    "brands.duplicated().sum()"
   ]
  },
  {
   "cell_type": "code",
   "execution_count": 23,
   "metadata": {},
   "outputs": [
    {
     "data": {
      "text/plain": [
       "8746"
      ]
     },
     "execution_count": 23,
     "metadata": {},
     "output_type": "execute_result"
    }
   ],
   "source": [
    "products.duplicated().sum()"
   ]
  },
  {
   "cell_type": "code",
   "execution_count": 24,
   "metadata": {},
   "outputs": [
    {
     "name": "stdout",
     "output_type": "stream",
     "text": [
      "<class 'pandas.core.frame.DataFrame'>\n",
      "RangeIndex: 19326 entries, 0 to 19325\n",
      "Data columns (total 7 columns):\n",
      " #   Column       Non-Null Count  Dtype \n",
      "---  ------       --------------  ----- \n",
      " 0   sku          19326 non-null  object\n",
      " 1   name         19326 non-null  object\n",
      " 2   desc         19319 non-null  object\n",
      " 3   price        19280 non-null  object\n",
      " 4   promo_price  19326 non-null  object\n",
      " 5   in_stock     19326 non-null  int64 \n",
      " 6   type         19276 non-null  object\n",
      "dtypes: int64(1), object(6)\n",
      "memory usage: 1.0+ MB\n"
     ]
    }
   ],
   "source": [
    "products.info()"
   ]
  },
  {
   "cell_type": "markdown",
   "metadata": {},
   "source": [
    "### Data cleanliness - initial assessment"
   ]
  },
  {
   "cell_type": "markdown",
   "metadata": {},
   "source": [
    "Based on our initial exploration, we know we will need to deal with some missing values. The biggest issue so far are the duplicates on the `products` DataFrame. Here are some aspects that we will need to fix or, at least, explore further:\n",
    "\n",
    "* **products**: \n",
    "    * `price` and `promo_price` are loaded as objects. They should be floats. \n",
    "    * Missing values: \n",
    "        * `description`: 7 missing values. Maybe that could be inferred from the product name?\n",
    "        * `price`: the missing values could be filled from the `orderlines` dataset. But first we will need to clean it. \n",
    "    * Duplicates: a total of 8746 duplicates seems to indicate this DataFrame has been seriously corrupted.\n",
    "    \n",
    "* **orders**: \n",
    "    * `created_date` should have a date data type. Then, it would be a good quality check to see if the created date for `orders` matches with the created dates for `orderlines`. \n",
    "    \n",
    "* **orderlines**: \n",
    "    * `unit_price` has to be a float, something is wrong there. \n",
    "    * `date` has to be transformed to a date data type. Then, as we said, check that it matches with the `orders` dataset. \n",
    "    \n",
    "* **brands**: looks fine. \n",
    "\n",
    "Where do we have to start? \n",
    "\n",
    "1. **Data consistency:** Since `orders` and `orderlines` seem very crucial to the analysis, we will start by cleaning them and checking that the information present in both DataFrames match.\n",
    "\n",
    "2. **The \"products mess\":** This file seems to have many issues. We will leave it out for now and perform a proper exploration later to understand better what's going on there."
   ]
  }
 ],
 "metadata": {
  "kernelspec": {
   "display_name": "Python 3.9.12 ('base')",
   "language": "python",
   "name": "python3"
  },
  "language_info": {
   "codemirror_mode": {
    "name": "ipython",
    "version": 3
   },
   "file_extension": ".py",
   "mimetype": "text/x-python",
   "name": "python",
   "nbconvert_exporter": "python",
   "pygments_lexer": "ipython3",
   "version": "3.9.12"
  },
  "orig_nbformat": 4,
  "vscode": {
   "interpreter": {
    "hash": "49cb93f377a7abe7414b7b0f21fb3017538004a126cf690fb524202736b7fb92"
   }
  }
 },
 "nbformat": 4,
 "nbformat_minor": 2
}
