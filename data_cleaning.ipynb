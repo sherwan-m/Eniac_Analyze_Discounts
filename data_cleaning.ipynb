{
 "cells": [
  {
   "cell_type": "markdown",
   "metadata": {},
   "source": [
    "# Data cleaning and merging dataframes"
   ]
  },
  {
   "cell_type": "markdown",
   "metadata": {},
   "source": [
    "## Loading multiple datasets"
   ]
  },
  {
   "cell_type": "markdown",
   "metadata": {},
   "source": [
    "**Google way**"
   ]
  },
  {
   "cell_type": "code",
   "execution_count": 67,
   "metadata": {},
   "outputs": [],
   "source": [
    "import numpy as np"
   ]
  },
  {
   "cell_type": "code",
   "execution_count": 8,
   "metadata": {},
   "outputs": [],
   "source": [
    "# import pandas as pd\n",
    "\n",
    "# # orderlines.csv\n",
    "# url = 'https://drive.google.com/file/d/14Y7g5ITyf6LMyPoKc9wr010V9StaCUux/view?usp=sharing' \n",
    "# path = 'https://drive.google.com/uc?export=download&id='+url.split('/')[-2]\n",
    "# orderlines = pd.read_csv(path)\n",
    "\n",
    "# # orders.csv\n",
    "# url = 'https://drive.google.com/file/d/1BLEHcP-9fm9Rv7A01H3co2XBMnSr66YC/view?usp=sharing' \n",
    "# path = 'https://drive.google.com/uc?export=download&id='+url.split('/')[-2]\n",
    "# orders = pd.read_csv(path)\n",
    "\n",
    "# print(path)\n",
    "\n",
    "# # brands.csv\n",
    "# url = 'https://drive.google.com/file/d/1BrNrIY0F1LbyXtyaQygUBXVxQGB3JBqx/view?usp=sharing' \n",
    "# path = 'https://drive.google.com/uc?export=download&id='+url.split('/')[-2]\n",
    "# brands = pd.read_csv(path)\n",
    "\n",
    "# # products.csv\n",
    "# url = 'https://drive.google.com/file/d/1UfsHI80cpQqGfsH2g4T4Tsw8cWayOfzC/view?usp=sharing' \n",
    "# path = 'https://drive.google.com/uc?export=download&id='+url.split('/')[-2]\n",
    "# products = pd.read_csv(path)\n",
    "\n",
    "# df_list = [orderlines, orders, brands, products]\n",
    "# files = ['orderlines','orders','brands','products']\n",
    "\n"
   ]
  },
  {
   "cell_type": "markdown",
   "metadata": {},
   "source": [
    "**Other ways**"
   ]
  },
  {
   "cell_type": "code",
   "execution_count": 9,
   "metadata": {},
   "outputs": [],
   "source": [
    "import pandas as pd\n",
    "\n",
    "path = './data/eniac/'\n",
    "orderlines = pd.read_csv(path + 'orderlines.csv')\n",
    "orders = pd.read_csv(path + 'orders.csv')\n",
    "brands = pd.read_csv(path + 'brands.csv')\n",
    "products = pd.read_csv(path + 'products.csv')\n",
    "\n",
    "df_list = [orderlines, orders, brands, products]\n",
    "files = ['orderlines','orders','brands','products']"
   ]
  },
  {
   "cell_type": "code",
   "execution_count": null,
   "metadata": {},
   "outputs": [],
   "source": [
    "# import pandas as pd\n",
    "# import os\n",
    "# path = '../data/eniac/'\n",
    "# path, dirs, files = next(os.walk(path))\n",
    "# #print(files)\n",
    "\n",
    "# # remove non-csv files\n",
    "# for file in files:\n",
    "#     if not file.endswith(\"csv\"):\n",
    "#         files.remove(file)\n",
    "\n",
    "# # create empty list \n",
    "# df_list = []\n",
    "\n",
    "# # append datasets to the list\n",
    "# for file in files:\n",
    "#     temp_df = pd.read_csv(path + file, sep=',')\n",
    "#     df_list.append(temp_df)\n",
    "\n",
    "# # show results\n",
    "# products, orders, orderlines, brands = df_list[0], df_list[1], df_list[2], df_list[3]"
   ]
  },
  {
   "cell_type": "markdown",
   "metadata": {},
   "source": [
    "## Data quality\n",
    "\n",
    "### Missing values"
   ]
  },
  {
   "cell_type": "code",
   "execution_count": 13,
   "metadata": {},
   "outputs": [
    {
     "data": {
      "text/plain": [
       "0"
      ]
     },
     "execution_count": 13,
     "metadata": {},
     "output_type": "execute_result"
    }
   ],
   "source": [
    "#check missing values for the whole dataframe\n",
    "orderlines.isna().sum().sum()"
   ]
  },
  {
   "cell_type": "code",
   "execution_count": 14,
   "metadata": {},
   "outputs": [
    {
     "data": {
      "text/plain": [
       "id                  0\n",
       "id_order            0\n",
       "product_id          0\n",
       "product_quantity    0\n",
       "sku                 0\n",
       "unit_price          0\n",
       "date                0\n",
       "dtype: int64"
      ]
     },
     "execution_count": 14,
     "metadata": {},
     "output_type": "execute_result"
    }
   ],
   "source": [
    "# check missing values column\n",
    "orderlines.isna().sum()"
   ]
  },
  {
   "cell_type": "code",
   "execution_count": 16,
   "metadata": {},
   "outputs": [
    {
     "name": "stdout",
     "output_type": "stream",
     "text": [
      "<class 'pandas.core.frame.DataFrame'>\n",
      "RangeIndex: 293983 entries, 0 to 293982\n",
      "Data columns (total 7 columns):\n",
      " #   Column            Non-Null Count   Dtype \n",
      "---  ------            --------------   ----- \n",
      " 0   id                293983 non-null  int64 \n",
      " 1   id_order          293983 non-null  int64 \n",
      " 2   product_id        293983 non-null  int64 \n",
      " 3   product_quantity  293983 non-null  int64 \n",
      " 4   sku               293983 non-null  object\n",
      " 5   unit_price        293983 non-null  object\n",
      " 6   date              293983 non-null  object\n",
      "dtypes: int64(4), object(3)\n",
      "memory usage: 15.7+ MB\n"
     ]
    }
   ],
   "source": [
    "orderlines.info()"
   ]
  },
  {
   "cell_type": "code",
   "execution_count": 17,
   "metadata": {},
   "outputs": [
    {
     "name": "stdout",
     "output_type": "stream",
     "text": [
      "<class 'pandas.core.frame.DataFrame'>\n",
      "RangeIndex: 226909 entries, 0 to 226908\n",
      "Data columns (total 4 columns):\n",
      " #   Column        Non-Null Count   Dtype  \n",
      "---  ------        --------------   -----  \n",
      " 0   order_id      226909 non-null  int64  \n",
      " 1   created_date  226909 non-null  object \n",
      " 2   total_paid    226904 non-null  float64\n",
      " 3   state         226909 non-null  object \n",
      "dtypes: float64(1), int64(1), object(2)\n",
      "memory usage: 6.9+ MB\n"
     ]
    }
   ],
   "source": [
    "orders.info()"
   ]
  },
  {
   "cell_type": "code",
   "execution_count": 18,
   "metadata": {},
   "outputs": [
    {
     "name": "stdout",
     "output_type": "stream",
     "text": [
      "<class 'pandas.core.frame.DataFrame'>\n",
      "RangeIndex: 187 entries, 0 to 186\n",
      "Data columns (total 2 columns):\n",
      " #   Column  Non-Null Count  Dtype \n",
      "---  ------  --------------  ----- \n",
      " 0   short   187 non-null    object\n",
      " 1   long    187 non-null    object\n",
      "dtypes: object(2)\n",
      "memory usage: 3.0+ KB\n"
     ]
    }
   ],
   "source": [
    "brands.info()"
   ]
  },
  {
   "cell_type": "code",
   "execution_count": 19,
   "metadata": {},
   "outputs": [
    {
     "name": "stdout",
     "output_type": "stream",
     "text": [
      "<class 'pandas.core.frame.DataFrame'>\n",
      "RangeIndex: 19326 entries, 0 to 19325\n",
      "Data columns (total 7 columns):\n",
      " #   Column       Non-Null Count  Dtype \n",
      "---  ------       --------------  ----- \n",
      " 0   sku          19326 non-null  object\n",
      " 1   name         19326 non-null  object\n",
      " 2   desc         19319 non-null  object\n",
      " 3   price        19280 non-null  object\n",
      " 4   promo_price  19326 non-null  object\n",
      " 5   in_stock     19326 non-null  int64 \n",
      " 6   type         19276 non-null  object\n",
      "dtypes: int64(1), object(6)\n",
      "memory usage: 1.0+ MB\n"
     ]
    }
   ],
   "source": [
    "products.info()"
   ]
  },
  {
   "cell_type": "markdown",
   "metadata": {},
   "source": [
    "### Duplicates\n",
    "\n",
    "The presence of duplicate rows is generally a sign that the data is not clean, and will deserve further exploration."
   ]
  },
  {
   "cell_type": "code",
   "execution_count": 20,
   "metadata": {},
   "outputs": [
    {
     "data": {
      "text/plain": [
       "0"
      ]
     },
     "execution_count": 20,
     "metadata": {},
     "output_type": "execute_result"
    }
   ],
   "source": [
    "orderlines.duplicated().sum()"
   ]
  },
  {
   "cell_type": "code",
   "execution_count": 21,
   "metadata": {},
   "outputs": [
    {
     "data": {
      "text/plain": [
       "0"
      ]
     },
     "execution_count": 21,
     "metadata": {},
     "output_type": "execute_result"
    }
   ],
   "source": [
    "orders.duplicated().sum()"
   ]
  },
  {
   "cell_type": "code",
   "execution_count": 22,
   "metadata": {},
   "outputs": [
    {
     "data": {
      "text/plain": [
       "0"
      ]
     },
     "execution_count": 22,
     "metadata": {},
     "output_type": "execute_result"
    }
   ],
   "source": [
    "brands.duplicated().sum()"
   ]
  },
  {
   "cell_type": "code",
   "execution_count": 23,
   "metadata": {},
   "outputs": [
    {
     "data": {
      "text/plain": [
       "8746"
      ]
     },
     "execution_count": 23,
     "metadata": {},
     "output_type": "execute_result"
    }
   ],
   "source": [
    "products.duplicated().sum()"
   ]
  },
  {
   "cell_type": "code",
   "execution_count": 24,
   "metadata": {},
   "outputs": [
    {
     "name": "stdout",
     "output_type": "stream",
     "text": [
      "<class 'pandas.core.frame.DataFrame'>\n",
      "RangeIndex: 19326 entries, 0 to 19325\n",
      "Data columns (total 7 columns):\n",
      " #   Column       Non-Null Count  Dtype \n",
      "---  ------       --------------  ----- \n",
      " 0   sku          19326 non-null  object\n",
      " 1   name         19326 non-null  object\n",
      " 2   desc         19319 non-null  object\n",
      " 3   price        19280 non-null  object\n",
      " 4   promo_price  19326 non-null  object\n",
      " 5   in_stock     19326 non-null  int64 \n",
      " 6   type         19276 non-null  object\n",
      "dtypes: int64(1), object(6)\n",
      "memory usage: 1.0+ MB\n"
     ]
    }
   ],
   "source": [
    "products.info()"
   ]
  },
  {
   "cell_type": "markdown",
   "metadata": {},
   "source": [
    "### Data cleanliness - initial assessment"
   ]
  },
  {
   "cell_type": "markdown",
   "metadata": {},
   "source": [
    "Based on our initial exploration, we know we will need to deal with some missing values. The biggest issue so far are the duplicates on the `products` DataFrame. Here are some aspects that we will need to fix or, at least, explore further:\n",
    "\n",
    "* **products**: \n",
    "    * `price` and `promo_price` are loaded as objects. They should be floats. \n",
    "    * Missing values: \n",
    "        * `description`: 7 missing values. Maybe that could be inferred from the product name?\n",
    "        * `price`: the missing values could be filled from the `orderlines` dataset. But first we will need to clean it. \n",
    "    * Duplicates: a total of 8746 duplicates seems to indicate this DataFrame has been seriously corrupted.\n",
    "    \n",
    "* **orders**: \n",
    "    * `created_date` should have a date data type. Then, it would be a good quality check to see if the created date for `orders` matches with the created dates for `orderlines`. \n",
    "    \n",
    "* **orderlines**: \n",
    "    * `unit_price` has to be a float, something is wrong there. \n",
    "    * `date` has to be transformed to a date data type. Then, as we said, check that it matches with the `orders` dataset. \n",
    "    \n",
    "* **brands**: looks fine. \n",
    "\n",
    "Where do we have to start? \n",
    "\n",
    "1. **Data consistency:** Since `orders` and `orderlines` seem very crucial to the analysis, we will start by cleaning them and checking that the information present in both DataFrames match.\n",
    "\n",
    "2. **The \"products mess\":** This file seems to have many issues. We will leave it out for now and perform a proper exploration later to understand better what's going on there."
   ]
  },
  {
   "cell_type": "markdown",
   "metadata": {},
   "source": [
    "## Cleaning orders"
   ]
  },
  {
   "cell_type": "markdown",
   "metadata": {},
   "source": [
    "The data consistency check we will do with `orderlines` will involve two steps: \n",
    "\n",
    "* the initial and last dates of the orders should be the same\n",
    "* the sum of `total_paid` on both datasets should be the same\n",
    "\n",
    "Let's start by transforming the `created_date` of the orders DataFrame and looking for its earliest and latest values:"
   ]
  },
  {
   "cell_type": "code",
   "execution_count": 25,
   "metadata": {},
   "outputs": [
    {
     "name": "stdout",
     "output_type": "stream",
     "text": [
      "<class 'pandas.core.frame.DataFrame'>\n",
      "RangeIndex: 226909 entries, 0 to 226908\n",
      "Data columns (total 4 columns):\n",
      " #   Column        Non-Null Count   Dtype  \n",
      "---  ------        --------------   -----  \n",
      " 0   order_id      226909 non-null  int64  \n",
      " 1   created_date  226909 non-null  object \n",
      " 2   total_paid    226904 non-null  float64\n",
      " 3   state         226909 non-null  object \n",
      "dtypes: float64(1), int64(1), object(2)\n",
      "memory usage: 6.9+ MB\n"
     ]
    }
   ],
   "source": [
    "orders.info()"
   ]
  },
  {
   "cell_type": "code",
   "execution_count": 26,
   "metadata": {},
   "outputs": [],
   "source": [
    "# change date datatype\n",
    "orders['created_date'] = pd.to_datetime(orders['created_date'])"
   ]
  },
  {
   "cell_type": "code",
   "execution_count": 27,
   "metadata": {},
   "outputs": [
    {
     "data": {
      "text/plain": [
       "Timestamp('2017-01-01 00:07:19')"
      ]
     },
     "execution_count": 27,
     "metadata": {},
     "output_type": "execute_result"
    }
   ],
   "source": [
    "# earliest value\n",
    "min(orders['created_date'])"
   ]
  },
  {
   "cell_type": "code",
   "execution_count": 28,
   "metadata": {},
   "outputs": [
    {
     "data": {
      "text/plain": [
       "Timestamp('2018-03-14 13:58:36')"
      ]
     },
     "execution_count": 28,
     "metadata": {},
     "output_type": "execute_result"
    }
   ],
   "source": [
    "# latest value\n",
    "max(orders['created_date'])"
   ]
  },
  {
   "cell_type": "markdown",
   "metadata": {},
   "source": [
    "Now we will look at the overall sum of `total_paid` for the orders table:"
   ]
  },
  {
   "cell_type": "code",
   "execution_count": 29,
   "metadata": {},
   "outputs": [
    {
     "data": {
      "text/plain": [
       "nan"
      ]
     },
     "execution_count": 29,
     "metadata": {},
     "output_type": "execute_result"
    }
   ],
   "source": [
    "sum(orders['total_paid'])"
   ]
  },
  {
   "cell_type": "markdown",
   "metadata": {},
   "source": [
    "the result of the sum is a nan (not a number).\n",
    "here are missing values! We can explore them and see how they are all \"Pending\" orders:"
   ]
  },
  {
   "cell_type": "code",
   "execution_count": 30,
   "metadata": {},
   "outputs": [
    {
     "data": {
      "text/html": [
       "<div>\n",
       "<style scoped>\n",
       "    .dataframe tbody tr th:only-of-type {\n",
       "        vertical-align: middle;\n",
       "    }\n",
       "\n",
       "    .dataframe tbody tr th {\n",
       "        vertical-align: top;\n",
       "    }\n",
       "\n",
       "    .dataframe thead th {\n",
       "        text-align: right;\n",
       "    }\n",
       "</style>\n",
       "<table border=\"1\" class=\"dataframe\">\n",
       "  <thead>\n",
       "    <tr style=\"text-align: right;\">\n",
       "      <th></th>\n",
       "      <th>order_id</th>\n",
       "      <th>created_date</th>\n",
       "      <th>total_paid</th>\n",
       "      <th>state</th>\n",
       "    </tr>\n",
       "  </thead>\n",
       "  <tbody>\n",
       "    <tr>\n",
       "      <th>127701</th>\n",
       "      <td>427314</td>\n",
       "      <td>2017-11-20 18:54:39</td>\n",
       "      <td>NaN</td>\n",
       "      <td>Pending</td>\n",
       "    </tr>\n",
       "    <tr>\n",
       "      <th>132013</th>\n",
       "      <td>431655</td>\n",
       "      <td>2017-11-22 12:15:24</td>\n",
       "      <td>NaN</td>\n",
       "      <td>Pending</td>\n",
       "    </tr>\n",
       "    <tr>\n",
       "      <th>147316</th>\n",
       "      <td>447411</td>\n",
       "      <td>2017-11-27 10:32:37</td>\n",
       "      <td>NaN</td>\n",
       "      <td>Pending</td>\n",
       "    </tr>\n",
       "    <tr>\n",
       "      <th>148833</th>\n",
       "      <td>448966</td>\n",
       "      <td>2017-11-27 18:54:15</td>\n",
       "      <td>NaN</td>\n",
       "      <td>Pending</td>\n",
       "    </tr>\n",
       "    <tr>\n",
       "      <th>149434</th>\n",
       "      <td>449596</td>\n",
       "      <td>2017-11-27 21:52:08</td>\n",
       "      <td>NaN</td>\n",
       "      <td>Pending</td>\n",
       "    </tr>\n",
       "  </tbody>\n",
       "</table>\n",
       "</div>"
      ],
      "text/plain": [
       "        order_id        created_date  total_paid    state\n",
       "127701    427314 2017-11-20 18:54:39         NaN  Pending\n",
       "132013    431655 2017-11-22 12:15:24         NaN  Pending\n",
       "147316    447411 2017-11-27 10:32:37         NaN  Pending\n",
       "148833    448966 2017-11-27 18:54:15         NaN  Pending\n",
       "149434    449596 2017-11-27 21:52:08         NaN  Pending"
      ]
     },
     "execution_count": 30,
     "metadata": {},
     "output_type": "execute_result"
    }
   ],
   "source": [
    "orders.loc[orders['total_paid'].isna()]"
   ]
  },
  {
   "cell_type": "markdown",
   "metadata": {},
   "source": [
    "its not necessary, but i want to search the orderliness to find if this missed orders exist. then i calculate the total_price from the orderlines to this missed datas"
   ]
  },
  {
   "cell_type": "code",
   "execution_count": 32,
   "metadata": {},
   "outputs": [
    {
     "data": {
      "text/html": [
       "<div>\n",
       "<style scoped>\n",
       "    .dataframe tbody tr th:only-of-type {\n",
       "        vertical-align: middle;\n",
       "    }\n",
       "\n",
       "    .dataframe tbody tr th {\n",
       "        vertical-align: top;\n",
       "    }\n",
       "\n",
       "    .dataframe thead th {\n",
       "        text-align: right;\n",
       "    }\n",
       "</style>\n",
       "<table border=\"1\" class=\"dataframe\">\n",
       "  <thead>\n",
       "    <tr style=\"text-align: right;\">\n",
       "      <th></th>\n",
       "      <th>order_id</th>\n",
       "      <th>created_date</th>\n",
       "      <th>total_paid</th>\n",
       "      <th>state</th>\n",
       "      <th>check_orders</th>\n",
       "    </tr>\n",
       "  </thead>\n",
       "  <tbody>\n",
       "    <tr>\n",
       "      <th>127701</th>\n",
       "      <td>427314</td>\n",
       "      <td>2017-11-20 18:54:39</td>\n",
       "      <td>NaN</td>\n",
       "      <td>Pending</td>\n",
       "      <td>True</td>\n",
       "    </tr>\n",
       "    <tr>\n",
       "      <th>132013</th>\n",
       "      <td>431655</td>\n",
       "      <td>2017-11-22 12:15:24</td>\n",
       "      <td>NaN</td>\n",
       "      <td>Pending</td>\n",
       "      <td>True</td>\n",
       "    </tr>\n",
       "    <tr>\n",
       "      <th>147316</th>\n",
       "      <td>447411</td>\n",
       "      <td>2017-11-27 10:32:37</td>\n",
       "      <td>NaN</td>\n",
       "      <td>Pending</td>\n",
       "      <td>True</td>\n",
       "    </tr>\n",
       "    <tr>\n",
       "      <th>148833</th>\n",
       "      <td>448966</td>\n",
       "      <td>2017-11-27 18:54:15</td>\n",
       "      <td>NaN</td>\n",
       "      <td>Pending</td>\n",
       "      <td>True</td>\n",
       "    </tr>\n",
       "    <tr>\n",
       "      <th>149434</th>\n",
       "      <td>449596</td>\n",
       "      <td>2017-11-27 21:52:08</td>\n",
       "      <td>NaN</td>\n",
       "      <td>Pending</td>\n",
       "      <td>True</td>\n",
       "    </tr>\n",
       "  </tbody>\n",
       "</table>\n",
       "</div>"
      ],
      "text/plain": [
       "        order_id        created_date  total_paid    state  check_orders\n",
       "127701    427314 2017-11-20 18:54:39         NaN  Pending          True\n",
       "132013    431655 2017-11-22 12:15:24         NaN  Pending          True\n",
       "147316    447411 2017-11-27 10:32:37         NaN  Pending          True\n",
       "148833    448966 2017-11-27 18:54:15         NaN  Pending          True\n",
       "149434    449596 2017-11-27 21:52:08         NaN  Pending          True"
      ]
     },
     "execution_count": 32,
     "metadata": {},
     "output_type": "execute_result"
    }
   ],
   "source": [
    "missed_orders =(\n",
    "orders\n",
    "      .loc[orders['total_paid'].isna()]\n",
    ")\n",
    "\n",
    "missed_orders.assign(check_orders = missed_orders['order_id'].isin(orderlines['id_order']))"
   ]
  },
  {
   "cell_type": "markdown",
   "metadata": {},
   "source": [
    "we can recalculate all 5 missed values from orderlines, lets to calculate them "
   ]
  },
  {
   "cell_type": "code",
   "execution_count": 33,
   "metadata": {},
   "outputs": [
    {
     "data": {
      "text/html": [
       "<div>\n",
       "<style scoped>\n",
       "    .dataframe tbody tr th:only-of-type {\n",
       "        vertical-align: middle;\n",
       "    }\n",
       "\n",
       "    .dataframe tbody tr th {\n",
       "        vertical-align: top;\n",
       "    }\n",
       "\n",
       "    .dataframe thead th {\n",
       "        text-align: right;\n",
       "    }\n",
       "</style>\n",
       "<table border=\"1\" class=\"dataframe\">\n",
       "  <thead>\n",
       "    <tr style=\"text-align: right;\">\n",
       "      <th></th>\n",
       "      <th>order_id</th>\n",
       "      <th>repaired_total_price</th>\n",
       "    </tr>\n",
       "  </thead>\n",
       "  <tbody>\n",
       "    <tr>\n",
       "      <th>0</th>\n",
       "      <td>427314</td>\n",
       "      <td>75.99</td>\n",
       "    </tr>\n",
       "    <tr>\n",
       "      <th>1</th>\n",
       "      <td>431655</td>\n",
       "      <td>154.00</td>\n",
       "    </tr>\n",
       "    <tr>\n",
       "      <th>2</th>\n",
       "      <td>447411</td>\n",
       "      <td>180.76</td>\n",
       "    </tr>\n",
       "    <tr>\n",
       "      <th>3</th>\n",
       "      <td>448966</td>\n",
       "      <td>961.02</td>\n",
       "    </tr>\n",
       "    <tr>\n",
       "      <th>4</th>\n",
       "      <td>449596</td>\n",
       "      <td>1722.59</td>\n",
       "    </tr>\n",
       "  </tbody>\n",
       "</table>\n",
       "</div>"
      ],
      "text/plain": [
       "   order_id  repaired_total_price\n",
       "0    427314                 75.99\n",
       "1    431655                154.00\n",
       "2    447411                180.76\n",
       "3    448966                961.02\n",
       "4    449596               1722.59"
      ]
     },
     "execution_count": 33,
     "metadata": {},
     "output_type": "execute_result"
    }
   ],
   "source": [
    "missed_orders_total_paid = (\n",
    "missed_orders\n",
    "            .merge(\n",
    "                    orderlines, \n",
    "                    how= 'inner', \n",
    "                    left_on= 'order_id',\n",
    "                    right_on= 'id_order'\n",
    "                  )\n",
    "            .assign(unit_price_new = lambda df_ : df_['unit_price'].replace(r'(\\d*)\\.(\\d{3}\\.\\d{2})$', r'\\1\\2', regex= True).astype('float'))\n",
    "            .groupby('order_id')\n",
    "            .agg(repaired_total_price = ('unit_price_new', 'sum'))\n",
    "            .reset_index()\n",
    ")\n",
    "missed_orders_total_paid "
   ]
  },
  {
   "cell_type": "markdown",
   "metadata": {},
   "source": [
    "and now ill fill the missed values with my new values"
   ]
  },
  {
   "cell_type": "code",
   "execution_count": 34,
   "metadata": {},
   "outputs": [
    {
     "name": "stdout",
     "output_type": "stream",
     "text": [
      "<class 'pandas.core.frame.DataFrame'>\n",
      "RangeIndex: 226909 entries, 0 to 226908\n",
      "Data columns (total 4 columns):\n",
      " #   Column        Non-Null Count   Dtype         \n",
      "---  ------        --------------   -----         \n",
      " 0   order_id      226909 non-null  int64         \n",
      " 1   created_date  226909 non-null  datetime64[ns]\n",
      " 2   total_paid    226909 non-null  float64       \n",
      " 3   state         226909 non-null  object        \n",
      "dtypes: datetime64[ns](1), float64(1), int64(1), object(1)\n",
      "memory usage: 6.9+ MB\n"
     ]
    }
   ],
   "source": [
    "def get_total_price(order):\n",
    "  result = (\n",
    "            missed_orders_total_paid\n",
    "           .merge(\n",
    "                  order,\n",
    "                  how= 'right',\n",
    "                  left_on= 'order_id',\n",
    "                  right_on= 'order_id'\n",
    "                  )\n",
    "           .loc[:,'repaired_total_price']\n",
    "  )\n",
    "  return result\n",
    "\n",
    "orders = orders.fillna(value ={\"total_paid\" : get_total_price(orders['order_id']) })\n",
    "\n",
    "orders.info()"
   ]
  },
  {
   "cell_type": "markdown",
   "metadata": {},
   "source": [
    "**extra** : Since these orders are only a tiny fraction and there's a valid reason why the total_paid value is missing, we could simply exclude them from the dataset."
   ]
  },
  {
   "cell_type": "code",
   "execution_count": null,
   "metadata": {},
   "outputs": [],
   "source": [
    "# orders.dropna(inplace=True)"
   ]
  },
  {
   "cell_type": "markdown",
   "metadata": {},
   "source": [
    "Now the dataset is clean. And the total paid is: "
   ]
  },
  {
   "cell_type": "code",
   "execution_count": 35,
   "metadata": {},
   "outputs": [
    {
     "data": {
      "text/plain": [
       "129162709.42991276"
      ]
     },
     "execution_count": 35,
     "metadata": {},
     "output_type": "execute_result"
    }
   ],
   "source": [
    "sum(orders['total_paid'])"
   ]
  },
  {
   "cell_type": "markdown",
   "metadata": {},
   "source": [
    "## Cleaning orderlines"
   ]
  },
  {
   "cell_type": "markdown",
   "metadata": {},
   "source": [
    "Following our data consistency check, will now gather in the orderlines DataFrame the same information we got from orders:\n",
    "\n",
    "* the initial and last dates\n",
    "* the sum of `total_paid`\n",
    "\n",
    "\n",
    "First let's transform our date time:"
   ]
  },
  {
   "cell_type": "code",
   "execution_count": 36,
   "metadata": {},
   "outputs": [],
   "source": [
    "orderlines['date'] = pd.to_datetime(orderlines['date'])"
   ]
  },
  {
   "cell_type": "code",
   "execution_count": 37,
   "metadata": {},
   "outputs": [
    {
     "data": {
      "text/plain": [
       "Timestamp('2017-01-01 00:07:19')"
      ]
     },
     "execution_count": 37,
     "metadata": {},
     "output_type": "execute_result"
    }
   ],
   "source": [
    "min(orderlines['date'])\n",
    "# orders: Timestamp('2017-01-01 00:07:19')"
   ]
  },
  {
   "cell_type": "code",
   "execution_count": 38,
   "metadata": {},
   "outputs": [
    {
     "data": {
      "text/plain": [
       "Timestamp('2018-03-14 13:58:36')"
      ]
     },
     "execution_count": 38,
     "metadata": {},
     "output_type": "execute_result"
    }
   ],
   "source": [
    "max(orderlines['date'])\n",
    "# orders: Timestamp('2018-03-14 13:58:36')"
   ]
  },
  {
   "cell_type": "markdown",
   "metadata": {},
   "source": [
    "**It's a match!**\n",
    "\n",
    "Now let's check the `total_paid` for orderlines:"
   ]
  },
  {
   "cell_type": "code",
   "execution_count": 39,
   "metadata": {},
   "outputs": [
    {
     "data": {
      "text/html": [
       "<div>\n",
       "<style scoped>\n",
       "    .dataframe tbody tr th:only-of-type {\n",
       "        vertical-align: middle;\n",
       "    }\n",
       "\n",
       "    .dataframe tbody tr th {\n",
       "        vertical-align: top;\n",
       "    }\n",
       "\n",
       "    .dataframe thead th {\n",
       "        text-align: right;\n",
       "    }\n",
       "</style>\n",
       "<table border=\"1\" class=\"dataframe\">\n",
       "  <thead>\n",
       "    <tr style=\"text-align: right;\">\n",
       "      <th></th>\n",
       "      <th>id</th>\n",
       "      <th>id_order</th>\n",
       "      <th>product_id</th>\n",
       "      <th>product_quantity</th>\n",
       "      <th>sku</th>\n",
       "      <th>unit_price</th>\n",
       "      <th>date</th>\n",
       "    </tr>\n",
       "  </thead>\n",
       "  <tbody>\n",
       "    <tr>\n",
       "      <th>0</th>\n",
       "      <td>1119109</td>\n",
       "      <td>299539</td>\n",
       "      <td>0</td>\n",
       "      <td>1</td>\n",
       "      <td>OTT0133</td>\n",
       "      <td>18.99</td>\n",
       "      <td>2017-01-01 00:07:19</td>\n",
       "    </tr>\n",
       "    <tr>\n",
       "      <th>1</th>\n",
       "      <td>1119110</td>\n",
       "      <td>299540</td>\n",
       "      <td>0</td>\n",
       "      <td>1</td>\n",
       "      <td>LGE0043</td>\n",
       "      <td>399.00</td>\n",
       "      <td>2017-01-01 00:19:45</td>\n",
       "    </tr>\n",
       "    <tr>\n",
       "      <th>2</th>\n",
       "      <td>1119111</td>\n",
       "      <td>299541</td>\n",
       "      <td>0</td>\n",
       "      <td>1</td>\n",
       "      <td>PAR0071</td>\n",
       "      <td>474.05</td>\n",
       "      <td>2017-01-01 00:20:57</td>\n",
       "    </tr>\n",
       "  </tbody>\n",
       "</table>\n",
       "</div>"
      ],
      "text/plain": [
       "        id  id_order  product_id  product_quantity      sku unit_price  \\\n",
       "0  1119109    299539           0                 1  OTT0133      18.99   \n",
       "1  1119110    299540           0                 1  LGE0043     399.00   \n",
       "2  1119111    299541           0                 1  PAR0071     474.05   \n",
       "\n",
       "                 date  \n",
       "0 2017-01-01 00:07:19  \n",
       "1 2017-01-01 00:19:45  \n",
       "2 2017-01-01 00:20:57  "
      ]
     },
     "execution_count": 39,
     "metadata": {},
     "output_type": "execute_result"
    }
   ],
   "source": [
    "orderlines.head(3)"
   ]
  },
  {
   "cell_type": "markdown",
   "metadata": {},
   "source": [
    "To get this value, we will have to calculate a new column, total price for each row. It would be product_quantity * unit_price. This operation will require that both columns have a numeric data type:"
   ]
  },
  {
   "cell_type": "code",
   "execution_count": 40,
   "metadata": {},
   "outputs": [
    {
     "data": {
      "text/plain": [
       "id                           int64\n",
       "id_order                     int64\n",
       "product_id                   int64\n",
       "product_quantity             int64\n",
       "sku                         object\n",
       "unit_price                  object\n",
       "date                datetime64[ns]\n",
       "dtype: object"
      ]
     },
     "execution_count": 40,
     "metadata": {},
     "output_type": "execute_result"
    }
   ],
   "source": [
    "orderlines.dtypes"
   ]
  },
  {
   "cell_type": "markdown",
   "metadata": {},
   "source": [
    "...it's not the case right now, so we will have to transform the unit_price to a numeric data type.\n"
   ]
  },
  {
   "cell_type": "code",
   "execution_count": null,
   "metadata": {},
   "outputs": [],
   "source": [
    "# uncomment the line of code below and read the error it produces:\n",
    "# orderlines['product_quantity']*pd.to_numeric(orderlines['unit_price'])"
   ]
  },
  {
   "cell_type": "markdown",
   "metadata": {},
   "source": [
    "While trying to transform this column to numeric an error appears. From the error message,\n",
    "\n",
    "\"Unable to parse string '1.137.99' at position 6\"\n",
    "\n",
    "it seems that our dataset has some problems with the thousands separators: they were encoded as dots, and Python & pandas only admit one dot per number: the decimal separator!\n",
    "\n",
    "Lesson learned: do not use thousand separators in databases / statistical software / programming languages! Sadly, it's too late for us, and we will have to deal with the issue.\n",
    "\n",
    "There are many ways to approach this problem."
   ]
  },
  {
   "cell_type": "markdown",
   "metadata": {},
   "source": [
    "i use a replace regex pattern to remove the thousand point, and then i convert the unit price to float. and add the new values in a new column \"new_unit_price\""
   ]
  },
  {
   "cell_type": "code",
   "execution_count": 44,
   "metadata": {},
   "outputs": [],
   "source": [
    "orderlines= (\n",
    "orderlines    \n",
    "        .assign(new_unit_price = lambda df_ : df_['unit_price'].replace(r'(\\d*)\\.(\\d{3}\\.\\d{2})$', r'\\1\\2', regex= True).astype('float'))\n",
    ")"
   ]
  },
  {
   "cell_type": "code",
   "execution_count": 41,
   "metadata": {},
   "outputs": [
    {
     "name": "stdout",
     "output_type": "stream",
     "text": [
      "<class 'pandas.core.frame.DataFrame'>\n",
      "RangeIndex: 293983 entries, 0 to 293982\n",
      "Data columns (total 7 columns):\n",
      " #   Column            Non-Null Count   Dtype         \n",
      "---  ------            --------------   -----         \n",
      " 0   id                293983 non-null  int64         \n",
      " 1   id_order          293983 non-null  int64         \n",
      " 2   product_id        293983 non-null  int64         \n",
      " 3   product_quantity  293983 non-null  int64         \n",
      " 4   sku               293983 non-null  object        \n",
      " 5   unit_price        293983 non-null  object        \n",
      " 6   date              293983 non-null  datetime64[ns]\n",
      "dtypes: datetime64[ns](1), int64(4), object(2)\n",
      "memory usage: 15.7+ MB\n"
     ]
    }
   ],
   "source": [
    "orderlines.info()"
   ]
  },
  {
   "cell_type": "markdown",
   "metadata": {},
   "source": [
    "Data cleaning done! \n",
    "\n",
    "Back to data consistency: Now it is time to multiply `product_quantity` and `unit price`, sum all the rows and check whether the value matches the sum of the `total_paid` from the orders DataFrame: "
   ]
  },
  {
   "cell_type": "code",
   "execution_count": 49,
   "metadata": {},
   "outputs": [
    {
     "data": {
      "text/plain": [
       "128776222.02999999"
      ]
     },
     "execution_count": 49,
     "metadata": {},
     "output_type": "execute_result"
    }
   ],
   "source": [
    "# create a new column \"total_price\" by multiplying product_quantity times unit_price\n",
    "orderlines =(\n",
    "orderlines\n",
    "        .assign(total_price = lambda df_ : df_['product_quantity'] * df_['new_unit_price'])\n",
    ")\n",
    "\n",
    "# sum of the new column \"total_price\":\n",
    "orderlines['total_price'].sum()"
   ]
  },
  {
   "cell_type": "markdown",
   "metadata": {},
   "source": [
    "Sadly, it does not match exactly with the sum of `total_paid` from orders:"
   ]
  },
  {
   "cell_type": "code",
   "execution_count": 48,
   "metadata": {},
   "outputs": [
    {
     "data": {
      "text/plain": [
       "129162709.43"
      ]
     },
     "execution_count": 48,
     "metadata": {},
     "output_type": "execute_result"
    }
   ],
   "source": [
    "orders['total_paid'].sum()"
   ]
  },
  {
   "cell_type": "markdown",
   "metadata": {},
   "source": [
    "The mismatch is about 386 thousand dollars, a non-neglegible amount of money:"
   ]
  },
  {
   "cell_type": "code",
   "execution_count": 50,
   "metadata": {},
   "outputs": [
    {
     "data": {
      "text/plain": [
       "-386487.40000002086"
      ]
     },
     "execution_count": 50,
     "metadata": {},
     "output_type": "execute_result"
    }
   ],
   "source": [
    "orderlines['total_price'].sum() - orders['total_paid'].sum()"
   ]
  },
  {
   "cell_type": "markdown",
   "metadata": {},
   "source": [
    "## Cleaning products"
   ]
  },
  {
   "cell_type": "markdown",
   "metadata": {},
   "source": [
    "Now it is time to clean the products dataset. Let's do a quick review of its major problems: "
   ]
  },
  {
   "cell_type": "code",
   "execution_count": 53,
   "metadata": {},
   "outputs": [
    {
     "name": "stdout",
     "output_type": "stream",
     "text": [
      "<class 'pandas.core.frame.DataFrame'>\n",
      "RangeIndex: 19326 entries, 0 to 19325\n",
      "Data columns (total 7 columns):\n",
      " #   Column       Non-Null Count  Dtype \n",
      "---  ------       --------------  ----- \n",
      " 0   sku          19326 non-null  object\n",
      " 1   name         19326 non-null  object\n",
      " 2   desc         19319 non-null  object\n",
      " 3   price        19280 non-null  object\n",
      " 4   promo_price  19326 non-null  object\n",
      " 5   in_stock     19326 non-null  int64 \n",
      " 6   type         19276 non-null  object\n",
      "dtypes: int64(1), object(6)\n",
      "memory usage: 1.0+ MB\n",
      "None \n",
      "\n",
      "Missing values: sku             0\n",
      "name            0\n",
      "desc            7\n",
      "price          46\n",
      "promo_price     0\n",
      "in_stock        0\n",
      "type           50\n",
      "dtype: int64 \n",
      "\n",
      "Duplicate rows: 8746\n",
      "Duplicate rows: 8747\n"
     ]
    }
   ],
   "source": [
    "print(products.info(), \"\\n\")\n",
    "print(\"Missing values:\", products.isna().sum(), \"\\n\")\n",
    "print(\"Duplicate rows:\", products.duplicated().sum())\n",
    "print(\"Duplicate rows:\", products.duplicated(subset='sku').sum())"
   ]
  },
  {
   "cell_type": "markdown",
   "metadata": {},
   "source": [
    "Looking at this overview, we can see that there are different things that have to be changed: \n",
    "\n",
    "* Data types: \n",
    "    * `price` should be a float\n",
    "    * `promo price` should be a float\n",
    "* Duplicated rows. They have to be removed. \n",
    "    * To accomplish this step you can use the method `pd.DataFrame.drop_duplicates()`. Be sure you drop all the duplicates based on the column **sku**, as it is the one you will use to merge with orderlines. \n",
    "* Missing values: \n",
    "    * Description maybe can be inferred by the name\n",
    "    * `price`. Is there a way we can extract the information from another table?\n",
    "    * `type`. Do we need this column for our analysis?\n",
    "    \n",
    "This task can be accomoplished by using all the methods you already know."
   ]
  },
  {
   "cell_type": "markdown",
   "metadata": {},
   "source": [
    "*Duplicates*"
   ]
  },
  {
   "cell_type": "code",
   "execution_count": 56,
   "metadata": {},
   "outputs": [],
   "source": [
    "products.drop_duplicates(subset= 'sku', inplace= True)"
   ]
  },
  {
   "cell_type": "markdown",
   "metadata": {},
   "source": [
    "*Deal with the \"price\" column*"
   ]
  },
  {
   "cell_type": "markdown",
   "metadata": {},
   "source": [
    "at first step, we will check if the **missed** price are exist in orderlines, that means are they sold and important to us.\n",
    "we just chek the missed prices sku if is in orderlines sku s"
   ]
  },
  {
   "cell_type": "code",
   "execution_count": 85,
   "metadata": {},
   "outputs": [
    {
     "data": {
      "text/html": [
       "<div>\n",
       "<style scoped>\n",
       "    .dataframe tbody tr th:only-of-type {\n",
       "        vertical-align: middle;\n",
       "    }\n",
       "\n",
       "    .dataframe tbody tr th {\n",
       "        vertical-align: top;\n",
       "    }\n",
       "\n",
       "    .dataframe thead th {\n",
       "        text-align: right;\n",
       "    }\n",
       "</style>\n",
       "<table border=\"1\" class=\"dataframe\">\n",
       "  <thead>\n",
       "    <tr style=\"text-align: right;\">\n",
       "      <th></th>\n",
       "      <th>sku</th>\n",
       "      <th>name</th>\n",
       "      <th>desc</th>\n",
       "      <th>price</th>\n",
       "      <th>promo_price</th>\n",
       "      <th>in_stock</th>\n",
       "      <th>type</th>\n",
       "    </tr>\n",
       "  </thead>\n",
       "  <tbody>\n",
       "    <tr>\n",
       "      <th>34</th>\n",
       "      <td>TWS0019</td>\n",
       "      <td>Twelve South MagicWand support Apple Magic Tra...</td>\n",
       "      <td>MagicWand for wireless keyboard and Magic Trac...</td>\n",
       "      <td>NaN</td>\n",
       "      <td>299.899</td>\n",
       "      <td>0</td>\n",
       "      <td>8696</td>\n",
       "    </tr>\n",
       "    <tr>\n",
       "      <th>2042</th>\n",
       "      <td>CEL0007</td>\n",
       "      <td>Celly Wallet Case with removable cover Black i...</td>\n",
       "      <td>Case Book for iPhone 6 card case type.</td>\n",
       "      <td>NaN</td>\n",
       "      <td>128.998</td>\n",
       "      <td>0</td>\n",
       "      <td>11865403</td>\n",
       "    </tr>\n",
       "    <tr>\n",
       "      <th>2043</th>\n",
       "      <td>CEL0012</td>\n",
       "      <td>Celly Silicone Hard Shell iPhone 6 Blue</td>\n",
       "      <td>Hard Shell Silicone iPhone 6.</td>\n",
       "      <td>NaN</td>\n",
       "      <td>4.99</td>\n",
       "      <td>0</td>\n",
       "      <td>11865403</td>\n",
       "    </tr>\n",
       "    <tr>\n",
       "      <th>2049</th>\n",
       "      <td>CEL0015</td>\n",
       "      <td>Celly fur-lined Powerbank battery 4000mAh Black</td>\n",
       "      <td>Leather-wrapped External Battery 4000mAh for i...</td>\n",
       "      <td>NaN</td>\n",
       "      <td>239.895</td>\n",
       "      <td>0</td>\n",
       "      <td>1515</td>\n",
       "    </tr>\n",
       "    <tr>\n",
       "      <th>2052</th>\n",
       "      <td>CEL0023</td>\n",
       "      <td>Celly Ambo Luxury Leather Case + Case Gold iPh...</td>\n",
       "      <td>Cover and housing together with magnet for iPh...</td>\n",
       "      <td>NaN</td>\n",
       "      <td>329.894</td>\n",
       "      <td>0</td>\n",
       "      <td>11865403</td>\n",
       "    </tr>\n",
       "    <tr>\n",
       "      <th>12052</th>\n",
       "      <td>CEL0028</td>\n",
       "      <td>Celly Swing Arm button selfie with Bluetooth B...</td>\n",
       "      <td>selfie extendable arm for iPhone</td>\n",
       "      <td>NaN</td>\n",
       "      <td>59.895</td>\n",
       "      <td>0</td>\n",
       "      <td>11905404</td>\n",
       "    </tr>\n",
       "    <tr>\n",
       "      <th>12053</th>\n",
       "      <td>CEL0029</td>\n",
       "      <td>Celly extensible arm selfie with Bluetooth but...</td>\n",
       "      <td>selfie extendable arm for iPhone</td>\n",
       "      <td>NaN</td>\n",
       "      <td>69.902</td>\n",
       "      <td>0</td>\n",
       "      <td>5720</td>\n",
       "    </tr>\n",
       "    <tr>\n",
       "      <th>12054</th>\n",
       "      <td>CEL0030</td>\n",
       "      <td>Celly Smart Drive Housing + clip car holder iP...</td>\n",
       "      <td>Magnetic holder for car Compatible iPhone 5 5s...</td>\n",
       "      <td>NaN</td>\n",
       "      <td>89.903</td>\n",
       "      <td>0</td>\n",
       "      <td>5720</td>\n",
       "    </tr>\n",
       "    <tr>\n",
       "      <th>12061</th>\n",
       "      <td>CEL0043</td>\n",
       "      <td>Celly Fluor Case iPhone 6 / 6S Pink / Transparent</td>\n",
       "      <td>Protective Case for iPhone 6 and 6s</td>\n",
       "      <td>NaN</td>\n",
       "      <td>99.898</td>\n",
       "      <td>0</td>\n",
       "      <td>11865403</td>\n",
       "    </tr>\n",
       "    <tr>\n",
       "      <th>12062</th>\n",
       "      <td>CEL0044</td>\n",
       "      <td>Celly iPhone Case Fluor 6s / 6 Yellow / Transp...</td>\n",
       "      <td>protective case with two colors for iPhone 6 a...</td>\n",
       "      <td>NaN</td>\n",
       "      <td>79.896</td>\n",
       "      <td>1</td>\n",
       "      <td>11865403</td>\n",
       "    </tr>\n",
       "    <tr>\n",
       "      <th>12067</th>\n",
       "      <td>CEL0033</td>\n",
       "      <td>Celly Waterproof iPad Case / Air / Pro 97 \"Tra...</td>\n",
       "      <td>waterproof protective case for iPad bag format...</td>\n",
       "      <td>NaN</td>\n",
       "      <td>149.895</td>\n",
       "      <td>0</td>\n",
       "      <td>12635403</td>\n",
       "    </tr>\n",
       "    <tr>\n",
       "      <th>12070</th>\n",
       "      <td>CEL0036</td>\n",
       "      <td>Celly Adapter Micro USB connector to Lightning...</td>\n",
       "      <td>Micro USB adapter cable connection Lightning</td>\n",
       "      <td>NaN</td>\n",
       "      <td>89.903</td>\n",
       "      <td>1</td>\n",
       "      <td>14365395</td>\n",
       "    </tr>\n",
       "    <tr>\n",
       "      <th>12071</th>\n",
       "      <td>CEL0051</td>\n",
       "      <td>Celly 4000mAh Battery Power Bank Aluminum Dorado</td>\n",
       "      <td>external battery capacity 4000mAh output volta...</td>\n",
       "      <td>NaN</td>\n",
       "      <td>129.894</td>\n",
       "      <td>0</td>\n",
       "      <td>1515</td>\n",
       "    </tr>\n",
       "    <tr>\n",
       "      <th>12072</th>\n",
       "      <td>CEL0052</td>\n",
       "      <td>Celly 4000mAh Battery Power Bank Aluminum Silver</td>\n",
       "      <td>external battery capacity 4000mAh output volta...</td>\n",
       "      <td>NaN</td>\n",
       "      <td>199.892</td>\n",
       "      <td>0</td>\n",
       "      <td>1515</td>\n",
       "    </tr>\n",
       "    <tr>\n",
       "      <th>12075</th>\n",
       "      <td>CEL0055</td>\n",
       "      <td>Celly IceCube Case iPhone 6 / 6S White</td>\n",
       "      <td>Anti-shock Case for iPhone 6 / 6S</td>\n",
       "      <td>NaN</td>\n",
       "      <td>119.899</td>\n",
       "      <td>0</td>\n",
       "      <td>11865403</td>\n",
       "    </tr>\n",
       "    <tr>\n",
       "      <th>12076</th>\n",
       "      <td>CEL0056</td>\n",
       "      <td>IceCube Celly iPhone Case 6 / 6s Amarillo</td>\n",
       "      <td>Anti-shock Case for iPhone 6 / 6S</td>\n",
       "      <td>NaN</td>\n",
       "      <td>119.899</td>\n",
       "      <td>0</td>\n",
       "      <td>11865403</td>\n",
       "    </tr>\n",
       "    <tr>\n",
       "      <th>12078</th>\n",
       "      <td>CEL0058</td>\n",
       "      <td>Celly IceCube Case iPhone 6 / 6S Plus Rosa</td>\n",
       "      <td>Anti-shock Case for iPhone 6 / 6S Plus</td>\n",
       "      <td>NaN</td>\n",
       "      <td>99.898</td>\n",
       "      <td>0</td>\n",
       "      <td>11865403</td>\n",
       "    </tr>\n",
       "    <tr>\n",
       "      <th>12079</th>\n",
       "      <td>CEL0059</td>\n",
       "      <td>Celly IceCube Case iPhone 6 / 6S Plus White</td>\n",
       "      <td>Anti-shock Case for iPhone 6 / 6S Plus</td>\n",
       "      <td>NaN</td>\n",
       "      <td>119.899</td>\n",
       "      <td>0</td>\n",
       "      <td>11865403</td>\n",
       "    </tr>\n",
       "    <tr>\n",
       "      <th>12089</th>\n",
       "      <td>CEL0041</td>\n",
       "      <td>Celly iPhone 6S Plus Frost Case Black</td>\n",
       "      <td>Ultra Thin Case for iPhone 6 and 6s</td>\n",
       "      <td>NaN</td>\n",
       "      <td>89.903</td>\n",
       "      <td>0</td>\n",
       "      <td>11865403</td>\n",
       "    </tr>\n",
       "    <tr>\n",
       "      <th>12092</th>\n",
       "      <td>CEL0045</td>\n",
       "      <td>Laser Case Celly iPhone 6 / 6S Dark Silver</td>\n",
       "      <td>Protective Case for iPhone 6 and 6s</td>\n",
       "      <td>NaN</td>\n",
       "      <td>149.895</td>\n",
       "      <td>0</td>\n",
       "      <td>11865403</td>\n",
       "    </tr>\n",
       "    <tr>\n",
       "      <th>12093</th>\n",
       "      <td>CEL0046</td>\n",
       "      <td>Laser Case Celly iPhone 6 / 6S Clear Silver</td>\n",
       "      <td>Protective Case for iPhone 6 and 6s</td>\n",
       "      <td>NaN</td>\n",
       "      <td>149.895</td>\n",
       "      <td>0</td>\n",
       "      <td>11865403</td>\n",
       "    </tr>\n",
       "    <tr>\n",
       "      <th>12096</th>\n",
       "      <td>CEL0048</td>\n",
       "      <td>Laser Case Celly iPhone 6 / 6S Rosa</td>\n",
       "      <td>Protective Case for iPhone 6 and 6s</td>\n",
       "      <td>NaN</td>\n",
       "      <td>149.895</td>\n",
       "      <td>0</td>\n",
       "      <td>11865403</td>\n",
       "    </tr>\n",
       "    <tr>\n",
       "      <th>12100</th>\n",
       "      <td>CEL0037</td>\n",
       "      <td>Celly Frost Cover for iPhone 6 / 6S Black</td>\n",
       "      <td>Ultra Thin Case for iPhone 6 and 6s</td>\n",
       "      <td>NaN</td>\n",
       "      <td>99.898</td>\n",
       "      <td>0</td>\n",
       "      <td>11865403</td>\n",
       "    </tr>\n",
       "  </tbody>\n",
       "</table>\n",
       "</div>"
      ],
      "text/plain": [
       "           sku                                               name  \\\n",
       "34     TWS0019  Twelve South MagicWand support Apple Magic Tra...   \n",
       "2042   CEL0007  Celly Wallet Case with removable cover Black i...   \n",
       "2043   CEL0012            Celly Silicone Hard Shell iPhone 6 Blue   \n",
       "2049   CEL0015    Celly fur-lined Powerbank battery 4000mAh Black   \n",
       "2052   CEL0023  Celly Ambo Luxury Leather Case + Case Gold iPh...   \n",
       "12052  CEL0028  Celly Swing Arm button selfie with Bluetooth B...   \n",
       "12053  CEL0029  Celly extensible arm selfie with Bluetooth but...   \n",
       "12054  CEL0030  Celly Smart Drive Housing + clip car holder iP...   \n",
       "12061  CEL0043  Celly Fluor Case iPhone 6 / 6S Pink / Transparent   \n",
       "12062  CEL0044  Celly iPhone Case Fluor 6s / 6 Yellow / Transp...   \n",
       "12067  CEL0033  Celly Waterproof iPad Case / Air / Pro 97 \"Tra...   \n",
       "12070  CEL0036  Celly Adapter Micro USB connector to Lightning...   \n",
       "12071  CEL0051   Celly 4000mAh Battery Power Bank Aluminum Dorado   \n",
       "12072  CEL0052   Celly 4000mAh Battery Power Bank Aluminum Silver   \n",
       "12075  CEL0055             Celly IceCube Case iPhone 6 / 6S White   \n",
       "12076  CEL0056          IceCube Celly iPhone Case 6 / 6s Amarillo   \n",
       "12078  CEL0058         Celly IceCube Case iPhone 6 / 6S Plus Rosa   \n",
       "12079  CEL0059        Celly IceCube Case iPhone 6 / 6S Plus White   \n",
       "12089  CEL0041              Celly iPhone 6S Plus Frost Case Black   \n",
       "12092  CEL0045         Laser Case Celly iPhone 6 / 6S Dark Silver   \n",
       "12093  CEL0046        Laser Case Celly iPhone 6 / 6S Clear Silver   \n",
       "12096  CEL0048                Laser Case Celly iPhone 6 / 6S Rosa   \n",
       "12100  CEL0037          Celly Frost Cover for iPhone 6 / 6S Black   \n",
       "\n",
       "                                                    desc price promo_price  \\\n",
       "34     MagicWand for wireless keyboard and Magic Trac...   NaN     299.899   \n",
       "2042              Case Book for iPhone 6 card case type.   NaN     128.998   \n",
       "2043                       Hard Shell Silicone iPhone 6.   NaN        4.99   \n",
       "2049   Leather-wrapped External Battery 4000mAh for i...   NaN     239.895   \n",
       "2052   Cover and housing together with magnet for iPh...   NaN     329.894   \n",
       "12052                   selfie extendable arm for iPhone   NaN      59.895   \n",
       "12053                   selfie extendable arm for iPhone   NaN      69.902   \n",
       "12054  Magnetic holder for car Compatible iPhone 5 5s...   NaN      89.903   \n",
       "12061                Protective Case for iPhone 6 and 6s   NaN      99.898   \n",
       "12062  protective case with two colors for iPhone 6 a...   NaN      79.896   \n",
       "12067  waterproof protective case for iPad bag format...   NaN     149.895   \n",
       "12070       Micro USB adapter cable connection Lightning   NaN      89.903   \n",
       "12071  external battery capacity 4000mAh output volta...   NaN     129.894   \n",
       "12072  external battery capacity 4000mAh output volta...   NaN     199.892   \n",
       "12075                  Anti-shock Case for iPhone 6 / 6S   NaN     119.899   \n",
       "12076                  Anti-shock Case for iPhone 6 / 6S   NaN     119.899   \n",
       "12078             Anti-shock Case for iPhone 6 / 6S Plus   NaN      99.898   \n",
       "12079             Anti-shock Case for iPhone 6 / 6S Plus   NaN     119.899   \n",
       "12089                Ultra Thin Case for iPhone 6 and 6s   NaN      89.903   \n",
       "12092                Protective Case for iPhone 6 and 6s   NaN     149.895   \n",
       "12093                Protective Case for iPhone 6 and 6s   NaN     149.895   \n",
       "12096                Protective Case for iPhone 6 and 6s   NaN     149.895   \n",
       "12100                Ultra Thin Case for iPhone 6 and 6s   NaN      99.898   \n",
       "\n",
       "       in_stock      type  \n",
       "34            0      8696  \n",
       "2042          0  11865403  \n",
       "2043          0  11865403  \n",
       "2049          0      1515  \n",
       "2052          0  11865403  \n",
       "12052         0  11905404  \n",
       "12053         0      5720  \n",
       "12054         0      5720  \n",
       "12061         0  11865403  \n",
       "12062         1  11865403  \n",
       "12067         0  12635403  \n",
       "12070         1  14365395  \n",
       "12071         0      1515  \n",
       "12072         0      1515  \n",
       "12075         0  11865403  \n",
       "12076         0  11865403  \n",
       "12078         0  11865403  \n",
       "12079         0  11865403  \n",
       "12089         0  11865403  \n",
       "12092         0  11865403  \n",
       "12093         0  11865403  \n",
       "12096         0  11865403  \n",
       "12100         0  11865403  "
      ]
     },
     "execution_count": 85,
     "metadata": {},
     "output_type": "execute_result"
    }
   ],
   "source": [
    "\n",
    "(\n",
    "    products\n",
    "            .loc[lambda df_ : df_['price'].isna()]\n",
    "            .loc[lambda df_ : df_['sku'].isin(orderlines['sku'])]\n",
    ")"
   ]
  },
  {
   "cell_type": "markdown",
   "metadata": {},
   "source": [
    "the rows that didnt appear in orderlines, they didnt sold at all, and we can delete them, but the others we can easilly recalculate the missed value for them.\n",
    "for this i will give the recoverable missed value 0, and then use dropna() for delete the others"
   ]
  },
  {
   "cell_type": "code",
   "execution_count": 98,
   "metadata": {},
   "outputs": [
    {
     "data": {
      "text/html": [
       "<div>\n",
       "<style scoped>\n",
       "    .dataframe tbody tr th:only-of-type {\n",
       "        vertical-align: middle;\n",
       "    }\n",
       "\n",
       "    .dataframe tbody tr th {\n",
       "        vertical-align: top;\n",
       "    }\n",
       "\n",
       "    .dataframe thead th {\n",
       "        text-align: right;\n",
       "    }\n",
       "</style>\n",
       "<table border=\"1\" class=\"dataframe\">\n",
       "  <thead>\n",
       "    <tr style=\"text-align: right;\">\n",
       "      <th></th>\n",
       "      <th>sku</th>\n",
       "      <th>name</th>\n",
       "      <th>desc</th>\n",
       "      <th>price</th>\n",
       "      <th>promo_price</th>\n",
       "      <th>in_stock</th>\n",
       "      <th>type</th>\n",
       "      <th>new_price</th>\n",
       "    </tr>\n",
       "  </thead>\n",
       "  <tbody>\n",
       "    <tr>\n",
       "      <th>34</th>\n",
       "      <td>TWS0019</td>\n",
       "      <td>Twelve South MagicWand support Apple Magic Tra...</td>\n",
       "      <td>MagicWand for wireless keyboard and Magic Trac...</td>\n",
       "      <td>NaN</td>\n",
       "      <td>299.899</td>\n",
       "      <td>0</td>\n",
       "      <td>8696</td>\n",
       "      <td>0</td>\n",
       "    </tr>\n",
       "    <tr>\n",
       "      <th>2042</th>\n",
       "      <td>CEL0007</td>\n",
       "      <td>Celly Wallet Case with removable cover Black i...</td>\n",
       "      <td>Case Book for iPhone 6 card case type.</td>\n",
       "      <td>NaN</td>\n",
       "      <td>128.998</td>\n",
       "      <td>0</td>\n",
       "      <td>11865403</td>\n",
       "      <td>0</td>\n",
       "    </tr>\n",
       "    <tr>\n",
       "      <th>2043</th>\n",
       "      <td>CEL0012</td>\n",
       "      <td>Celly Silicone Hard Shell iPhone 6 Blue</td>\n",
       "      <td>Hard Shell Silicone iPhone 6.</td>\n",
       "      <td>NaN</td>\n",
       "      <td>4.99</td>\n",
       "      <td>0</td>\n",
       "      <td>11865403</td>\n",
       "      <td>0</td>\n",
       "    </tr>\n",
       "    <tr>\n",
       "      <th>2049</th>\n",
       "      <td>CEL0015</td>\n",
       "      <td>Celly fur-lined Powerbank battery 4000mAh Black</td>\n",
       "      <td>Leather-wrapped External Battery 4000mAh for i...</td>\n",
       "      <td>NaN</td>\n",
       "      <td>239.895</td>\n",
       "      <td>0</td>\n",
       "      <td>1515</td>\n",
       "      <td>0</td>\n",
       "    </tr>\n",
       "    <tr>\n",
       "      <th>2052</th>\n",
       "      <td>CEL0023</td>\n",
       "      <td>Celly Ambo Luxury Leather Case + Case Gold iPh...</td>\n",
       "      <td>Cover and housing together with magnet for iPh...</td>\n",
       "      <td>NaN</td>\n",
       "      <td>329.894</td>\n",
       "      <td>0</td>\n",
       "      <td>11865403</td>\n",
       "      <td>0</td>\n",
       "    </tr>\n",
       "    <tr>\n",
       "      <th>12052</th>\n",
       "      <td>CEL0028</td>\n",
       "      <td>Celly Swing Arm button selfie with Bluetooth B...</td>\n",
       "      <td>selfie extendable arm for iPhone</td>\n",
       "      <td>NaN</td>\n",
       "      <td>59.895</td>\n",
       "      <td>0</td>\n",
       "      <td>11905404</td>\n",
       "      <td>0</td>\n",
       "    </tr>\n",
       "    <tr>\n",
       "      <th>12053</th>\n",
       "      <td>CEL0029</td>\n",
       "      <td>Celly extensible arm selfie with Bluetooth but...</td>\n",
       "      <td>selfie extendable arm for iPhone</td>\n",
       "      <td>NaN</td>\n",
       "      <td>69.902</td>\n",
       "      <td>0</td>\n",
       "      <td>5720</td>\n",
       "      <td>0</td>\n",
       "    </tr>\n",
       "    <tr>\n",
       "      <th>12054</th>\n",
       "      <td>CEL0030</td>\n",
       "      <td>Celly Smart Drive Housing + clip car holder iP...</td>\n",
       "      <td>Magnetic holder for car Compatible iPhone 5 5s...</td>\n",
       "      <td>NaN</td>\n",
       "      <td>89.903</td>\n",
       "      <td>0</td>\n",
       "      <td>5720</td>\n",
       "      <td>0</td>\n",
       "    </tr>\n",
       "    <tr>\n",
       "      <th>12061</th>\n",
       "      <td>CEL0043</td>\n",
       "      <td>Celly Fluor Case iPhone 6 / 6S Pink / Transparent</td>\n",
       "      <td>Protective Case for iPhone 6 and 6s</td>\n",
       "      <td>NaN</td>\n",
       "      <td>99.898</td>\n",
       "      <td>0</td>\n",
       "      <td>11865403</td>\n",
       "      <td>0</td>\n",
       "    </tr>\n",
       "    <tr>\n",
       "      <th>12062</th>\n",
       "      <td>CEL0044</td>\n",
       "      <td>Celly iPhone Case Fluor 6s / 6 Yellow / Transp...</td>\n",
       "      <td>protective case with two colors for iPhone 6 a...</td>\n",
       "      <td>NaN</td>\n",
       "      <td>79.896</td>\n",
       "      <td>1</td>\n",
       "      <td>11865403</td>\n",
       "      <td>0</td>\n",
       "    </tr>\n",
       "    <tr>\n",
       "      <th>12067</th>\n",
       "      <td>CEL0033</td>\n",
       "      <td>Celly Waterproof iPad Case / Air / Pro 97 \"Tra...</td>\n",
       "      <td>waterproof protective case for iPad bag format...</td>\n",
       "      <td>NaN</td>\n",
       "      <td>149.895</td>\n",
       "      <td>0</td>\n",
       "      <td>12635403</td>\n",
       "      <td>0</td>\n",
       "    </tr>\n",
       "    <tr>\n",
       "      <th>12070</th>\n",
       "      <td>CEL0036</td>\n",
       "      <td>Celly Adapter Micro USB connector to Lightning...</td>\n",
       "      <td>Micro USB adapter cable connection Lightning</td>\n",
       "      <td>NaN</td>\n",
       "      <td>89.903</td>\n",
       "      <td>1</td>\n",
       "      <td>14365395</td>\n",
       "      <td>0</td>\n",
       "    </tr>\n",
       "    <tr>\n",
       "      <th>12071</th>\n",
       "      <td>CEL0051</td>\n",
       "      <td>Celly 4000mAh Battery Power Bank Aluminum Dorado</td>\n",
       "      <td>external battery capacity 4000mAh output volta...</td>\n",
       "      <td>NaN</td>\n",
       "      <td>129.894</td>\n",
       "      <td>0</td>\n",
       "      <td>1515</td>\n",
       "      <td>0</td>\n",
       "    </tr>\n",
       "    <tr>\n",
       "      <th>12072</th>\n",
       "      <td>CEL0052</td>\n",
       "      <td>Celly 4000mAh Battery Power Bank Aluminum Silver</td>\n",
       "      <td>external battery capacity 4000mAh output volta...</td>\n",
       "      <td>NaN</td>\n",
       "      <td>199.892</td>\n",
       "      <td>0</td>\n",
       "      <td>1515</td>\n",
       "      <td>0</td>\n",
       "    </tr>\n",
       "    <tr>\n",
       "      <th>12075</th>\n",
       "      <td>CEL0055</td>\n",
       "      <td>Celly IceCube Case iPhone 6 / 6S White</td>\n",
       "      <td>Anti-shock Case for iPhone 6 / 6S</td>\n",
       "      <td>NaN</td>\n",
       "      <td>119.899</td>\n",
       "      <td>0</td>\n",
       "      <td>11865403</td>\n",
       "      <td>0</td>\n",
       "    </tr>\n",
       "    <tr>\n",
       "      <th>12076</th>\n",
       "      <td>CEL0056</td>\n",
       "      <td>IceCube Celly iPhone Case 6 / 6s Amarillo</td>\n",
       "      <td>Anti-shock Case for iPhone 6 / 6S</td>\n",
       "      <td>NaN</td>\n",
       "      <td>119.899</td>\n",
       "      <td>0</td>\n",
       "      <td>11865403</td>\n",
       "      <td>0</td>\n",
       "    </tr>\n",
       "    <tr>\n",
       "      <th>12078</th>\n",
       "      <td>CEL0058</td>\n",
       "      <td>Celly IceCube Case iPhone 6 / 6S Plus Rosa</td>\n",
       "      <td>Anti-shock Case for iPhone 6 / 6S Plus</td>\n",
       "      <td>NaN</td>\n",
       "      <td>99.898</td>\n",
       "      <td>0</td>\n",
       "      <td>11865403</td>\n",
       "      <td>0</td>\n",
       "    </tr>\n",
       "    <tr>\n",
       "      <th>12079</th>\n",
       "      <td>CEL0059</td>\n",
       "      <td>Celly IceCube Case iPhone 6 / 6S Plus White</td>\n",
       "      <td>Anti-shock Case for iPhone 6 / 6S Plus</td>\n",
       "      <td>NaN</td>\n",
       "      <td>119.899</td>\n",
       "      <td>0</td>\n",
       "      <td>11865403</td>\n",
       "      <td>0</td>\n",
       "    </tr>\n",
       "    <tr>\n",
       "      <th>12089</th>\n",
       "      <td>CEL0041</td>\n",
       "      <td>Celly iPhone 6S Plus Frost Case Black</td>\n",
       "      <td>Ultra Thin Case for iPhone 6 and 6s</td>\n",
       "      <td>NaN</td>\n",
       "      <td>89.903</td>\n",
       "      <td>0</td>\n",
       "      <td>11865403</td>\n",
       "      <td>0</td>\n",
       "    </tr>\n",
       "    <tr>\n",
       "      <th>12092</th>\n",
       "      <td>CEL0045</td>\n",
       "      <td>Laser Case Celly iPhone 6 / 6S Dark Silver</td>\n",
       "      <td>Protective Case for iPhone 6 and 6s</td>\n",
       "      <td>NaN</td>\n",
       "      <td>149.895</td>\n",
       "      <td>0</td>\n",
       "      <td>11865403</td>\n",
       "      <td>0</td>\n",
       "    </tr>\n",
       "    <tr>\n",
       "      <th>12093</th>\n",
       "      <td>CEL0046</td>\n",
       "      <td>Laser Case Celly iPhone 6 / 6S Clear Silver</td>\n",
       "      <td>Protective Case for iPhone 6 and 6s</td>\n",
       "      <td>NaN</td>\n",
       "      <td>149.895</td>\n",
       "      <td>0</td>\n",
       "      <td>11865403</td>\n",
       "      <td>0</td>\n",
       "    </tr>\n",
       "    <tr>\n",
       "      <th>12096</th>\n",
       "      <td>CEL0048</td>\n",
       "      <td>Laser Case Celly iPhone 6 / 6S Rosa</td>\n",
       "      <td>Protective Case for iPhone 6 and 6s</td>\n",
       "      <td>NaN</td>\n",
       "      <td>149.895</td>\n",
       "      <td>0</td>\n",
       "      <td>11865403</td>\n",
       "      <td>0</td>\n",
       "    </tr>\n",
       "    <tr>\n",
       "      <th>12100</th>\n",
       "      <td>CEL0037</td>\n",
       "      <td>Celly Frost Cover for iPhone 6 / 6S Black</td>\n",
       "      <td>Ultra Thin Case for iPhone 6 and 6s</td>\n",
       "      <td>NaN</td>\n",
       "      <td>99.898</td>\n",
       "      <td>0</td>\n",
       "      <td>11865403</td>\n",
       "      <td>0</td>\n",
       "    </tr>\n",
       "  </tbody>\n",
       "</table>\n",
       "</div>"
      ],
      "text/plain": [
       "           sku                                               name  \\\n",
       "34     TWS0019  Twelve South MagicWand support Apple Magic Tra...   \n",
       "2042   CEL0007  Celly Wallet Case with removable cover Black i...   \n",
       "2043   CEL0012            Celly Silicone Hard Shell iPhone 6 Blue   \n",
       "2049   CEL0015    Celly fur-lined Powerbank battery 4000mAh Black   \n",
       "2052   CEL0023  Celly Ambo Luxury Leather Case + Case Gold iPh...   \n",
       "12052  CEL0028  Celly Swing Arm button selfie with Bluetooth B...   \n",
       "12053  CEL0029  Celly extensible arm selfie with Bluetooth but...   \n",
       "12054  CEL0030  Celly Smart Drive Housing + clip car holder iP...   \n",
       "12061  CEL0043  Celly Fluor Case iPhone 6 / 6S Pink / Transparent   \n",
       "12062  CEL0044  Celly iPhone Case Fluor 6s / 6 Yellow / Transp...   \n",
       "12067  CEL0033  Celly Waterproof iPad Case / Air / Pro 97 \"Tra...   \n",
       "12070  CEL0036  Celly Adapter Micro USB connector to Lightning...   \n",
       "12071  CEL0051   Celly 4000mAh Battery Power Bank Aluminum Dorado   \n",
       "12072  CEL0052   Celly 4000mAh Battery Power Bank Aluminum Silver   \n",
       "12075  CEL0055             Celly IceCube Case iPhone 6 / 6S White   \n",
       "12076  CEL0056          IceCube Celly iPhone Case 6 / 6s Amarillo   \n",
       "12078  CEL0058         Celly IceCube Case iPhone 6 / 6S Plus Rosa   \n",
       "12079  CEL0059        Celly IceCube Case iPhone 6 / 6S Plus White   \n",
       "12089  CEL0041              Celly iPhone 6S Plus Frost Case Black   \n",
       "12092  CEL0045         Laser Case Celly iPhone 6 / 6S Dark Silver   \n",
       "12093  CEL0046        Laser Case Celly iPhone 6 / 6S Clear Silver   \n",
       "12096  CEL0048                Laser Case Celly iPhone 6 / 6S Rosa   \n",
       "12100  CEL0037          Celly Frost Cover for iPhone 6 / 6S Black   \n",
       "\n",
       "                                                    desc price promo_price  \\\n",
       "34     MagicWand for wireless keyboard and Magic Trac...   NaN     299.899   \n",
       "2042              Case Book for iPhone 6 card case type.   NaN     128.998   \n",
       "2043                       Hard Shell Silicone iPhone 6.   NaN        4.99   \n",
       "2049   Leather-wrapped External Battery 4000mAh for i...   NaN     239.895   \n",
       "2052   Cover and housing together with magnet for iPh...   NaN     329.894   \n",
       "12052                   selfie extendable arm for iPhone   NaN      59.895   \n",
       "12053                   selfie extendable arm for iPhone   NaN      69.902   \n",
       "12054  Magnetic holder for car Compatible iPhone 5 5s...   NaN      89.903   \n",
       "12061                Protective Case for iPhone 6 and 6s   NaN      99.898   \n",
       "12062  protective case with two colors for iPhone 6 a...   NaN      79.896   \n",
       "12067  waterproof protective case for iPad bag format...   NaN     149.895   \n",
       "12070       Micro USB adapter cable connection Lightning   NaN      89.903   \n",
       "12071  external battery capacity 4000mAh output volta...   NaN     129.894   \n",
       "12072  external battery capacity 4000mAh output volta...   NaN     199.892   \n",
       "12075                  Anti-shock Case for iPhone 6 / 6S   NaN     119.899   \n",
       "12076                  Anti-shock Case for iPhone 6 / 6S   NaN     119.899   \n",
       "12078             Anti-shock Case for iPhone 6 / 6S Plus   NaN      99.898   \n",
       "12079             Anti-shock Case for iPhone 6 / 6S Plus   NaN     119.899   \n",
       "12089                Ultra Thin Case for iPhone 6 and 6s   NaN      89.903   \n",
       "12092                Protective Case for iPhone 6 and 6s   NaN     149.895   \n",
       "12093                Protective Case for iPhone 6 and 6s   NaN     149.895   \n",
       "12096                Protective Case for iPhone 6 and 6s   NaN     149.895   \n",
       "12100                Ultra Thin Case for iPhone 6 and 6s   NaN      99.898   \n",
       "\n",
       "       in_stock      type new_price  \n",
       "34            0      8696         0  \n",
       "2042          0  11865403         0  \n",
       "2043          0  11865403         0  \n",
       "2049          0      1515         0  \n",
       "2052          0  11865403         0  \n",
       "12052         0  11905404         0  \n",
       "12053         0      5720         0  \n",
       "12054         0      5720         0  \n",
       "12061         0  11865403         0  \n",
       "12062         1  11865403         0  \n",
       "12067         0  12635403         0  \n",
       "12070         1  14365395         0  \n",
       "12071         0      1515         0  \n",
       "12072         0      1515         0  \n",
       "12075         0  11865403         0  \n",
       "12076         0  11865403         0  \n",
       "12078         0  11865403         0  \n",
       "12079         0  11865403         0  \n",
       "12089         0  11865403         0  \n",
       "12092         0  11865403         0  \n",
       "12093         0  11865403         0  \n",
       "12096         0  11865403         0  \n",
       "12100         0  11865403         0  "
      ]
     },
     "execution_count": 98,
     "metadata": {},
     "output_type": "execute_result"
    }
   ],
   "source": [
    "recoverable_missed_price =(\n",
    "    products\n",
    "            .loc[lambda df_ : df_['price'].isna()]\n",
    "            .loc[lambda df_:df_['sku'].isin(orderlines['sku'])]\n",
    ")\n",
    "\n",
    "products = (\n",
    "products\n",
    "        .assign(new_price =np.where(\n",
    "                                    products['sku'].isin(recoverable_missed_price['sku']),\n",
    "                                    \"0\", products['price']\n",
    "                                )\n",
    "                )\n",
    ")\n",
    "\n",
    "products.dropna(subset='new_price', inplace= True)\n",
    "# products\n",
    "recoverable_missed_price"
   ]
  },
  {
   "cell_type": "markdown",
   "metadata": {},
   "source": [
    "now we can recalculate the missed prices with the max price for that product in orderlines.\n"
   ]
  },
  {
   "cell_type": "code",
   "execution_count": 109,
   "metadata": {},
   "outputs": [],
   "source": [
    "\n",
    "recoverd_values = (\n",
    "orderlines\n",
    "        .groupby('sku')\n",
    "        .agg(max_price = ('unit_price', 'max'))\n",
    "        .reset_index()\n",
    "        .merge(\n",
    "                products,\n",
    "                how= 'right',\n",
    "                on='sku'\n",
    "        )                           \n",
    ")"
   ]
  },
  {
   "cell_type": "code",
   "execution_count": 112,
   "metadata": {},
   "outputs": [
    {
     "data": {
      "text/html": [
       "<div>\n",
       "<style scoped>\n",
       "    .dataframe tbody tr th:only-of-type {\n",
       "        vertical-align: middle;\n",
       "    }\n",
       "\n",
       "    .dataframe tbody tr th {\n",
       "        vertical-align: top;\n",
       "    }\n",
       "\n",
       "    .dataframe thead th {\n",
       "        text-align: right;\n",
       "    }\n",
       "</style>\n",
       "<table border=\"1\" class=\"dataframe\">\n",
       "  <thead>\n",
       "    <tr style=\"text-align: right;\">\n",
       "      <th></th>\n",
       "      <th>sku</th>\n",
       "      <th>name</th>\n",
       "      <th>desc</th>\n",
       "      <th>price</th>\n",
       "      <th>promo_price</th>\n",
       "      <th>in_stock</th>\n",
       "      <th>type</th>\n",
       "      <th>new_price</th>\n",
       "      <th>recovered_price_1</th>\n",
       "    </tr>\n",
       "  </thead>\n",
       "  <tbody>\n",
       "    <tr>\n",
       "      <th>0</th>\n",
       "      <td>RAI0007</td>\n",
       "      <td>Silver Rain Design mStand Support</td>\n",
       "      <td>Aluminum support compatible with all MacBook</td>\n",
       "      <td>59.99</td>\n",
       "      <td>499.899</td>\n",
       "      <td>1</td>\n",
       "      <td>8696</td>\n",
       "      <td>59.99</td>\n",
       "      <td>59.99</td>\n",
       "    </tr>\n",
       "    <tr>\n",
       "      <th>1</th>\n",
       "      <td>APP0023</td>\n",
       "      <td>Apple Mac Keyboard Keypad Spanish</td>\n",
       "      <td>USB ultrathin keyboard Apple Mac Spanish.</td>\n",
       "      <td>59</td>\n",
       "      <td>589.996</td>\n",
       "      <td>0</td>\n",
       "      <td>13855401</td>\n",
       "      <td>59</td>\n",
       "      <td>59</td>\n",
       "    </tr>\n",
       "    <tr>\n",
       "      <th>2</th>\n",
       "      <td>APP0025</td>\n",
       "      <td>Mighty Mouse Apple Mouse for Mac</td>\n",
       "      <td>mouse Apple USB cable.</td>\n",
       "      <td>59</td>\n",
       "      <td>569.898</td>\n",
       "      <td>0</td>\n",
       "      <td>1387</td>\n",
       "      <td>59</td>\n",
       "      <td>59</td>\n",
       "    </tr>\n",
       "    <tr>\n",
       "      <th>3</th>\n",
       "      <td>APP0072</td>\n",
       "      <td>Apple Dock to USB Cable iPhone and iPod white</td>\n",
       "      <td>IPhone dock and USB Cable Apple iPod.</td>\n",
       "      <td>25</td>\n",
       "      <td>229.997</td>\n",
       "      <td>0</td>\n",
       "      <td>1230</td>\n",
       "      <td>25</td>\n",
       "      <td>25</td>\n",
       "    </tr>\n",
       "    <tr>\n",
       "      <th>4</th>\n",
       "      <td>KIN0007</td>\n",
       "      <td>Mac Memory Kingston 2GB 667MHz DDR2 SO-DIMM</td>\n",
       "      <td>2GB RAM Mac mini and iMac (2006/07) MacBook Pr...</td>\n",
       "      <td>34.99</td>\n",
       "      <td>31.99</td>\n",
       "      <td>1</td>\n",
       "      <td>1364</td>\n",
       "      <td>34.99</td>\n",
       "      <td>34.99</td>\n",
       "    </tr>\n",
       "    <tr>\n",
       "      <th>...</th>\n",
       "      <td>...</td>\n",
       "      <td>...</td>\n",
       "      <td>...</td>\n",
       "      <td>...</td>\n",
       "      <td>...</td>\n",
       "      <td>...</td>\n",
       "      <td>...</td>\n",
       "      <td>...</td>\n",
       "      <td>...</td>\n",
       "    </tr>\n",
       "    <tr>\n",
       "      <th>19321</th>\n",
       "      <td>BEL0376</td>\n",
       "      <td>Belkin Travel Support Apple Watch Black</td>\n",
       "      <td>compact and portable stand vertically or horiz...</td>\n",
       "      <td>29.99</td>\n",
       "      <td>269.903</td>\n",
       "      <td>1</td>\n",
       "      <td>12282</td>\n",
       "      <td>29.99</td>\n",
       "      <td>29.99</td>\n",
       "    </tr>\n",
       "    <tr>\n",
       "      <th>19322</th>\n",
       "      <td>THU0060</td>\n",
       "      <td>Enroute Thule 14L Backpack MacBook 13 \"Black</td>\n",
       "      <td>Backpack with capacity of 14 liter compartment...</td>\n",
       "      <td>69.95</td>\n",
       "      <td>649.903</td>\n",
       "      <td>1</td>\n",
       "      <td>1392</td>\n",
       "      <td>69.95</td>\n",
       "      <td>69.95</td>\n",
       "    </tr>\n",
       "    <tr>\n",
       "      <th>19323</th>\n",
       "      <td>THU0061</td>\n",
       "      <td>Enroute Thule 14L Backpack MacBook 13 \"Blue</td>\n",
       "      <td>Backpack with capacity of 14 liter compartment...</td>\n",
       "      <td>69.95</td>\n",
       "      <td>649.903</td>\n",
       "      <td>1</td>\n",
       "      <td>1392</td>\n",
       "      <td>69.95</td>\n",
       "      <td>69.95</td>\n",
       "    </tr>\n",
       "    <tr>\n",
       "      <th>19324</th>\n",
       "      <td>THU0062</td>\n",
       "      <td>Enroute Thule 14L Backpack MacBook 13 \"Red</td>\n",
       "      <td>Backpack with capacity of 14 liter compartment...</td>\n",
       "      <td>69.95</td>\n",
       "      <td>649.903</td>\n",
       "      <td>0</td>\n",
       "      <td>1392</td>\n",
       "      <td>69.95</td>\n",
       "      <td>69.95</td>\n",
       "    </tr>\n",
       "    <tr>\n",
       "      <th>19325</th>\n",
       "      <td>THU0063</td>\n",
       "      <td>Enroute Thule 14L Backpack MacBook 13 \"Green</td>\n",
       "      <td>Backpack with capacity of 14 liter compartment...</td>\n",
       "      <td>69.95</td>\n",
       "      <td>649.903</td>\n",
       "      <td>1</td>\n",
       "      <td>1392</td>\n",
       "      <td>69.95</td>\n",
       "      <td>69.95</td>\n",
       "    </tr>\n",
       "  </tbody>\n",
       "</table>\n",
       "<p>10557 rows × 9 columns</p>\n",
       "</div>"
      ],
      "text/plain": [
       "           sku                                           name  \\\n",
       "0      RAI0007              Silver Rain Design mStand Support   \n",
       "1      APP0023              Apple Mac Keyboard Keypad Spanish   \n",
       "2      APP0025               Mighty Mouse Apple Mouse for Mac   \n",
       "3      APP0072  Apple Dock to USB Cable iPhone and iPod white   \n",
       "4      KIN0007    Mac Memory Kingston 2GB 667MHz DDR2 SO-DIMM   \n",
       "...        ...                                            ...   \n",
       "19321  BEL0376        Belkin Travel Support Apple Watch Black   \n",
       "19322  THU0060   Enroute Thule 14L Backpack MacBook 13 \"Black   \n",
       "19323  THU0061    Enroute Thule 14L Backpack MacBook 13 \"Blue   \n",
       "19324  THU0062     Enroute Thule 14L Backpack MacBook 13 \"Red   \n",
       "19325  THU0063   Enroute Thule 14L Backpack MacBook 13 \"Green   \n",
       "\n",
       "                                                    desc  price promo_price  \\\n",
       "0           Aluminum support compatible with all MacBook  59.99     499.899   \n",
       "1              USB ultrathin keyboard Apple Mac Spanish.     59     589.996   \n",
       "2                                 mouse Apple USB cable.     59     569.898   \n",
       "3                  IPhone dock and USB Cable Apple iPod.     25     229.997   \n",
       "4      2GB RAM Mac mini and iMac (2006/07) MacBook Pr...  34.99       31.99   \n",
       "...                                                  ...    ...         ...   \n",
       "19321  compact and portable stand vertically or horiz...  29.99     269.903   \n",
       "19322  Backpack with capacity of 14 liter compartment...  69.95     649.903   \n",
       "19323  Backpack with capacity of 14 liter compartment...  69.95     649.903   \n",
       "19324  Backpack with capacity of 14 liter compartment...  69.95     649.903   \n",
       "19325  Backpack with capacity of 14 liter compartment...  69.95     649.903   \n",
       "\n",
       "       in_stock      type new_price recovered_price_1  \n",
       "0             1      8696     59.99             59.99  \n",
       "1             0  13855401        59                59  \n",
       "2             0      1387        59                59  \n",
       "3             0      1230        25                25  \n",
       "4             1      1364     34.99             34.99  \n",
       "...         ...       ...       ...               ...  \n",
       "19321         1     12282     29.99             29.99  \n",
       "19322         1      1392     69.95             69.95  \n",
       "19323         1      1392     69.95             69.95  \n",
       "19324         0      1392     69.95             69.95  \n",
       "19325         1      1392     69.95             69.95  \n",
       "\n",
       "[10557 rows x 9 columns]"
      ]
     },
     "execution_count": 112,
     "metadata": {},
     "output_type": "execute_result"
    }
   ],
   "source": [
    "recoverd_products=(\n",
    "products\n",
    "        .assign(recovered_price_1 =np.where(\n",
    "                                    products['new_price']==\"0\",\n",
    "                                    recoverd_values['max_price'], products['new_price']\n",
    "                                )\n",
    "                )\n",
    ")\n",
    "recoverd_products"
   ]
  }
 ],
 "metadata": {
  "kernelspec": {
   "display_name": "Python 3.9.12 ('base')",
   "language": "python",
   "name": "python3"
  },
  "language_info": {
   "codemirror_mode": {
    "name": "ipython",
    "version": 3
   },
   "file_extension": ".py",
   "mimetype": "text/x-python",
   "name": "python",
   "nbconvert_exporter": "python",
   "pygments_lexer": "ipython3",
   "version": "3.9.12"
  },
  "orig_nbformat": 4,
  "vscode": {
   "interpreter": {
    "hash": "49cb93f377a7abe7414b7b0f21fb3017538004a126cf690fb524202736b7fb92"
   }
  }
 },
 "nbformat": 4,
 "nbformat_minor": 2
}
