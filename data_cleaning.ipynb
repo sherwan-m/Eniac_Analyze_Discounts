{
 "cells": [
  {
   "cell_type": "markdown",
   "metadata": {},
   "source": [
    "# Data cleaning and merging dataframes"
   ]
  },
  {
   "cell_type": "code",
   "execution_count": null,
   "metadata": {},
   "outputs": [],
   "source": []
  },
  {
   "cell_type": "markdown",
   "metadata": {},
   "source": [
    "## Loading multiple datasets"
   ]
  },
  {
   "cell_type": "markdown",
   "metadata": {},
   "source": [
    "**Google way**"
   ]
  },
  {
   "cell_type": "code",
   "execution_count": 381,
   "metadata": {},
   "outputs": [],
   "source": [
    "import numpy as np\n",
    "import seaborn as sns\n",
    "import matplotlib.pyplot as plt"
   ]
  },
  {
   "cell_type": "code",
   "execution_count": 382,
   "metadata": {},
   "outputs": [],
   "source": [
    "# import pandas as pd\n",
    "\n",
    "# # orderlines.csv\n",
    "# url = 'https://drive.google.com/file/d/14Y7g5ITyf6LMyPoKc9wr010V9StaCUux/view?usp=sharing' \n",
    "# path = 'https://drive.google.com/uc?export=download&id='+url.split('/')[-2]\n",
    "# orderlines = pd.read_csv(path)\n",
    "\n",
    "# # orders.csv\n",
    "# url = 'https://drive.google.com/file/d/1BLEHcP-9fm9Rv7A01H3co2XBMnSr66YC/view?usp=sharing' \n",
    "# path = 'https://drive.google.com/uc?export=download&id='+url.split('/')[-2]\n",
    "# orders = pd.read_csv(path)\n",
    "\n",
    "# print(path)\n",
    "\n",
    "# # brands.csv\n",
    "# url = 'https://drive.google.com/file/d/1BrNrIY0F1LbyXtyaQygUBXVxQGB3JBqx/view?usp=sharing' \n",
    "# path = 'https://drive.google.com/uc?export=download&id='+url.split('/')[-2]\n",
    "# brands = pd.read_csv(path)\n",
    "\n",
    "# # products.csv\n",
    "# url = 'https://drive.google.com/file/d/1UfsHI80cpQqGfsH2g4T4Tsw8cWayOfzC/view?usp=sharing' \n",
    "# path = 'https://drive.google.com/uc?export=download&id='+url.split('/')[-2]\n",
    "# products = pd.read_csv(path)\n",
    "\n",
    "# df_list = [orderlines, orders, brands, products]\n",
    "# files = ['orderlines','orders','brands','products']\n",
    "\n"
   ]
  },
  {
   "cell_type": "markdown",
   "metadata": {},
   "source": [
    "**Other ways**"
   ]
  },
  {
   "cell_type": "code",
   "execution_count": 383,
   "metadata": {},
   "outputs": [],
   "source": [
    "import pandas as pd\n",
    "\n",
    "path = './data/eniac/'\n",
    "orderlines = pd.read_csv(path + 'orderlines.csv')\n",
    "orders = pd.read_csv(path + 'orders.csv')\n",
    "brands = pd.read_csv(path + 'brands.csv')\n",
    "products = pd.read_csv(path + 'products.csv')\n",
    "\n",
    "df_list = [orderlines, orders, brands, products]\n",
    "files = ['orderlines','orders','brands','products']"
   ]
  },
  {
   "cell_type": "code",
   "execution_count": 384,
   "metadata": {},
   "outputs": [],
   "source": [
    "# import pandas as pd\n",
    "# import os\n",
    "# path = '../data/eniac/'\n",
    "# path, dirs, files = next(os.walk(path))\n",
    "# #print(files)\n",
    "\n",
    "# # remove non-csv files\n",
    "# for file in files:\n",
    "#     if not file.endswith(\"csv\"):\n",
    "#         files.remove(file)\n",
    "\n",
    "# # create empty list \n",
    "# df_list = []\n",
    "\n",
    "# # append datasets to the list\n",
    "# for file in files:\n",
    "#     temp_df = pd.read_csv(path + file, sep=',')\n",
    "#     df_list.append(temp_df)\n",
    "\n",
    "# # show results\n",
    "# products, orders, orderlines, brands = df_list[0], df_list[1], df_list[2], df_list[3]"
   ]
  },
  {
   "cell_type": "markdown",
   "metadata": {},
   "source": [
    "## Data quality\n",
    "\n",
    "### Missing values"
   ]
  },
  {
   "cell_type": "code",
   "execution_count": 385,
   "metadata": {},
   "outputs": [
    {
     "data": {
      "text/plain": [
       "0"
      ]
     },
     "execution_count": 385,
     "metadata": {},
     "output_type": "execute_result"
    }
   ],
   "source": [
    "#check missing values for the whole dataframe\n",
    "orderlines.isna().sum().sum()"
   ]
  },
  {
   "cell_type": "code",
   "execution_count": 386,
   "metadata": {},
   "outputs": [
    {
     "data": {
      "text/plain": [
       "id                  0\n",
       "id_order            0\n",
       "product_id          0\n",
       "product_quantity    0\n",
       "sku                 0\n",
       "unit_price          0\n",
       "date                0\n",
       "dtype: int64"
      ]
     },
     "execution_count": 386,
     "metadata": {},
     "output_type": "execute_result"
    }
   ],
   "source": [
    "# check missing values column\n",
    "orderlines.isna().sum()"
   ]
  },
  {
   "cell_type": "code",
   "execution_count": 387,
   "metadata": {},
   "outputs": [
    {
     "name": "stdout",
     "output_type": "stream",
     "text": [
      "<class 'pandas.core.frame.DataFrame'>\n",
      "RangeIndex: 293983 entries, 0 to 293982\n",
      "Data columns (total 7 columns):\n",
      " #   Column            Non-Null Count   Dtype \n",
      "---  ------            --------------   ----- \n",
      " 0   id                293983 non-null  int64 \n",
      " 1   id_order          293983 non-null  int64 \n",
      " 2   product_id        293983 non-null  int64 \n",
      " 3   product_quantity  293983 non-null  int64 \n",
      " 4   sku               293983 non-null  object\n",
      " 5   unit_price        293983 non-null  object\n",
      " 6   date              293983 non-null  object\n",
      "dtypes: int64(4), object(3)\n",
      "memory usage: 15.7+ MB\n"
     ]
    }
   ],
   "source": [
    "orderlines.info()"
   ]
  },
  {
   "cell_type": "code",
   "execution_count": 388,
   "metadata": {},
   "outputs": [
    {
     "name": "stdout",
     "output_type": "stream",
     "text": [
      "<class 'pandas.core.frame.DataFrame'>\n",
      "RangeIndex: 226909 entries, 0 to 226908\n",
      "Data columns (total 4 columns):\n",
      " #   Column        Non-Null Count   Dtype  \n",
      "---  ------        --------------   -----  \n",
      " 0   order_id      226909 non-null  int64  \n",
      " 1   created_date  226909 non-null  object \n",
      " 2   total_paid    226904 non-null  float64\n",
      " 3   state         226909 non-null  object \n",
      "dtypes: float64(1), int64(1), object(2)\n",
      "memory usage: 6.9+ MB\n"
     ]
    }
   ],
   "source": [
    "orders.info()"
   ]
  },
  {
   "cell_type": "code",
   "execution_count": 389,
   "metadata": {},
   "outputs": [
    {
     "name": "stdout",
     "output_type": "stream",
     "text": [
      "<class 'pandas.core.frame.DataFrame'>\n",
      "RangeIndex: 187 entries, 0 to 186\n",
      "Data columns (total 2 columns):\n",
      " #   Column  Non-Null Count  Dtype \n",
      "---  ------  --------------  ----- \n",
      " 0   short   187 non-null    object\n",
      " 1   long    187 non-null    object\n",
      "dtypes: object(2)\n",
      "memory usage: 3.0+ KB\n"
     ]
    }
   ],
   "source": [
    "brands.info()"
   ]
  },
  {
   "cell_type": "code",
   "execution_count": 390,
   "metadata": {},
   "outputs": [
    {
     "name": "stdout",
     "output_type": "stream",
     "text": [
      "<class 'pandas.core.frame.DataFrame'>\n",
      "RangeIndex: 19326 entries, 0 to 19325\n",
      "Data columns (total 7 columns):\n",
      " #   Column       Non-Null Count  Dtype \n",
      "---  ------       --------------  ----- \n",
      " 0   sku          19326 non-null  object\n",
      " 1   name         19326 non-null  object\n",
      " 2   desc         19319 non-null  object\n",
      " 3   price        19280 non-null  object\n",
      " 4   promo_price  19326 non-null  object\n",
      " 5   in_stock     19326 non-null  int64 \n",
      " 6   type         19276 non-null  object\n",
      "dtypes: int64(1), object(6)\n",
      "memory usage: 1.0+ MB\n"
     ]
    }
   ],
   "source": [
    "products.info()"
   ]
  },
  {
   "cell_type": "markdown",
   "metadata": {},
   "source": [
    "### Duplicates\n",
    "\n",
    "The presence of duplicate rows is generally a sign that the data is not clean, and will deserve further exploration."
   ]
  },
  {
   "cell_type": "code",
   "execution_count": 391,
   "metadata": {},
   "outputs": [
    {
     "data": {
      "text/plain": [
       "0"
      ]
     },
     "execution_count": 391,
     "metadata": {},
     "output_type": "execute_result"
    }
   ],
   "source": [
    "orderlines.duplicated().sum()"
   ]
  },
  {
   "cell_type": "code",
   "execution_count": 392,
   "metadata": {},
   "outputs": [
    {
     "data": {
      "text/plain": [
       "0"
      ]
     },
     "execution_count": 392,
     "metadata": {},
     "output_type": "execute_result"
    }
   ],
   "source": [
    "orders.duplicated().sum()"
   ]
  },
  {
   "cell_type": "code",
   "execution_count": 393,
   "metadata": {},
   "outputs": [
    {
     "data": {
      "text/plain": [
       "0"
      ]
     },
     "execution_count": 393,
     "metadata": {},
     "output_type": "execute_result"
    }
   ],
   "source": [
    "brands.duplicated().sum()"
   ]
  },
  {
   "cell_type": "code",
   "execution_count": 394,
   "metadata": {},
   "outputs": [
    {
     "data": {
      "text/plain": [
       "8746"
      ]
     },
     "execution_count": 394,
     "metadata": {},
     "output_type": "execute_result"
    }
   ],
   "source": [
    "products.duplicated().sum()"
   ]
  },
  {
   "cell_type": "code",
   "execution_count": 395,
   "metadata": {},
   "outputs": [
    {
     "name": "stdout",
     "output_type": "stream",
     "text": [
      "<class 'pandas.core.frame.DataFrame'>\n",
      "RangeIndex: 19326 entries, 0 to 19325\n",
      "Data columns (total 7 columns):\n",
      " #   Column       Non-Null Count  Dtype \n",
      "---  ------       --------------  ----- \n",
      " 0   sku          19326 non-null  object\n",
      " 1   name         19326 non-null  object\n",
      " 2   desc         19319 non-null  object\n",
      " 3   price        19280 non-null  object\n",
      " 4   promo_price  19326 non-null  object\n",
      " 5   in_stock     19326 non-null  int64 \n",
      " 6   type         19276 non-null  object\n",
      "dtypes: int64(1), object(6)\n",
      "memory usage: 1.0+ MB\n"
     ]
    }
   ],
   "source": [
    "products.info()"
   ]
  },
  {
   "cell_type": "markdown",
   "metadata": {},
   "source": [
    "### Data cleanliness - initial assessment"
   ]
  },
  {
   "cell_type": "markdown",
   "metadata": {},
   "source": [
    "Based on our initial exploration, we know we will need to deal with some missing values. The biggest issue so far are the duplicates on the `products` DataFrame. Here are some aspects that we will need to fix or, at least, explore further:\n",
    "\n",
    "* **products**: \n",
    "    * `price` and `promo_price` are loaded as objects. They should be floats. \n",
    "    * Missing values: \n",
    "        * `description`: 7 missing values. Maybe that could be inferred from the product name?\n",
    "        * `price`: the missing values could be filled from the `orderlines` dataset. But first we will need to clean it. \n",
    "    * Duplicates: a total of 8746 duplicates seems to indicate this DataFrame has been seriously corrupted.\n",
    "    \n",
    "* **orders**: \n",
    "    * `created_date` should have a date data type. Then, it would be a good quality check to see if the created date for `orders` matches with the created dates for `orderlines`. \n",
    "    \n",
    "* **orderlines**: \n",
    "    * `unit_price` has to be a float, something is wrong there. \n",
    "    * `date` has to be transformed to a date data type. Then, as we said, check that it matches with the `orders` dataset. \n",
    "    \n",
    "* **brands**: looks fine. \n",
    "\n",
    "Where do we have to start? \n",
    "\n",
    "1. **Data consistency:** Since `orders` and `orderlines` seem very crucial to the analysis, we will start by cleaning them and checking that the information present in both DataFrames match.\n",
    "\n",
    "2. **The \"products mess\":** This file seems to have many issues. We will leave it out for now and perform a proper exploration later to understand better what's going on there."
   ]
  },
  {
   "cell_type": "markdown",
   "metadata": {},
   "source": [
    "## Cleaning orders"
   ]
  },
  {
   "cell_type": "markdown",
   "metadata": {},
   "source": [
    "The data consistency check we will do with `orderlines` will involve two steps: \n",
    "\n",
    "* the initial and last dates of the orders should be the same\n",
    "* the sum of `total_paid` on both datasets should be the same\n",
    "\n",
    "Let's start by transforming the `created_date` of the orders DataFrame and looking for its earliest and latest values:"
   ]
  },
  {
   "cell_type": "code",
   "execution_count": 396,
   "metadata": {},
   "outputs": [
    {
     "name": "stdout",
     "output_type": "stream",
     "text": [
      "<class 'pandas.core.frame.DataFrame'>\n",
      "RangeIndex: 226909 entries, 0 to 226908\n",
      "Data columns (total 4 columns):\n",
      " #   Column        Non-Null Count   Dtype  \n",
      "---  ------        --------------   -----  \n",
      " 0   order_id      226909 non-null  int64  \n",
      " 1   created_date  226909 non-null  object \n",
      " 2   total_paid    226904 non-null  float64\n",
      " 3   state         226909 non-null  object \n",
      "dtypes: float64(1), int64(1), object(2)\n",
      "memory usage: 6.9+ MB\n"
     ]
    }
   ],
   "source": [
    "orders.info()"
   ]
  },
  {
   "cell_type": "code",
   "execution_count": 397,
   "metadata": {},
   "outputs": [],
   "source": [
    "# change date datatype\n",
    "orders['created_date'] = pd.to_datetime(orders['created_date'])"
   ]
  },
  {
   "cell_type": "code",
   "execution_count": 398,
   "metadata": {},
   "outputs": [
    {
     "data": {
      "text/plain": [
       "Timestamp('2017-01-01 00:07:19')"
      ]
     },
     "execution_count": 398,
     "metadata": {},
     "output_type": "execute_result"
    }
   ],
   "source": [
    "# earliest value\n",
    "min(orders['created_date'])"
   ]
  },
  {
   "cell_type": "code",
   "execution_count": 399,
   "metadata": {},
   "outputs": [
    {
     "data": {
      "text/plain": [
       "Timestamp('2018-03-14 13:58:36')"
      ]
     },
     "execution_count": 399,
     "metadata": {},
     "output_type": "execute_result"
    }
   ],
   "source": [
    "# latest value\n",
    "max(orders['created_date'])"
   ]
  },
  {
   "cell_type": "markdown",
   "metadata": {},
   "source": [
    "Now we will look at the overall sum of `total_paid` for the orders table:"
   ]
  },
  {
   "cell_type": "code",
   "execution_count": 400,
   "metadata": {},
   "outputs": [
    {
     "data": {
      "text/plain": [
       "nan"
      ]
     },
     "execution_count": 400,
     "metadata": {},
     "output_type": "execute_result"
    }
   ],
   "source": [
    "sum(orders['total_paid'])"
   ]
  },
  {
   "cell_type": "markdown",
   "metadata": {},
   "source": [
    "the result of the sum is a nan (not a number).\n",
    "here are missing values! We can explore them and see how they are all \"Pending\" orders:"
   ]
  },
  {
   "cell_type": "code",
   "execution_count": 401,
   "metadata": {},
   "outputs": [
    {
     "data": {
      "text/html": [
       "<div>\n",
       "<style scoped>\n",
       "    .dataframe tbody tr th:only-of-type {\n",
       "        vertical-align: middle;\n",
       "    }\n",
       "\n",
       "    .dataframe tbody tr th {\n",
       "        vertical-align: top;\n",
       "    }\n",
       "\n",
       "    .dataframe thead th {\n",
       "        text-align: right;\n",
       "    }\n",
       "</style>\n",
       "<table border=\"1\" class=\"dataframe\">\n",
       "  <thead>\n",
       "    <tr style=\"text-align: right;\">\n",
       "      <th></th>\n",
       "      <th>order_id</th>\n",
       "      <th>created_date</th>\n",
       "      <th>total_paid</th>\n",
       "      <th>state</th>\n",
       "    </tr>\n",
       "  </thead>\n",
       "  <tbody>\n",
       "    <tr>\n",
       "      <th>127701</th>\n",
       "      <td>427314</td>\n",
       "      <td>2017-11-20 18:54:39</td>\n",
       "      <td>NaN</td>\n",
       "      <td>Pending</td>\n",
       "    </tr>\n",
       "    <tr>\n",
       "      <th>132013</th>\n",
       "      <td>431655</td>\n",
       "      <td>2017-11-22 12:15:24</td>\n",
       "      <td>NaN</td>\n",
       "      <td>Pending</td>\n",
       "    </tr>\n",
       "    <tr>\n",
       "      <th>147316</th>\n",
       "      <td>447411</td>\n",
       "      <td>2017-11-27 10:32:37</td>\n",
       "      <td>NaN</td>\n",
       "      <td>Pending</td>\n",
       "    </tr>\n",
       "    <tr>\n",
       "      <th>148833</th>\n",
       "      <td>448966</td>\n",
       "      <td>2017-11-27 18:54:15</td>\n",
       "      <td>NaN</td>\n",
       "      <td>Pending</td>\n",
       "    </tr>\n",
       "    <tr>\n",
       "      <th>149434</th>\n",
       "      <td>449596</td>\n",
       "      <td>2017-11-27 21:52:08</td>\n",
       "      <td>NaN</td>\n",
       "      <td>Pending</td>\n",
       "    </tr>\n",
       "  </tbody>\n",
       "</table>\n",
       "</div>"
      ],
      "text/plain": [
       "        order_id        created_date  total_paid    state\n",
       "127701    427314 2017-11-20 18:54:39         NaN  Pending\n",
       "132013    431655 2017-11-22 12:15:24         NaN  Pending\n",
       "147316    447411 2017-11-27 10:32:37         NaN  Pending\n",
       "148833    448966 2017-11-27 18:54:15         NaN  Pending\n",
       "149434    449596 2017-11-27 21:52:08         NaN  Pending"
      ]
     },
     "execution_count": 401,
     "metadata": {},
     "output_type": "execute_result"
    }
   ],
   "source": [
    "orders.loc[orders['total_paid'].isna()]"
   ]
  },
  {
   "cell_type": "markdown",
   "metadata": {},
   "source": [
    "its not necessary, but i want to search the orderliness to find if this missed orders exist. then i calculate the total_price from the orderlines to this missed datas"
   ]
  },
  {
   "cell_type": "code",
   "execution_count": 402,
   "metadata": {},
   "outputs": [
    {
     "data": {
      "text/html": [
       "<div>\n",
       "<style scoped>\n",
       "    .dataframe tbody tr th:only-of-type {\n",
       "        vertical-align: middle;\n",
       "    }\n",
       "\n",
       "    .dataframe tbody tr th {\n",
       "        vertical-align: top;\n",
       "    }\n",
       "\n",
       "    .dataframe thead th {\n",
       "        text-align: right;\n",
       "    }\n",
       "</style>\n",
       "<table border=\"1\" class=\"dataframe\">\n",
       "  <thead>\n",
       "    <tr style=\"text-align: right;\">\n",
       "      <th></th>\n",
       "      <th>order_id</th>\n",
       "      <th>created_date</th>\n",
       "      <th>total_paid</th>\n",
       "      <th>state</th>\n",
       "      <th>check_orders</th>\n",
       "    </tr>\n",
       "  </thead>\n",
       "  <tbody>\n",
       "    <tr>\n",
       "      <th>127701</th>\n",
       "      <td>427314</td>\n",
       "      <td>2017-11-20 18:54:39</td>\n",
       "      <td>NaN</td>\n",
       "      <td>Pending</td>\n",
       "      <td>True</td>\n",
       "    </tr>\n",
       "    <tr>\n",
       "      <th>132013</th>\n",
       "      <td>431655</td>\n",
       "      <td>2017-11-22 12:15:24</td>\n",
       "      <td>NaN</td>\n",
       "      <td>Pending</td>\n",
       "      <td>True</td>\n",
       "    </tr>\n",
       "    <tr>\n",
       "      <th>147316</th>\n",
       "      <td>447411</td>\n",
       "      <td>2017-11-27 10:32:37</td>\n",
       "      <td>NaN</td>\n",
       "      <td>Pending</td>\n",
       "      <td>True</td>\n",
       "    </tr>\n",
       "    <tr>\n",
       "      <th>148833</th>\n",
       "      <td>448966</td>\n",
       "      <td>2017-11-27 18:54:15</td>\n",
       "      <td>NaN</td>\n",
       "      <td>Pending</td>\n",
       "      <td>True</td>\n",
       "    </tr>\n",
       "    <tr>\n",
       "      <th>149434</th>\n",
       "      <td>449596</td>\n",
       "      <td>2017-11-27 21:52:08</td>\n",
       "      <td>NaN</td>\n",
       "      <td>Pending</td>\n",
       "      <td>True</td>\n",
       "    </tr>\n",
       "  </tbody>\n",
       "</table>\n",
       "</div>"
      ],
      "text/plain": [
       "        order_id        created_date  total_paid    state  check_orders\n",
       "127701    427314 2017-11-20 18:54:39         NaN  Pending          True\n",
       "132013    431655 2017-11-22 12:15:24         NaN  Pending          True\n",
       "147316    447411 2017-11-27 10:32:37         NaN  Pending          True\n",
       "148833    448966 2017-11-27 18:54:15         NaN  Pending          True\n",
       "149434    449596 2017-11-27 21:52:08         NaN  Pending          True"
      ]
     },
     "execution_count": 402,
     "metadata": {},
     "output_type": "execute_result"
    }
   ],
   "source": [
    "missed_orders =(\n",
    "orders\n",
    "      .loc[orders['total_paid'].isna()]\n",
    ")\n",
    "\n",
    "missed_orders.assign(check_orders = missed_orders['order_id'].isin(orderlines['id_order']))"
   ]
  },
  {
   "cell_type": "markdown",
   "metadata": {},
   "source": [
    "we can recalculate all 5 missed values from orderlines, lets to calculate them "
   ]
  },
  {
   "cell_type": "code",
   "execution_count": 403,
   "metadata": {},
   "outputs": [
    {
     "data": {
      "text/html": [
       "<div>\n",
       "<style scoped>\n",
       "    .dataframe tbody tr th:only-of-type {\n",
       "        vertical-align: middle;\n",
       "    }\n",
       "\n",
       "    .dataframe tbody tr th {\n",
       "        vertical-align: top;\n",
       "    }\n",
       "\n",
       "    .dataframe thead th {\n",
       "        text-align: right;\n",
       "    }\n",
       "</style>\n",
       "<table border=\"1\" class=\"dataframe\">\n",
       "  <thead>\n",
       "    <tr style=\"text-align: right;\">\n",
       "      <th></th>\n",
       "      <th>order_id</th>\n",
       "      <th>repaired_total_price</th>\n",
       "    </tr>\n",
       "  </thead>\n",
       "  <tbody>\n",
       "    <tr>\n",
       "      <th>0</th>\n",
       "      <td>427314</td>\n",
       "      <td>75.99</td>\n",
       "    </tr>\n",
       "    <tr>\n",
       "      <th>1</th>\n",
       "      <td>431655</td>\n",
       "      <td>154.00</td>\n",
       "    </tr>\n",
       "    <tr>\n",
       "      <th>2</th>\n",
       "      <td>447411</td>\n",
       "      <td>180.76</td>\n",
       "    </tr>\n",
       "    <tr>\n",
       "      <th>3</th>\n",
       "      <td>448966</td>\n",
       "      <td>961.02</td>\n",
       "    </tr>\n",
       "    <tr>\n",
       "      <th>4</th>\n",
       "      <td>449596</td>\n",
       "      <td>1722.59</td>\n",
       "    </tr>\n",
       "  </tbody>\n",
       "</table>\n",
       "</div>"
      ],
      "text/plain": [
       "   order_id  repaired_total_price\n",
       "0    427314                 75.99\n",
       "1    431655                154.00\n",
       "2    447411                180.76\n",
       "3    448966                961.02\n",
       "4    449596               1722.59"
      ]
     },
     "execution_count": 403,
     "metadata": {},
     "output_type": "execute_result"
    }
   ],
   "source": [
    "missed_orders_total_paid = (\n",
    "missed_orders\n",
    "            .merge(\n",
    "                    orderlines, \n",
    "                    how= 'inner', \n",
    "                    left_on= 'order_id',\n",
    "                    right_on= 'id_order'\n",
    "                  )\n",
    "            .assign(unit_price_new = lambda df_ : df_['unit_price'].replace(r'(\\d*)\\.(\\d{3}\\.\\d{2})$', r'\\1\\2', regex= True).astype('float'))\n",
    "            .groupby('order_id')\n",
    "            .agg(repaired_total_price = ('unit_price_new', 'sum'))\n",
    "            .reset_index()\n",
    ")\n",
    "missed_orders_total_paid "
   ]
  },
  {
   "cell_type": "markdown",
   "metadata": {},
   "source": [
    "and now ill fill the missed values with my new values"
   ]
  },
  {
   "cell_type": "code",
   "execution_count": 404,
   "metadata": {},
   "outputs": [
    {
     "name": "stdout",
     "output_type": "stream",
     "text": [
      "<class 'pandas.core.frame.DataFrame'>\n",
      "RangeIndex: 226909 entries, 0 to 226908\n",
      "Data columns (total 4 columns):\n",
      " #   Column        Non-Null Count   Dtype         \n",
      "---  ------        --------------   -----         \n",
      " 0   order_id      226909 non-null  int64         \n",
      " 1   created_date  226909 non-null  datetime64[ns]\n",
      " 2   total_paid    226909 non-null  float64       \n",
      " 3   state         226909 non-null  object        \n",
      "dtypes: datetime64[ns](1), float64(1), int64(1), object(1)\n",
      "memory usage: 6.9+ MB\n"
     ]
    }
   ],
   "source": [
    "def get_total_price(order):\n",
    "  result = (\n",
    "            missed_orders_total_paid\n",
    "           .merge(\n",
    "                  order,\n",
    "                  how= 'right',\n",
    "                  left_on= 'order_id',\n",
    "                  right_on= 'order_id'\n",
    "                  )\n",
    "           .loc[:,'repaired_total_price']\n",
    "  )\n",
    "  return result\n",
    "\n",
    "orders = orders.fillna(value ={\"total_paid\" : get_total_price(orders['order_id']) })\n",
    "\n",
    "orders.info()"
   ]
  },
  {
   "cell_type": "markdown",
   "metadata": {},
   "source": [
    "**extra** : Since these orders are only a tiny fraction and there's a valid reason why the total_paid value is missing, we could simply exclude them from the dataset."
   ]
  },
  {
   "cell_type": "code",
   "execution_count": 405,
   "metadata": {},
   "outputs": [],
   "source": [
    "# orders.dropna(inplace=True)"
   ]
  },
  {
   "cell_type": "markdown",
   "metadata": {},
   "source": [
    "Now the dataset is clean. And the total paid is: "
   ]
  },
  {
   "cell_type": "code",
   "execution_count": 406,
   "metadata": {},
   "outputs": [
    {
     "data": {
      "text/plain": [
       "129162709.42991276"
      ]
     },
     "execution_count": 406,
     "metadata": {},
     "output_type": "execute_result"
    }
   ],
   "source": [
    "sum(orders['total_paid'])"
   ]
  },
  {
   "cell_type": "markdown",
   "metadata": {},
   "source": [
    "## Cleaning orderlines"
   ]
  },
  {
   "cell_type": "markdown",
   "metadata": {},
   "source": [
    "Following our data consistency check, will now gather in the orderlines DataFrame the same information we got from orders:\n",
    "\n",
    "* the initial and last dates\n",
    "* the sum of `total_paid`\n",
    "\n",
    "\n",
    "First let's transform our date time:"
   ]
  },
  {
   "cell_type": "code",
   "execution_count": 407,
   "metadata": {},
   "outputs": [],
   "source": [
    "orderlines['date'] = pd.to_datetime(orderlines['date'])"
   ]
  },
  {
   "cell_type": "code",
   "execution_count": 408,
   "metadata": {},
   "outputs": [
    {
     "data": {
      "text/plain": [
       "Timestamp('2017-01-01 00:07:19')"
      ]
     },
     "execution_count": 408,
     "metadata": {},
     "output_type": "execute_result"
    }
   ],
   "source": [
    "min(orderlines['date'])\n",
    "# orders: Timestamp('2017-01-01 00:07:19')"
   ]
  },
  {
   "cell_type": "code",
   "execution_count": 409,
   "metadata": {},
   "outputs": [
    {
     "data": {
      "text/plain": [
       "Timestamp('2018-03-14 13:58:36')"
      ]
     },
     "execution_count": 409,
     "metadata": {},
     "output_type": "execute_result"
    }
   ],
   "source": [
    "max(orderlines['date'])\n",
    "# orders: Timestamp('2018-03-14 13:58:36')"
   ]
  },
  {
   "cell_type": "markdown",
   "metadata": {},
   "source": [
    "**It's a match!**\n",
    "\n",
    "Now let's check the `total_paid` for orderlines:"
   ]
  },
  {
   "cell_type": "code",
   "execution_count": 410,
   "metadata": {},
   "outputs": [
    {
     "data": {
      "text/html": [
       "<div>\n",
       "<style scoped>\n",
       "    .dataframe tbody tr th:only-of-type {\n",
       "        vertical-align: middle;\n",
       "    }\n",
       "\n",
       "    .dataframe tbody tr th {\n",
       "        vertical-align: top;\n",
       "    }\n",
       "\n",
       "    .dataframe thead th {\n",
       "        text-align: right;\n",
       "    }\n",
       "</style>\n",
       "<table border=\"1\" class=\"dataframe\">\n",
       "  <thead>\n",
       "    <tr style=\"text-align: right;\">\n",
       "      <th></th>\n",
       "      <th>id</th>\n",
       "      <th>id_order</th>\n",
       "      <th>product_id</th>\n",
       "      <th>product_quantity</th>\n",
       "      <th>sku</th>\n",
       "      <th>unit_price</th>\n",
       "      <th>date</th>\n",
       "    </tr>\n",
       "  </thead>\n",
       "  <tbody>\n",
       "    <tr>\n",
       "      <th>0</th>\n",
       "      <td>1119109</td>\n",
       "      <td>299539</td>\n",
       "      <td>0</td>\n",
       "      <td>1</td>\n",
       "      <td>OTT0133</td>\n",
       "      <td>18.99</td>\n",
       "      <td>2017-01-01 00:07:19</td>\n",
       "    </tr>\n",
       "    <tr>\n",
       "      <th>1</th>\n",
       "      <td>1119110</td>\n",
       "      <td>299540</td>\n",
       "      <td>0</td>\n",
       "      <td>1</td>\n",
       "      <td>LGE0043</td>\n",
       "      <td>399.00</td>\n",
       "      <td>2017-01-01 00:19:45</td>\n",
       "    </tr>\n",
       "    <tr>\n",
       "      <th>2</th>\n",
       "      <td>1119111</td>\n",
       "      <td>299541</td>\n",
       "      <td>0</td>\n",
       "      <td>1</td>\n",
       "      <td>PAR0071</td>\n",
       "      <td>474.05</td>\n",
       "      <td>2017-01-01 00:20:57</td>\n",
       "    </tr>\n",
       "  </tbody>\n",
       "</table>\n",
       "</div>"
      ],
      "text/plain": [
       "        id  id_order  product_id  product_quantity      sku unit_price  \\\n",
       "0  1119109    299539           0                 1  OTT0133      18.99   \n",
       "1  1119110    299540           0                 1  LGE0043     399.00   \n",
       "2  1119111    299541           0                 1  PAR0071     474.05   \n",
       "\n",
       "                 date  \n",
       "0 2017-01-01 00:07:19  \n",
       "1 2017-01-01 00:19:45  \n",
       "2 2017-01-01 00:20:57  "
      ]
     },
     "execution_count": 410,
     "metadata": {},
     "output_type": "execute_result"
    }
   ],
   "source": [
    "orderlines.head(3)"
   ]
  },
  {
   "cell_type": "markdown",
   "metadata": {},
   "source": [
    "To get this value, we will have to calculate a new column, total price for each row. It would be product_quantity * unit_price. This operation will require that both columns have a numeric data type:"
   ]
  },
  {
   "cell_type": "code",
   "execution_count": 411,
   "metadata": {},
   "outputs": [
    {
     "data": {
      "text/plain": [
       "id                           int64\n",
       "id_order                     int64\n",
       "product_id                   int64\n",
       "product_quantity             int64\n",
       "sku                         object\n",
       "unit_price                  object\n",
       "date                datetime64[ns]\n",
       "dtype: object"
      ]
     },
     "execution_count": 411,
     "metadata": {},
     "output_type": "execute_result"
    }
   ],
   "source": [
    "orderlines.dtypes"
   ]
  },
  {
   "cell_type": "markdown",
   "metadata": {},
   "source": [
    "...it's not the case right now, so we will have to transform the unit_price to a numeric data type.\n"
   ]
  },
  {
   "cell_type": "code",
   "execution_count": 412,
   "metadata": {},
   "outputs": [],
   "source": [
    "# uncomment the line of code below and read the error it produces:\n",
    "# orderlines['product_quantity']*pd.to_numeric(orderlines['unit_price'])"
   ]
  },
  {
   "cell_type": "markdown",
   "metadata": {},
   "source": [
    "While trying to transform this column to numeric an error appears. From the error message,\n",
    "\n",
    "\"Unable to parse string '1.137.99' at position 6\"\n",
    "\n",
    "it seems that our dataset has some problems with the thousands separators: they were encoded as dots, and Python & pandas only admit one dot per number: the decimal separator!\n",
    "\n",
    "Lesson learned: do not use thousand separators in databases / statistical software / programming languages! Sadly, it's too late for us, and we will have to deal with the issue.\n",
    "\n",
    "There are many ways to approach this problem."
   ]
  },
  {
   "cell_type": "markdown",
   "metadata": {},
   "source": [
    "i use a replace regex pattern to remove the thousand point, and then i convert the unit price to float. and add the new values in a new column \"new_unit_price\""
   ]
  },
  {
   "cell_type": "code",
   "execution_count": 413,
   "metadata": {},
   "outputs": [],
   "source": [
    "orderlines= (\n",
    "orderlines    \n",
    "        .assign(new_unit_price = lambda df_ : df_['unit_price'].replace(r'(\\d*)\\.(\\d{3}\\.\\d{2})$', r'\\1\\2', regex= True).astype('float'))\n",
    ")"
   ]
  },
  {
   "cell_type": "code",
   "execution_count": 414,
   "metadata": {},
   "outputs": [
    {
     "name": "stdout",
     "output_type": "stream",
     "text": [
      "<class 'pandas.core.frame.DataFrame'>\n",
      "RangeIndex: 293983 entries, 0 to 293982\n",
      "Data columns (total 8 columns):\n",
      " #   Column            Non-Null Count   Dtype         \n",
      "---  ------            --------------   -----         \n",
      " 0   id                293983 non-null  int64         \n",
      " 1   id_order          293983 non-null  int64         \n",
      " 2   product_id        293983 non-null  int64         \n",
      " 3   product_quantity  293983 non-null  int64         \n",
      " 4   sku               293983 non-null  object        \n",
      " 5   unit_price        293983 non-null  object        \n",
      " 6   date              293983 non-null  datetime64[ns]\n",
      " 7   new_unit_price    293983 non-null  float64       \n",
      "dtypes: datetime64[ns](1), float64(1), int64(4), object(2)\n",
      "memory usage: 17.9+ MB\n"
     ]
    }
   ],
   "source": [
    "orderlines.info()"
   ]
  },
  {
   "cell_type": "markdown",
   "metadata": {},
   "source": [
    "Data cleaning done! \n",
    "\n",
    "Back to data consistency: Now it is time to multiply `product_quantity` and `unit price`, sum all the rows and check whether the value matches the sum of the `total_paid` from the orders DataFrame: "
   ]
  },
  {
   "cell_type": "code",
   "execution_count": 415,
   "metadata": {},
   "outputs": [
    {
     "data": {
      "text/plain": [
       "128776222.02999999"
      ]
     },
     "execution_count": 415,
     "metadata": {},
     "output_type": "execute_result"
    }
   ],
   "source": [
    "# create a new column \"total_price\" by multiplying product_quantity times unit_price\n",
    "orderlines =(\n",
    "orderlines\n",
    "        .assign(total_price = lambda df_ : df_['product_quantity'] * df_['new_unit_price'])\n",
    ")\n",
    "\n",
    "# sum of the new column \"total_price\":\n",
    "orderlines['total_price'].sum()"
   ]
  },
  {
   "cell_type": "markdown",
   "metadata": {},
   "source": [
    "Sadly, it does not match exactly with the sum of `total_paid` from orders:"
   ]
  },
  {
   "cell_type": "code",
   "execution_count": 416,
   "metadata": {},
   "outputs": [
    {
     "data": {
      "text/plain": [
       "129162709.43"
      ]
     },
     "execution_count": 416,
     "metadata": {},
     "output_type": "execute_result"
    }
   ],
   "source": [
    "orders['total_paid'].sum()"
   ]
  },
  {
   "cell_type": "markdown",
   "metadata": {},
   "source": [
    "The mismatch is about 386 thousand dollars, a non-neglegible amount of money:"
   ]
  },
  {
   "cell_type": "code",
   "execution_count": 417,
   "metadata": {},
   "outputs": [
    {
     "data": {
      "text/plain": [
       "-386487.40000002086"
      ]
     },
     "execution_count": 417,
     "metadata": {},
     "output_type": "execute_result"
    }
   ],
   "source": [
    "orderlines['total_price'].sum() - orders['total_paid'].sum()"
   ]
  },
  {
   "cell_type": "markdown",
   "metadata": {},
   "source": [
    "## Matching `orders` and `orderlines`\n",
    "\n",
    "It is possible that some orders exist in one dataset but not in the other one. This would be a potential source for this price mismatch. Let's find out!"
   ]
  },
  {
   "cell_type": "markdown",
   "metadata": {},
   "source": [
    "We first create a new column in the `orderlines` dataset using `assign`. We also use `isin()` to create a boolen value (True/False) that checks whether the `id_order` is present in the `orders` dataset:"
   ]
  },
  {
   "cell_type": "code",
   "execution_count": 418,
   "metadata": {},
   "outputs": [
    {
     "data": {
      "text/html": [
       "<div>\n",
       "<style scoped>\n",
       "    .dataframe tbody tr th:only-of-type {\n",
       "        vertical-align: middle;\n",
       "    }\n",
       "\n",
       "    .dataframe tbody tr th {\n",
       "        vertical-align: top;\n",
       "    }\n",
       "\n",
       "    .dataframe thead th {\n",
       "        text-align: right;\n",
       "    }\n",
       "</style>\n",
       "<table border=\"1\" class=\"dataframe\">\n",
       "  <thead>\n",
       "    <tr style=\"text-align: right;\">\n",
       "      <th></th>\n",
       "      <th>id</th>\n",
       "      <th>id_order</th>\n",
       "      <th>product_id</th>\n",
       "      <th>product_quantity</th>\n",
       "      <th>sku</th>\n",
       "      <th>unit_price</th>\n",
       "      <th>date</th>\n",
       "      <th>new_unit_price</th>\n",
       "      <th>total_price</th>\n",
       "      <th>check_orders</th>\n",
       "    </tr>\n",
       "  </thead>\n",
       "  <tbody>\n",
       "    <tr>\n",
       "      <th>0</th>\n",
       "      <td>1119109</td>\n",
       "      <td>299539</td>\n",
       "      <td>0</td>\n",
       "      <td>1</td>\n",
       "      <td>OTT0133</td>\n",
       "      <td>18.99</td>\n",
       "      <td>2017-01-01 00:07:19</td>\n",
       "      <td>18.99</td>\n",
       "      <td>18.99</td>\n",
       "      <td>True</td>\n",
       "    </tr>\n",
       "    <tr>\n",
       "      <th>1</th>\n",
       "      <td>1119110</td>\n",
       "      <td>299540</td>\n",
       "      <td>0</td>\n",
       "      <td>1</td>\n",
       "      <td>LGE0043</td>\n",
       "      <td>399.00</td>\n",
       "      <td>2017-01-01 00:19:45</td>\n",
       "      <td>399.00</td>\n",
       "      <td>399.00</td>\n",
       "      <td>True</td>\n",
       "    </tr>\n",
       "    <tr>\n",
       "      <th>2</th>\n",
       "      <td>1119111</td>\n",
       "      <td>299541</td>\n",
       "      <td>0</td>\n",
       "      <td>1</td>\n",
       "      <td>PAR0071</td>\n",
       "      <td>474.05</td>\n",
       "      <td>2017-01-01 00:20:57</td>\n",
       "      <td>474.05</td>\n",
       "      <td>474.05</td>\n",
       "      <td>True</td>\n",
       "    </tr>\n",
       "    <tr>\n",
       "      <th>3</th>\n",
       "      <td>1119112</td>\n",
       "      <td>299542</td>\n",
       "      <td>0</td>\n",
       "      <td>1</td>\n",
       "      <td>WDT0315</td>\n",
       "      <td>68.39</td>\n",
       "      <td>2017-01-01 00:51:40</td>\n",
       "      <td>68.39</td>\n",
       "      <td>68.39</td>\n",
       "      <td>True</td>\n",
       "    </tr>\n",
       "    <tr>\n",
       "      <th>4</th>\n",
       "      <td>1119113</td>\n",
       "      <td>299543</td>\n",
       "      <td>0</td>\n",
       "      <td>1</td>\n",
       "      <td>JBL0104</td>\n",
       "      <td>23.74</td>\n",
       "      <td>2017-01-01 01:06:38</td>\n",
       "      <td>23.74</td>\n",
       "      <td>23.74</td>\n",
       "      <td>True</td>\n",
       "    </tr>\n",
       "    <tr>\n",
       "      <th>...</th>\n",
       "      <td>...</td>\n",
       "      <td>...</td>\n",
       "      <td>...</td>\n",
       "      <td>...</td>\n",
       "      <td>...</td>\n",
       "      <td>...</td>\n",
       "      <td>...</td>\n",
       "      <td>...</td>\n",
       "      <td>...</td>\n",
       "      <td>...</td>\n",
       "    </tr>\n",
       "    <tr>\n",
       "      <th>293978</th>\n",
       "      <td>1650199</td>\n",
       "      <td>527398</td>\n",
       "      <td>0</td>\n",
       "      <td>1</td>\n",
       "      <td>JBL0122</td>\n",
       "      <td>42.99</td>\n",
       "      <td>2018-03-14 13:57:25</td>\n",
       "      <td>42.99</td>\n",
       "      <td>42.99</td>\n",
       "      <td>True</td>\n",
       "    </tr>\n",
       "    <tr>\n",
       "      <th>293979</th>\n",
       "      <td>1650200</td>\n",
       "      <td>527399</td>\n",
       "      <td>0</td>\n",
       "      <td>1</td>\n",
       "      <td>PAC0653</td>\n",
       "      <td>141.58</td>\n",
       "      <td>2018-03-14 13:57:34</td>\n",
       "      <td>141.58</td>\n",
       "      <td>141.58</td>\n",
       "      <td>True</td>\n",
       "    </tr>\n",
       "    <tr>\n",
       "      <th>293980</th>\n",
       "      <td>1650201</td>\n",
       "      <td>527400</td>\n",
       "      <td>0</td>\n",
       "      <td>2</td>\n",
       "      <td>APP0698</td>\n",
       "      <td>9.99</td>\n",
       "      <td>2018-03-14 13:57:41</td>\n",
       "      <td>9.99</td>\n",
       "      <td>19.98</td>\n",
       "      <td>True</td>\n",
       "    </tr>\n",
       "    <tr>\n",
       "      <th>293981</th>\n",
       "      <td>1650202</td>\n",
       "      <td>527388</td>\n",
       "      <td>0</td>\n",
       "      <td>1</td>\n",
       "      <td>BEZ0204</td>\n",
       "      <td>19.99</td>\n",
       "      <td>2018-03-14 13:58:01</td>\n",
       "      <td>19.99</td>\n",
       "      <td>19.99</td>\n",
       "      <td>True</td>\n",
       "    </tr>\n",
       "    <tr>\n",
       "      <th>293982</th>\n",
       "      <td>1650203</td>\n",
       "      <td>527401</td>\n",
       "      <td>0</td>\n",
       "      <td>1</td>\n",
       "      <td>APP0927</td>\n",
       "      <td>13.99</td>\n",
       "      <td>2018-03-14 13:58:36</td>\n",
       "      <td>13.99</td>\n",
       "      <td>13.99</td>\n",
       "      <td>True</td>\n",
       "    </tr>\n",
       "  </tbody>\n",
       "</table>\n",
       "<p>293983 rows × 10 columns</p>\n",
       "</div>"
      ],
      "text/plain": [
       "             id  id_order  product_id  product_quantity      sku unit_price  \\\n",
       "0       1119109    299539           0                 1  OTT0133      18.99   \n",
       "1       1119110    299540           0                 1  LGE0043     399.00   \n",
       "2       1119111    299541           0                 1  PAR0071     474.05   \n",
       "3       1119112    299542           0                 1  WDT0315      68.39   \n",
       "4       1119113    299543           0                 1  JBL0104      23.74   \n",
       "...         ...       ...         ...               ...      ...        ...   \n",
       "293978  1650199    527398           0                 1  JBL0122      42.99   \n",
       "293979  1650200    527399           0                 1  PAC0653     141.58   \n",
       "293980  1650201    527400           0                 2  APP0698       9.99   \n",
       "293981  1650202    527388           0                 1  BEZ0204      19.99   \n",
       "293982  1650203    527401           0                 1  APP0927      13.99   \n",
       "\n",
       "                      date  new_unit_price  total_price  check_orders  \n",
       "0      2017-01-01 00:07:19           18.99        18.99          True  \n",
       "1      2017-01-01 00:19:45          399.00       399.00          True  \n",
       "2      2017-01-01 00:20:57          474.05       474.05          True  \n",
       "3      2017-01-01 00:51:40           68.39        68.39          True  \n",
       "4      2017-01-01 01:06:38           23.74        23.74          True  \n",
       "...                    ...             ...          ...           ...  \n",
       "293978 2018-03-14 13:57:25           42.99        42.99          True  \n",
       "293979 2018-03-14 13:57:34          141.58       141.58          True  \n",
       "293980 2018-03-14 13:57:41            9.99        19.98          True  \n",
       "293981 2018-03-14 13:58:01           19.99        19.99          True  \n",
       "293982 2018-03-14 13:58:36           13.99        13.99          True  \n",
       "\n",
       "[293983 rows x 10 columns]"
      ]
     },
     "execution_count": 418,
     "metadata": {},
     "output_type": "execute_result"
    }
   ],
   "source": [
    "orderlines.assign(check_orders = orderlines['id_order'].isin(orders['order_id']))"
   ]
  },
  {
   "cell_type": "markdown",
   "metadata": {},
   "source": [
    "Then, using `.query` we select rows where the value in this new column is `False`:"
   ]
  },
  {
   "cell_type": "code",
   "execution_count": 419,
   "metadata": {},
   "outputs": [
    {
     "data": {
      "text/html": [
       "<div>\n",
       "<style scoped>\n",
       "    .dataframe tbody tr th:only-of-type {\n",
       "        vertical-align: middle;\n",
       "    }\n",
       "\n",
       "    .dataframe tbody tr th {\n",
       "        vertical-align: top;\n",
       "    }\n",
       "\n",
       "    .dataframe thead th {\n",
       "        text-align: right;\n",
       "    }\n",
       "</style>\n",
       "<table border=\"1\" class=\"dataframe\">\n",
       "  <thead>\n",
       "    <tr style=\"text-align: right;\">\n",
       "      <th></th>\n",
       "      <th>id</th>\n",
       "      <th>id_order</th>\n",
       "      <th>product_id</th>\n",
       "      <th>product_quantity</th>\n",
       "      <th>sku</th>\n",
       "      <th>unit_price</th>\n",
       "      <th>date</th>\n",
       "      <th>new_unit_price</th>\n",
       "      <th>total_price</th>\n",
       "      <th>check_orders</th>\n",
       "    </tr>\n",
       "  </thead>\n",
       "  <tbody>\n",
       "    <tr>\n",
       "      <th>5</th>\n",
       "      <td>1119114</td>\n",
       "      <td>295310</td>\n",
       "      <td>0</td>\n",
       "      <td>10</td>\n",
       "      <td>WDT0249</td>\n",
       "      <td>231.79</td>\n",
       "      <td>2017-01-01 01:14:27</td>\n",
       "      <td>231.79</td>\n",
       "      <td>2317.90</td>\n",
       "      <td>False</td>\n",
       "    </tr>\n",
       "    <tr>\n",
       "      <th>63</th>\n",
       "      <td>1119218</td>\n",
       "      <td>296284</td>\n",
       "      <td>0</td>\n",
       "      <td>1</td>\n",
       "      <td>BNQ0042</td>\n",
       "      <td>699.00</td>\n",
       "      <td>2017-01-01 09:58:35</td>\n",
       "      <td>699.00</td>\n",
       "      <td>699.00</td>\n",
       "      <td>False</td>\n",
       "    </tr>\n",
       "    <tr>\n",
       "      <th>67</th>\n",
       "      <td>1119223</td>\n",
       "      <td>294806</td>\n",
       "      <td>0</td>\n",
       "      <td>1</td>\n",
       "      <td>APP1849</td>\n",
       "      <td>2.558.99</td>\n",
       "      <td>2017-01-01 10:09:15</td>\n",
       "      <td>2558.99</td>\n",
       "      <td>2558.99</td>\n",
       "      <td>False</td>\n",
       "    </tr>\n",
       "    <tr>\n",
       "      <th>69</th>\n",
       "      <td>1119226</td>\n",
       "      <td>294806</td>\n",
       "      <td>0</td>\n",
       "      <td>1</td>\n",
       "      <td>APP1864</td>\n",
       "      <td>2.797.99</td>\n",
       "      <td>2017-01-01 10:15:14</td>\n",
       "      <td>2797.99</td>\n",
       "      <td>2797.99</td>\n",
       "      <td>False</td>\n",
       "    </tr>\n",
       "    <tr>\n",
       "      <th>70</th>\n",
       "      <td>1119235</td>\n",
       "      <td>297261</td>\n",
       "      <td>0</td>\n",
       "      <td>1</td>\n",
       "      <td>QNA0177</td>\n",
       "      <td>304.99</td>\n",
       "      <td>2017-01-01 10:17:59</td>\n",
       "      <td>304.99</td>\n",
       "      <td>304.99</td>\n",
       "      <td>False</td>\n",
       "    </tr>\n",
       "    <tr>\n",
       "      <th>...</th>\n",
       "      <td>...</td>\n",
       "      <td>...</td>\n",
       "      <td>...</td>\n",
       "      <td>...</td>\n",
       "      <td>...</td>\n",
       "      <td>...</td>\n",
       "      <td>...</td>\n",
       "      <td>...</td>\n",
       "      <td>...</td>\n",
       "      <td>...</td>\n",
       "    </tr>\n",
       "    <tr>\n",
       "      <th>275665</th>\n",
       "      <td>1621177</td>\n",
       "      <td>244328</td>\n",
       "      <td>0</td>\n",
       "      <td>1</td>\n",
       "      <td>OWC0260</td>\n",
       "      <td>349.00</td>\n",
       "      <td>2018-02-20 13:00:45</td>\n",
       "      <td>349.00</td>\n",
       "      <td>349.00</td>\n",
       "      <td>False</td>\n",
       "    </tr>\n",
       "    <tr>\n",
       "      <th>280055</th>\n",
       "      <td>1628699</td>\n",
       "      <td>261391</td>\n",
       "      <td>0</td>\n",
       "      <td>1</td>\n",
       "      <td>APP2352</td>\n",
       "      <td>3.343.00</td>\n",
       "      <td>2018-02-27 11:43:25</td>\n",
       "      <td>3343.00</td>\n",
       "      <td>3343.00</td>\n",
       "      <td>False</td>\n",
       "    </tr>\n",
       "    <tr>\n",
       "      <th>280352</th>\n",
       "      <td>1629247</td>\n",
       "      <td>287797</td>\n",
       "      <td>0</td>\n",
       "      <td>1</td>\n",
       "      <td>SYN0182</td>\n",
       "      <td>484.11</td>\n",
       "      <td>2018-02-27 19:16:26</td>\n",
       "      <td>484.11</td>\n",
       "      <td>484.11</td>\n",
       "      <td>False</td>\n",
       "    </tr>\n",
       "    <tr>\n",
       "      <th>280856</th>\n",
       "      <td>1630150</td>\n",
       "      <td>261391</td>\n",
       "      <td>0</td>\n",
       "      <td>1</td>\n",
       "      <td>SAT0091</td>\n",
       "      <td>44.99</td>\n",
       "      <td>2018-02-28 12:18:26</td>\n",
       "      <td>44.99</td>\n",
       "      <td>44.99</td>\n",
       "      <td>False</td>\n",
       "    </tr>\n",
       "    <tr>\n",
       "      <th>280869</th>\n",
       "      <td>1630178</td>\n",
       "      <td>261391</td>\n",
       "      <td>0</td>\n",
       "      <td>1</td>\n",
       "      <td>SAT0062</td>\n",
       "      <td>49.99</td>\n",
       "      <td>2018-02-28 12:30:57</td>\n",
       "      <td>49.99</td>\n",
       "      <td>49.99</td>\n",
       "      <td>False</td>\n",
       "    </tr>\n",
       "  </tbody>\n",
       "</table>\n",
       "<p>234 rows × 10 columns</p>\n",
       "</div>"
      ],
      "text/plain": [
       "             id  id_order  product_id  product_quantity      sku unit_price  \\\n",
       "5       1119114    295310           0                10  WDT0249     231.79   \n",
       "63      1119218    296284           0                 1  BNQ0042     699.00   \n",
       "67      1119223    294806           0                 1  APP1849   2.558.99   \n",
       "69      1119226    294806           0                 1  APP1864   2.797.99   \n",
       "70      1119235    297261           0                 1  QNA0177     304.99   \n",
       "...         ...       ...         ...               ...      ...        ...   \n",
       "275665  1621177    244328           0                 1  OWC0260     349.00   \n",
       "280055  1628699    261391           0                 1  APP2352   3.343.00   \n",
       "280352  1629247    287797           0                 1  SYN0182     484.11   \n",
       "280856  1630150    261391           0                 1  SAT0091      44.99   \n",
       "280869  1630178    261391           0                 1  SAT0062      49.99   \n",
       "\n",
       "                      date  new_unit_price  total_price  check_orders  \n",
       "5      2017-01-01 01:14:27          231.79      2317.90         False  \n",
       "63     2017-01-01 09:58:35          699.00       699.00         False  \n",
       "67     2017-01-01 10:09:15         2558.99      2558.99         False  \n",
       "69     2017-01-01 10:15:14         2797.99      2797.99         False  \n",
       "70     2017-01-01 10:17:59          304.99       304.99         False  \n",
       "...                    ...             ...          ...           ...  \n",
       "275665 2018-02-20 13:00:45          349.00       349.00         False  \n",
       "280055 2018-02-27 11:43:25         3343.00      3343.00         False  \n",
       "280352 2018-02-27 19:16:26          484.11       484.11         False  \n",
       "280856 2018-02-28 12:18:26           44.99        44.99         False  \n",
       "280869 2018-02-28 12:30:57           49.99        49.99         False  \n",
       "\n",
       "[234 rows x 10 columns]"
      ]
     },
     "execution_count": 419,
     "metadata": {},
     "output_type": "execute_result"
    }
   ],
   "source": [
    "(\n",
    "orderlines\n",
    "    .assign(check_orders = orderlines['id_order'].isin(orders['order_id']))\n",
    "    .query(\"check_orders==False\")\n",
    ")"
   ]
  },
  {
   "cell_type": "markdown",
   "metadata": {},
   "source": [
    "It looks like 234 rows in orderlines come from orders not present in the orders dataset. This is quite inconsistent, since the orders dataset should be the one and only source of truth for orders: if an order is not there, it should not exist. We will definitely report this anomaly, but for now, let's just remove those \"ghost\" orders:"
   ]
  },
  {
   "cell_type": "code",
   "execution_count": 420,
   "metadata": {},
   "outputs": [],
   "source": [
    "orderlines = (orderlines\n",
    "              .assign(check_orders = orderlines['id_order'].isin(orders['order_id']))\n",
    "              .query(\"check_orders==True\"))"
   ]
  },
  {
   "cell_type": "markdown",
   "metadata": {},
   "source": [
    "Now let's look at this problem in the opposite direction: are there orders in the `orders` dataset not present in `orderlines`?"
   ]
  },
  {
   "cell_type": "code",
   "execution_count": 421,
   "metadata": {},
   "outputs": [
    {
     "data": {
      "text/html": [
       "<div>\n",
       "<style scoped>\n",
       "    .dataframe tbody tr th:only-of-type {\n",
       "        vertical-align: middle;\n",
       "    }\n",
       "\n",
       "    .dataframe tbody tr th {\n",
       "        vertical-align: top;\n",
       "    }\n",
       "\n",
       "    .dataframe thead th {\n",
       "        text-align: right;\n",
       "    }\n",
       "</style>\n",
       "<table border=\"1\" class=\"dataframe\">\n",
       "  <thead>\n",
       "    <tr style=\"text-align: right;\">\n",
       "      <th></th>\n",
       "      <th>order_id</th>\n",
       "      <th>created_date</th>\n",
       "      <th>total_paid</th>\n",
       "      <th>state</th>\n",
       "      <th>check_orders</th>\n",
       "    </tr>\n",
       "  </thead>\n",
       "  <tbody>\n",
       "    <tr>\n",
       "      <th>8</th>\n",
       "      <td>245941</td>\n",
       "      <td>2017-01-01 10:32:23</td>\n",
       "      <td>183.52</td>\n",
       "      <td>Completed</td>\n",
       "      <td>False</td>\n",
       "    </tr>\n",
       "    <tr>\n",
       "      <th>65</th>\n",
       "      <td>268629</td>\n",
       "      <td>2017-01-31 11:27:25</td>\n",
       "      <td>73.23</td>\n",
       "      <td>Completed</td>\n",
       "      <td>False</td>\n",
       "    </tr>\n",
       "    <tr>\n",
       "      <th>75</th>\n",
       "      <td>272862</td>\n",
       "      <td>2017-04-18 18:17:10</td>\n",
       "      <td>128.99</td>\n",
       "      <td>Pending</td>\n",
       "      <td>False</td>\n",
       "    </tr>\n",
       "    <tr>\n",
       "      <th>82</th>\n",
       "      <td>277655</td>\n",
       "      <td>2017-02-01 08:44:55</td>\n",
       "      <td>9.99</td>\n",
       "      <td>Pending</td>\n",
       "      <td>False</td>\n",
       "    </tr>\n",
       "    <tr>\n",
       "      <th>83</th>\n",
       "      <td>277994</td>\n",
       "      <td>2017-01-23 18:30:11</td>\n",
       "      <td>52.99</td>\n",
       "      <td>Completed</td>\n",
       "      <td>False</td>\n",
       "    </tr>\n",
       "    <tr>\n",
       "      <th>...</th>\n",
       "      <td>...</td>\n",
       "      <td>...</td>\n",
       "      <td>...</td>\n",
       "      <td>...</td>\n",
       "      <td>...</td>\n",
       "    </tr>\n",
       "    <tr>\n",
       "      <th>226835</th>\n",
       "      <td>527328</td>\n",
       "      <td>2018-03-14 13:14:12</td>\n",
       "      <td>0.00</td>\n",
       "      <td>Shopping Basket</td>\n",
       "      <td>False</td>\n",
       "    </tr>\n",
       "    <tr>\n",
       "      <th>226851</th>\n",
       "      <td>527344</td>\n",
       "      <td>2018-03-14 13:25:21</td>\n",
       "      <td>0.00</td>\n",
       "      <td>Place Order</td>\n",
       "      <td>False</td>\n",
       "    </tr>\n",
       "    <tr>\n",
       "      <th>226853</th>\n",
       "      <td>527346</td>\n",
       "      <td>2018-03-14 13:26:14</td>\n",
       "      <td>0.00</td>\n",
       "      <td>Place Order</td>\n",
       "      <td>False</td>\n",
       "    </tr>\n",
       "    <tr>\n",
       "      <th>226855</th>\n",
       "      <td>527348</td>\n",
       "      <td>2018-03-14 13:28:18</td>\n",
       "      <td>0.00</td>\n",
       "      <td>Place Order</td>\n",
       "      <td>False</td>\n",
       "    </tr>\n",
       "    <tr>\n",
       "      <th>226889</th>\n",
       "      <td>527382</td>\n",
       "      <td>2018-03-14 13:47:43</td>\n",
       "      <td>0.00</td>\n",
       "      <td>Shopping Basket</td>\n",
       "      <td>False</td>\n",
       "    </tr>\n",
       "  </tbody>\n",
       "</table>\n",
       "<p>22213 rows × 5 columns</p>\n",
       "</div>"
      ],
      "text/plain": [
       "        order_id        created_date  total_paid            state  \\\n",
       "8         245941 2017-01-01 10:32:23      183.52        Completed   \n",
       "65        268629 2017-01-31 11:27:25       73.23        Completed   \n",
       "75        272862 2017-04-18 18:17:10      128.99          Pending   \n",
       "82        277655 2017-02-01 08:44:55        9.99          Pending   \n",
       "83        277994 2017-01-23 18:30:11       52.99        Completed   \n",
       "...          ...                 ...         ...              ...   \n",
       "226835    527328 2018-03-14 13:14:12        0.00  Shopping Basket   \n",
       "226851    527344 2018-03-14 13:25:21        0.00      Place Order   \n",
       "226853    527346 2018-03-14 13:26:14        0.00      Place Order   \n",
       "226855    527348 2018-03-14 13:28:18        0.00      Place Order   \n",
       "226889    527382 2018-03-14 13:47:43        0.00  Shopping Basket   \n",
       "\n",
       "        check_orders  \n",
       "8              False  \n",
       "65             False  \n",
       "75             False  \n",
       "82             False  \n",
       "83             False  \n",
       "...              ...  \n",
       "226835         False  \n",
       "226851         False  \n",
       "226853         False  \n",
       "226855         False  \n",
       "226889         False  \n",
       "\n",
       "[22213 rows x 5 columns]"
      ]
     },
     "execution_count": 421,
     "metadata": {},
     "output_type": "execute_result"
    }
   ],
   "source": [
    "(orders\n",
    " .assign(check_orders = orders['order_id'].isin(orderlines['id_order']))\n",
    " .query(\"check_orders==False\"))"
   ]
  },
  {
   "cell_type": "markdown",
   "metadata": {},
   "source": [
    "There are more than 22000 orders in the `orders` dataset that are not present on the `orderlines` dataset!!! We can try to find out why by looking at the state of these orders:"
   ]
  },
  {
   "cell_type": "code",
   "execution_count": 422,
   "metadata": {},
   "outputs": [
    {
     "data": {
      "text/plain": [
       "Place Order        12304\n",
       "Shopping Basket     9810\n",
       "Completed             45\n",
       "Cancelled             41\n",
       "Pending               13\n",
       "Name: state, dtype: int64"
      ]
     },
     "execution_count": 422,
     "metadata": {},
     "output_type": "execute_result"
    }
   ],
   "source": [
    "(orders\n",
    " .assign(check_orders = orders['order_id'].isin(orderlines['id_order']))\n",
    " .query(\"check_orders==False\")\n",
    " ['state'].value_counts())"
   ]
  },
  {
   "cell_type": "markdown",
   "metadata": {},
   "source": [
    "It looks like most of them are orders that were not fully completed: the products were left in the shopping basket or the order was \"placed\" but maybe not paid (hence the state \"Place Order\". Some of them were \"Completed\", though. \n",
    "\n",
    "This will require further research, and we might have to come back to these orders if we have to explore consumer behaviour (e.g. why are orders left in the shopping basket?), but for now, for the sake of data consistency, let's drop all of these unmatched orders:"
   ]
  },
  {
   "cell_type": "code",
   "execution_count": 423,
   "metadata": {},
   "outputs": [],
   "source": [
    "orders = (orders\n",
    "          .assign(check_orders = orders['order_id'].isin(orderlines['id_order']))\n",
    "          .query(\"check_orders==True\")\n",
    "         )"
   ]
  },
  {
   "cell_type": "markdown",
   "metadata": {},
   "source": [
    "Let's now check again if the total paid matches:"
   ]
  },
  {
   "cell_type": "code",
   "execution_count": 424,
   "metadata": {},
   "outputs": [
    {
     "data": {
      "text/plain": [
       "129133971.54"
      ]
     },
     "execution_count": 424,
     "metadata": {},
     "output_type": "execute_result"
    }
   ],
   "source": [
    "orders['total_paid'].sum()"
   ]
  },
  {
   "cell_type": "code",
   "execution_count": 425,
   "metadata": {},
   "outputs": [
    {
     "data": {
      "text/plain": [
       "128662488.13"
      ]
     },
     "execution_count": 425,
     "metadata": {},
     "output_type": "execute_result"
    }
   ],
   "source": [
    "orderlines['total_price'].sum()"
   ]
  },
  {
   "cell_type": "markdown",
   "metadata": {},
   "source": [
    "TILL NOT MATCHING!!! And actually, the difference got larger. This is outrageous. Let's keep exploring."
   ]
  },
  {
   "cell_type": "code",
   "execution_count": 426,
   "metadata": {},
   "outputs": [
    {
     "data": {
      "text/plain": [
       "471483.4100000113"
      ]
     },
     "execution_count": 426,
     "metadata": {},
     "output_type": "execute_result"
    }
   ],
   "source": [
    "orders['total_paid'].sum() - orderlines['total_price'].sum() "
   ]
  },
  {
   "cell_type": "markdown",
   "metadata": {},
   "source": [
    "## Solving the price mismatch\n",
    "\n",
    "Let's merge both datasets and compare, order by order, the `total_price`. We will call this new merged dataset `orders_info`.\n",
    "\n",
    "*Note: Remember that the `orderlines` dataset contains one row per product bought: an order where 3 different products were purchased will result in 3 rows there. Therefore, to merge `orderlines` with `orders`, we have to group `orderlines` by its `id_order` and aggregate it by taking the sum of the `total_price`."
   ]
  },
  {
   "cell_type": "code",
   "execution_count": 427,
   "metadata": {},
   "outputs": [
    {
     "data": {
      "text/html": [
       "<div>\n",
       "<style scoped>\n",
       "    .dataframe tbody tr th:only-of-type {\n",
       "        vertical-align: middle;\n",
       "    }\n",
       "\n",
       "    .dataframe tbody tr th {\n",
       "        vertical-align: top;\n",
       "    }\n",
       "\n",
       "    .dataframe thead th {\n",
       "        text-align: right;\n",
       "    }\n",
       "</style>\n",
       "<table border=\"1\" class=\"dataframe\">\n",
       "  <thead>\n",
       "    <tr style=\"text-align: right;\">\n",
       "      <th></th>\n",
       "      <th>total_price</th>\n",
       "      <th>order_id</th>\n",
       "      <th>created_date</th>\n",
       "      <th>total_paid</th>\n",
       "      <th>state</th>\n",
       "      <th>check_orders</th>\n",
       "    </tr>\n",
       "  </thead>\n",
       "  <tbody>\n",
       "    <tr>\n",
       "      <th>0</th>\n",
       "      <td>44.99</td>\n",
       "      <td>241319</td>\n",
       "      <td>2017-01-02 13:35:40</td>\n",
       "      <td>44.99</td>\n",
       "      <td>Cancelled</td>\n",
       "      <td>True</td>\n",
       "    </tr>\n",
       "    <tr>\n",
       "      <th>1</th>\n",
       "      <td>129.16</td>\n",
       "      <td>241423</td>\n",
       "      <td>2017-11-06 13:10:02</td>\n",
       "      <td>136.15</td>\n",
       "      <td>Completed</td>\n",
       "      <td>True</td>\n",
       "    </tr>\n",
       "    <tr>\n",
       "      <th>2</th>\n",
       "      <td>10.77</td>\n",
       "      <td>242832</td>\n",
       "      <td>2017-12-31 17:40:03</td>\n",
       "      <td>15.76</td>\n",
       "      <td>Completed</td>\n",
       "      <td>True</td>\n",
       "    </tr>\n",
       "    <tr>\n",
       "      <th>3</th>\n",
       "      <td>77.99</td>\n",
       "      <td>243330</td>\n",
       "      <td>2017-02-16 10:59:38</td>\n",
       "      <td>84.98</td>\n",
       "      <td>Completed</td>\n",
       "      <td>True</td>\n",
       "    </tr>\n",
       "    <tr>\n",
       "      <th>4</th>\n",
       "      <td>153.87</td>\n",
       "      <td>243784</td>\n",
       "      <td>2017-11-24 13:35:19</td>\n",
       "      <td>157.86</td>\n",
       "      <td>Cancelled</td>\n",
       "      <td>True</td>\n",
       "    </tr>\n",
       "    <tr>\n",
       "      <th>...</th>\n",
       "      <td>...</td>\n",
       "      <td>...</td>\n",
       "      <td>...</td>\n",
       "      <td>...</td>\n",
       "      <td>...</td>\n",
       "      <td>...</td>\n",
       "    </tr>\n",
       "    <tr>\n",
       "      <th>204691</th>\n",
       "      <td>42.99</td>\n",
       "      <td>527397</td>\n",
       "      <td>2018-03-14 13:56:38</td>\n",
       "      <td>42.99</td>\n",
       "      <td>Place Order</td>\n",
       "      <td>True</td>\n",
       "    </tr>\n",
       "    <tr>\n",
       "      <th>204692</th>\n",
       "      <td>42.99</td>\n",
       "      <td>527398</td>\n",
       "      <td>2018-03-14 13:57:25</td>\n",
       "      <td>42.99</td>\n",
       "      <td>Shopping Basket</td>\n",
       "      <td>True</td>\n",
       "    </tr>\n",
       "    <tr>\n",
       "      <th>204693</th>\n",
       "      <td>141.58</td>\n",
       "      <td>527399</td>\n",
       "      <td>2018-03-14 13:57:34</td>\n",
       "      <td>141.58</td>\n",
       "      <td>Shopping Basket</td>\n",
       "      <td>True</td>\n",
       "    </tr>\n",
       "    <tr>\n",
       "      <th>204694</th>\n",
       "      <td>19.98</td>\n",
       "      <td>527400</td>\n",
       "      <td>2018-03-14 13:57:41</td>\n",
       "      <td>19.98</td>\n",
       "      <td>Shopping Basket</td>\n",
       "      <td>True</td>\n",
       "    </tr>\n",
       "    <tr>\n",
       "      <th>204695</th>\n",
       "      <td>13.99</td>\n",
       "      <td>527401</td>\n",
       "      <td>2018-03-14 13:58:36</td>\n",
       "      <td>18.98</td>\n",
       "      <td>Place Order</td>\n",
       "      <td>True</td>\n",
       "    </tr>\n",
       "  </tbody>\n",
       "</table>\n",
       "<p>204696 rows × 6 columns</p>\n",
       "</div>"
      ],
      "text/plain": [
       "        total_price  order_id        created_date  total_paid  \\\n",
       "0             44.99    241319 2017-01-02 13:35:40       44.99   \n",
       "1            129.16    241423 2017-11-06 13:10:02      136.15   \n",
       "2             10.77    242832 2017-12-31 17:40:03       15.76   \n",
       "3             77.99    243330 2017-02-16 10:59:38       84.98   \n",
       "4            153.87    243784 2017-11-24 13:35:19      157.86   \n",
       "...             ...       ...                 ...         ...   \n",
       "204691        42.99    527397 2018-03-14 13:56:38       42.99   \n",
       "204692        42.99    527398 2018-03-14 13:57:25       42.99   \n",
       "204693       141.58    527399 2018-03-14 13:57:34      141.58   \n",
       "204694        19.98    527400 2018-03-14 13:57:41       19.98   \n",
       "204695        13.99    527401 2018-03-14 13:58:36       18.98   \n",
       "\n",
       "                  state  check_orders  \n",
       "0             Cancelled          True  \n",
       "1             Completed          True  \n",
       "2             Completed          True  \n",
       "3             Completed          True  \n",
       "4             Cancelled          True  \n",
       "...                 ...           ...  \n",
       "204691      Place Order          True  \n",
       "204692  Shopping Basket          True  \n",
       "204693  Shopping Basket          True  \n",
       "204694  Shopping Basket          True  \n",
       "204695      Place Order          True  \n",
       "\n",
       "[204696 rows x 6 columns]"
      ]
     },
     "execution_count": 427,
     "metadata": {},
     "output_type": "execute_result"
    }
   ],
   "source": [
    "orders_info = (\n",
    "orderlines\n",
    "    .groupby('id_order')\n",
    "    .agg({'total_price':'sum'})\n",
    "    .merge(orders, how='left', left_on='id_order', right_on='order_id')\n",
    ")\n",
    "orders_info"
   ]
  },
  {
   "cell_type": "markdown",
   "metadata": {},
   "source": [
    "Now that the `total` from both datasets is in the same dataframe, we can create a new column with the difference:"
   ]
  },
  {
   "cell_type": "code",
   "execution_count": 428,
   "metadata": {},
   "outputs": [
    {
     "data": {
      "text/html": [
       "<div>\n",
       "<style scoped>\n",
       "    .dataframe tbody tr th:only-of-type {\n",
       "        vertical-align: middle;\n",
       "    }\n",
       "\n",
       "    .dataframe tbody tr th {\n",
       "        vertical-align: top;\n",
       "    }\n",
       "\n",
       "    .dataframe thead th {\n",
       "        text-align: right;\n",
       "    }\n",
       "</style>\n",
       "<table border=\"1\" class=\"dataframe\">\n",
       "  <thead>\n",
       "    <tr style=\"text-align: right;\">\n",
       "      <th></th>\n",
       "      <th>total_price</th>\n",
       "      <th>order_id</th>\n",
       "      <th>created_date</th>\n",
       "      <th>total_paid</th>\n",
       "      <th>state</th>\n",
       "      <th>check_orders</th>\n",
       "      <th>price_difference</th>\n",
       "    </tr>\n",
       "  </thead>\n",
       "  <tbody>\n",
       "    <tr>\n",
       "      <th>56804</th>\n",
       "      <td>250802.37</td>\n",
       "      <td>361200</td>\n",
       "      <td>2017-06-01 11:55:02</td>\n",
       "      <td>214642.47</td>\n",
       "      <td>Shopping Basket</td>\n",
       "      <td>True</td>\n",
       "      <td>-36159.90</td>\n",
       "    </tr>\n",
       "    <tr>\n",
       "      <th>197894</th>\n",
       "      <td>7771.23</td>\n",
       "      <td>519801</td>\n",
       "      <td>2018-03-02 08:59:34</td>\n",
       "      <td>31.22</td>\n",
       "      <td>Shopping Basket</td>\n",
       "      <td>True</td>\n",
       "      <td>-7740.01</td>\n",
       "    </tr>\n",
       "    <tr>\n",
       "      <th>188174</th>\n",
       "      <td>3112.59</td>\n",
       "      <td>508818</td>\n",
       "      <td>2018-02-09 13:43:30</td>\n",
       "      <td>6.59</td>\n",
       "      <td>Shopping Basket</td>\n",
       "      <td>True</td>\n",
       "      <td>-3106.00</td>\n",
       "    </tr>\n",
       "    <tr>\n",
       "      <th>193916</th>\n",
       "      <td>3038.00</td>\n",
       "      <td>515325</td>\n",
       "      <td>2018-02-21 11:31:20</td>\n",
       "      <td>13.19</td>\n",
       "      <td>Shopping Basket</td>\n",
       "      <td>True</td>\n",
       "      <td>-3024.81</td>\n",
       "    </tr>\n",
       "    <tr>\n",
       "      <th>192918</th>\n",
       "      <td>2342.00</td>\n",
       "      <td>514198</td>\n",
       "      <td>2018-02-19 11:40:55</td>\n",
       "      <td>6.59</td>\n",
       "      <td>Shopping Basket</td>\n",
       "      <td>True</td>\n",
       "      <td>-2335.41</td>\n",
       "    </tr>\n",
       "    <tr>\n",
       "      <th>...</th>\n",
       "      <td>...</td>\n",
       "      <td>...</td>\n",
       "      <td>...</td>\n",
       "      <td>...</td>\n",
       "      <td>...</td>\n",
       "      <td>...</td>\n",
       "      <td>...</td>\n",
       "    </tr>\n",
       "    <tr>\n",
       "      <th>12387</th>\n",
       "      <td>10322.92</td>\n",
       "      <td>313023</td>\n",
       "      <td>2017-01-21 21:12:41</td>\n",
       "      <td>14648.91</td>\n",
       "      <td>Shopping Basket</td>\n",
       "      <td>True</td>\n",
       "      <td>4325.99</td>\n",
       "    </tr>\n",
       "    <tr>\n",
       "      <th>45740</th>\n",
       "      <td>12.90</td>\n",
       "      <td>349166</td>\n",
       "      <td>2017-04-24 11:40:42</td>\n",
       "      <td>12899.80</td>\n",
       "      <td>Shopping Basket</td>\n",
       "      <td>True</td>\n",
       "      <td>12886.90</td>\n",
       "    </tr>\n",
       "    <tr>\n",
       "      <th>119474</th>\n",
       "      <td>42.99</td>\n",
       "      <td>431635</td>\n",
       "      <td>2017-11-22 12:01:15</td>\n",
       "      <td>42988.90</td>\n",
       "      <td>Shopping Basket</td>\n",
       "      <td>True</td>\n",
       "      <td>42945.91</td>\n",
       "    </tr>\n",
       "    <tr>\n",
       "      <th>32392</th>\n",
       "      <td>79.98</td>\n",
       "      <td>334803</td>\n",
       "      <td>2017-03-13 20:41:31</td>\n",
       "      <td>79981.00</td>\n",
       "      <td>Shopping Basket</td>\n",
       "      <td>True</td>\n",
       "      <td>79901.02</td>\n",
       "    </tr>\n",
       "    <tr>\n",
       "      <th>70971</th>\n",
       "      <td>90.99</td>\n",
       "      <td>376851</td>\n",
       "      <td>2017-07-13 12:58:52</td>\n",
       "      <td>90989.60</td>\n",
       "      <td>Shopping Basket</td>\n",
       "      <td>True</td>\n",
       "      <td>90898.61</td>\n",
       "    </tr>\n",
       "  </tbody>\n",
       "</table>\n",
       "<p>204696 rows × 7 columns</p>\n",
       "</div>"
      ],
      "text/plain": [
       "        total_price  order_id        created_date  total_paid  \\\n",
       "56804     250802.37    361200 2017-06-01 11:55:02   214642.47   \n",
       "197894      7771.23    519801 2018-03-02 08:59:34       31.22   \n",
       "188174      3112.59    508818 2018-02-09 13:43:30        6.59   \n",
       "193916      3038.00    515325 2018-02-21 11:31:20       13.19   \n",
       "192918      2342.00    514198 2018-02-19 11:40:55        6.59   \n",
       "...             ...       ...                 ...         ...   \n",
       "12387      10322.92    313023 2017-01-21 21:12:41    14648.91   \n",
       "45740         12.90    349166 2017-04-24 11:40:42    12899.80   \n",
       "119474        42.99    431635 2017-11-22 12:01:15    42988.90   \n",
       "32392         79.98    334803 2017-03-13 20:41:31    79981.00   \n",
       "70971         90.99    376851 2017-07-13 12:58:52    90989.60   \n",
       "\n",
       "                  state  check_orders  price_difference  \n",
       "56804   Shopping Basket          True         -36159.90  \n",
       "197894  Shopping Basket          True          -7740.01  \n",
       "188174  Shopping Basket          True          -3106.00  \n",
       "193916  Shopping Basket          True          -3024.81  \n",
       "192918  Shopping Basket          True          -2335.41  \n",
       "...                 ...           ...               ...  \n",
       "12387   Shopping Basket          True           4325.99  \n",
       "45740   Shopping Basket          True          12886.90  \n",
       "119474  Shopping Basket          True          42945.91  \n",
       "32392   Shopping Basket          True          79901.02  \n",
       "70971   Shopping Basket          True          90898.61  \n",
       "\n",
       "[204696 rows x 7 columns]"
      ]
     },
     "execution_count": 428,
     "metadata": {},
     "output_type": "execute_result"
    }
   ],
   "source": [
    "orders_info['price_difference'] = orders_info['total_paid'] - orders_info['total_price'] \n",
    "orders_info.sort_values('price_difference')"
   ]
  },
  {
   "cell_type": "code",
   "execution_count": 429,
   "metadata": {},
   "outputs": [
    {
     "data": {
      "text/plain": [
       "count    204696.000000\n",
       "mean          2.303335\n",
       "std         297.458195\n",
       "min      -36159.900000\n",
       "25%           0.000000\n",
       "50%           0.000000\n",
       "75%           0.010000\n",
       "max       90898.610000\n",
       "Name: price_difference, dtype: float64"
      ]
     },
     "execution_count": 429,
     "metadata": {},
     "output_type": "execute_result"
    }
   ],
   "source": [
    "orders_info['price_difference'].describe()"
   ]
  },
  {
   "cell_type": "markdown",
   "metadata": {},
   "source": [
    "Looks like the maximum and minimum price differences are huge: some orders are really corrupted. But we also see from the mean and the quartiles that the price difference is neglegible for most orders."
   ]
  },
  {
   "cell_type": "markdown",
   "metadata": {},
   "source": [
    "## Remove outliers\n",
    "\n",
    "Decide on a criterion for removing orders whenever you cannot trust the price difference between `orders` and `orderlines`. \n",
    "\n",
    "Note: this solution does not completely achieve 100% trustable data, but the objective here is to end up with the best possible data within a limited amount of time, which makes a complete revision of the database protocols and the data pipelines is not feasible - and business questions are pending. Documenting and reporting this data cleaning process, including the criterion that you will use for determining what do you consider an \"outlier\", is key. Not being paralyzed by it is also important!"
   ]
  },
  {
   "cell_type": "markdown",
   "metadata": {},
   "source": [
    "Finding Outliers Using the Interquartile Rule\n",
    "\n",
    "We can use the interquartile range to identify outliers\n",
    "\n",
    "Determine the data's interquartile range.\n",
    "Multiply the interquartile range (IQR) by 1.5 - call this 1.5_iqr\n",
    "Add 1.5_iqr to the 75th percentile. Any figure above this is thought to be an outlier.\n",
    "Subtract 1.5_iqr from the 25th percentile. Any value below this is thought to be an outlier.\n",
    "Just keep in mind that the interquartile rule is simply a generalisation, not all situations call for it. In general, you should always check to see if the resulting outliers make sense by reviewing them after conducting your outlier analysis."
   ]
  },
  {
   "cell_type": "code",
   "execution_count": 430,
   "metadata": {},
   "outputs": [],
   "source": [
    "# Calculate the 25th & 75th percentiles\n",
    "Q1 = orders_info['price_difference'].quantile(0.25)\n",
    "Q3 = orders_info['price_difference'].quantile(0.75)\n",
    "# Calculate the interquartile range\n",
    "IQR = Q3-Q1\n",
    "\n",
    "# after data exploring maybe there is shipping costs added to the total paid\n",
    "# i try to add 10$ dollars for ignore this difference\n",
    "shipping_cost = 10\n",
    "# filter the DataFrame to include only \"non-outliers\"\n",
    "filtered = orders_info.loc[(orders_info['price_difference'] >= (Q1 - 1.5*IQR)) & (orders_info['price_difference'] <= ((Q3 + 1.5*IQR)+shipping_cost)), :]"
   ]
  },
  {
   "cell_type": "code",
   "execution_count": 431,
   "metadata": {},
   "outputs": [
    {
     "data": {
      "image/png": "[encoded data removed]",
      "text/plain": [
       "<Figure size 1872x576 with 1 Axes>"
      ]
     },
     "metadata": {
      "needs_background": "light"
     },
     "output_type": "display_data"
    }
   ],
   "source": [
    "plt.subplots(figsize=(26, 8))\n",
    "\n",
    "ax = sns.countplot(x=\"price_difference\", \n",
    "                   data=filtered,\n",
    "                #    ax=[-10,10,-1000,100],\n",
    "                   palette=\"colorblind\" # try deep, muted, pastel, bright, dark, and colorblind\n",
    "                   )\n",
    "# ax.set_xticks([-5,5])\n",
    "# plt.ylim(0, 1000)\n",
    "# plt.xlim(0,15)\n",
    "plt.xticks(rotation = 90)\n",
    "# ax.set_xlim(left=0, right=15)\n",
    "plt.show()"
   ]
  },
  {
   "cell_type": "code",
   "execution_count": 432,
   "metadata": {},
   "outputs": [
    {
     "data": {
      "text/html": [
       "<div>\n",
       "<style scoped>\n",
       "    .dataframe tbody tr th:only-of-type {\n",
       "        vertical-align: middle;\n",
       "    }\n",
       "\n",
       "    .dataframe tbody tr th {\n",
       "        vertical-align: top;\n",
       "    }\n",
       "\n",
       "    .dataframe thead th {\n",
       "        text-align: right;\n",
       "    }\n",
       "</style>\n",
       "<table border=\"1\" class=\"dataframe\">\n",
       "  <thead>\n",
       "    <tr style=\"text-align: right;\">\n",
       "      <th></th>\n",
       "      <th>total_price</th>\n",
       "      <th>order_id</th>\n",
       "      <th>created_date</th>\n",
       "      <th>total_paid</th>\n",
       "      <th>state</th>\n",
       "      <th>check_orders</th>\n",
       "      <th>price_difference</th>\n",
       "    </tr>\n",
       "  </thead>\n",
       "  <tbody>\n",
       "    <tr>\n",
       "      <th>0</th>\n",
       "      <td>44.99</td>\n",
       "      <td>241319</td>\n",
       "      <td>2017-01-02 13:35:40</td>\n",
       "      <td>44.99</td>\n",
       "      <td>Cancelled</td>\n",
       "      <td>True</td>\n",
       "      <td>0.00</td>\n",
       "    </tr>\n",
       "    <tr>\n",
       "      <th>1</th>\n",
       "      <td>129.16</td>\n",
       "      <td>241423</td>\n",
       "      <td>2017-11-06 13:10:02</td>\n",
       "      <td>136.15</td>\n",
       "      <td>Completed</td>\n",
       "      <td>True</td>\n",
       "      <td>6.99</td>\n",
       "    </tr>\n",
       "    <tr>\n",
       "      <th>2</th>\n",
       "      <td>10.77</td>\n",
       "      <td>242832</td>\n",
       "      <td>2017-12-31 17:40:03</td>\n",
       "      <td>15.76</td>\n",
       "      <td>Completed</td>\n",
       "      <td>True</td>\n",
       "      <td>4.99</td>\n",
       "    </tr>\n",
       "    <tr>\n",
       "      <th>3</th>\n",
       "      <td>77.99</td>\n",
       "      <td>243330</td>\n",
       "      <td>2017-02-16 10:59:38</td>\n",
       "      <td>84.98</td>\n",
       "      <td>Completed</td>\n",
       "      <td>True</td>\n",
       "      <td>6.99</td>\n",
       "    </tr>\n",
       "    <tr>\n",
       "      <th>4</th>\n",
       "      <td>153.87</td>\n",
       "      <td>243784</td>\n",
       "      <td>2017-11-24 13:35:19</td>\n",
       "      <td>157.86</td>\n",
       "      <td>Cancelled</td>\n",
       "      <td>True</td>\n",
       "      <td>3.99</td>\n",
       "    </tr>\n",
       "  </tbody>\n",
       "</table>\n",
       "</div>"
      ],
      "text/plain": [
       "   total_price  order_id        created_date  total_paid      state  \\\n",
       "0        44.99    241319 2017-01-02 13:35:40       44.99  Cancelled   \n",
       "1       129.16    241423 2017-11-06 13:10:02      136.15  Completed   \n",
       "2        10.77    242832 2017-12-31 17:40:03       15.76  Completed   \n",
       "3        77.99    243330 2017-02-16 10:59:38       84.98  Completed   \n",
       "4       153.87    243784 2017-11-24 13:35:19      157.86  Cancelled   \n",
       "\n",
       "   check_orders  price_difference  \n",
       "0          True              0.00  \n",
       "1          True              6.99  \n",
       "2          True              4.99  \n",
       "3          True              6.99  \n",
       "4          True              3.99  "
      ]
     },
     "execution_count": 432,
     "metadata": {},
     "output_type": "execute_result"
    }
   ],
   "source": [
    "filtered.head()"
   ]
  },
  {
   "cell_type": "code",
   "execution_count": 433,
   "metadata": {},
   "outputs": [
    {
     "data": {
      "text/plain": [
       "(202352, 7)"
      ]
     },
     "execution_count": 433,
     "metadata": {},
     "output_type": "execute_result"
    }
   ],
   "source": [
    "filtered.shape"
   ]
  },
  {
   "cell_type": "code",
   "execution_count": 434,
   "metadata": {},
   "outputs": [
    {
     "data": {
      "text/plain": [
       "10.024999999999977"
      ]
     },
     "execution_count": 434,
     "metadata": {},
     "output_type": "execute_result"
    }
   ],
   "source": [
    "# upper limit\n",
    "Q3 + 1.5*IQR +shipping_cost"
   ]
  },
  {
   "cell_type": "code",
   "execution_count": 435,
   "metadata": {},
   "outputs": [
    {
     "data": {
      "text/plain": [
       "-0.014999999999986358"
      ]
     },
     "execution_count": 435,
     "metadata": {},
     "output_type": "execute_result"
    }
   ],
   "source": [
    "# lower limit\n",
    "Q1 - 1.5*IQR "
   ]
  },
  {
   "cell_type": "markdown",
   "metadata": {},
   "source": [
    "Save the data once you are sure you can trust it!"
   ]
  },
  {
   "cell_type": "code",
   "execution_count": 436,
   "metadata": {},
   "outputs": [],
   "source": [
    "orderlines= (\n",
    "orderlines\n",
    "        .loc[ orderlines['id_order'].isin(filtered['order_id'])]\n",
    ")\n",
    "\n",
    "\n",
    "orders= (\n",
    "orders\n",
    "    .loc[ orders['order_id'].isin(filtered['order_id'])]\n",
    ")\n"
   ]
  },
  {
   "cell_type": "code",
   "execution_count": 437,
   "metadata": {},
   "outputs": [
    {
     "data": {
      "text/plain": [
       "-255110.94000001252"
      ]
     },
     "execution_count": 437,
     "metadata": {},
     "output_type": "execute_result"
    }
   ],
   "source": [
    "orderlines['total_price'].sum() - orders['total_paid'].sum()"
   ]
  },
  {
   "cell_type": "markdown",
   "metadata": {},
   "source": [
    "## Cleaning products"
   ]
  },
  {
   "cell_type": "markdown",
   "metadata": {},
   "source": [
    "Now it is time to clean the products dataset. Let's do a quick review of its major problems: "
   ]
  },
  {
   "cell_type": "code",
   "execution_count": 438,
   "metadata": {},
   "outputs": [
    {
     "name": "stdout",
     "output_type": "stream",
     "text": [
      "<class 'pandas.core.frame.DataFrame'>\n",
      "RangeIndex: 19326 entries, 0 to 19325\n",
      "Data columns (total 7 columns):\n",
      " #   Column       Non-Null Count  Dtype \n",
      "---  ------       --------------  ----- \n",
      " 0   sku          19326 non-null  object\n",
      " 1   name         19326 non-null  object\n",
      " 2   desc         19319 non-null  object\n",
      " 3   price        19280 non-null  object\n",
      " 4   promo_price  19326 non-null  object\n",
      " 5   in_stock     19326 non-null  int64 \n",
      " 6   type         19276 non-null  object\n",
      "dtypes: int64(1), object(6)\n",
      "memory usage: 1.0+ MB\n",
      "None \n",
      "\n",
      "Missing values: sku             0\n",
      "name            0\n",
      "desc            7\n",
      "price          46\n",
      "promo_price     0\n",
      "in_stock        0\n",
      "type           50\n",
      "dtype: int64 \n",
      "\n",
      "Duplicate rows: 8746\n",
      "Duplicate rows: 8747\n"
     ]
    }
   ],
   "source": [
    "print(products.info(), \"\\n\")\n",
    "print(\"Missing values:\", products.isna().sum(), \"\\n\")\n",
    "print(\"Duplicate rows:\", products.duplicated().sum())\n",
    "print(\"Duplicate rows:\", products.duplicated(subset='sku').sum())"
   ]
  },
  {
   "cell_type": "markdown",
   "metadata": {},
   "source": [
    "Looking at this overview, we can see that there are different things that have to be changed: \n",
    "\n",
    "* Data types: \n",
    "    * `price` should be a float\n",
    "    * `promo price` should be a float\n",
    "* Duplicated rows. They have to be removed. \n",
    "    * To accomplish this step you can use the method `pd.DataFrame.drop_duplicates()`. Be sure you drop all the duplicates based on the column **sku**, as it is the one you will use to merge with orderlines. \n",
    "* Missing values: \n",
    "    * Description maybe can be inferred by the name\n",
    "    * `price`. Is there a way we can extract the information from another table?\n",
    "    * `type`. Do we need this column for our analysis?\n",
    "    \n",
    "This task can be accomoplished by using all the methods you already know."
   ]
  },
  {
   "cell_type": "markdown",
   "metadata": {},
   "source": [
    "*Duplicates*"
   ]
  },
  {
   "cell_type": "code",
   "execution_count": 439,
   "metadata": {},
   "outputs": [],
   "source": [
    "products.drop_duplicates(subset= 'sku', inplace= True)"
   ]
  },
  {
   "cell_type": "markdown",
   "metadata": {},
   "source": [
    "## Matching `products` and `orderlines`\n",
    "\n",
    "It is possible that some product exist in one dataset but not in the other one. Let's find out!"
   ]
  },
  {
   "cell_type": "markdown",
   "metadata": {},
   "source": [
    "The products with sku s that didnt appear in orderlines, they didnt sold at all, and we can ignore them."
   ]
  },
  {
   "cell_type": "code",
   "execution_count": 588,
   "metadata": {},
   "outputs": [],
   "source": [
    "sold_skus =(\n",
    "    orderlines\n",
    "            .groupby('sku')\n",
    "            .agg(max_price = ('unit_price', 'max'), count_sold = ('unit_price', 'count'))\n",
    "            .reset_index()\n",
    ")\n",
    "sold_products=(\n",
    "    products\n",
    "        .loc[products['sku'].isin(sold_skus['sku'])]\n",
    "        .reset_index(drop= True)\n",
    ")\n"
   ]
  },
  {
   "cell_type": "markdown",
   "metadata": {},
   "source": [
    "and from the others direction"
   ]
  },
  {
   "cell_type": "code",
   "execution_count": 470,
   "metadata": {},
   "outputs": [
    {
     "data": {
      "text/plain": [
       "-1388"
      ]
     },
     "execution_count": 470,
     "metadata": {},
     "output_type": "execute_result"
    }
   ],
   "source": [
    "(\n",
    "orderlines\n",
    "        .loc[lambda df_ :  df_['sku'].isin(products['sku'])]\n",
    ")['sku'].count() - orderlines['sku'].count()"
   ]
  },
  {
   "cell_type": "markdown",
   "metadata": {},
   "source": [
    "there is 1388 orderlines that have a sku dosent exist in products. and we will delete them."
   ]
  },
  {
   "cell_type": "code",
   "execution_count": 471,
   "metadata": {},
   "outputs": [],
   "source": [
    "orderlines_last_v =(\n",
    "orderlines\n",
    "        .loc[lambda df_ :  df_['sku'].isin(products['sku'])]\n",
    ")"
   ]
  },
  {
   "cell_type": "markdown",
   "metadata": {},
   "source": [
    "and we had to check the orders again to matchit with products and orderlines"
   ]
  },
  {
   "cell_type": "code",
   "execution_count": 472,
   "metadata": {},
   "outputs": [
    {
     "data": {
      "text/plain": [
       "-631"
      ]
     },
     "execution_count": 472,
     "metadata": {},
     "output_type": "execute_result"
    }
   ],
   "source": [
    "(\n",
    "orders\n",
    "        .loc[orders['order_id'].isin(orderlines_last_v['id_order'])]\n",
    ")['order_id'].count()- orders['order_id'].count()"
   ]
  },
  {
   "cell_type": "markdown",
   "metadata": {},
   "source": [
    "there is 631 orders that have no orderlines more. just drop them."
   ]
  },
  {
   "cell_type": "code",
   "execution_count": 473,
   "metadata": {},
   "outputs": [],
   "source": [
    "orders_last_v=(\n",
    "orders\n",
    "        .loc[orders['order_id'].isin(orderlines_last_v['id_order'])]\n",
    ")"
   ]
  },
  {
   "cell_type": "markdown",
   "metadata": {},
   "source": [
    "*Deal with the \"price\" column*"
   ]
  },
  {
   "cell_type": "markdown",
   "metadata": {},
   "source": [
    "now we can recalculate the missed prices with the max price for that product in orderlines.\n"
   ]
  },
  {
   "cell_type": "code",
   "execution_count": 589,
   "metadata": {},
   "outputs": [
    {
     "data": {
      "text/html": [
       "<div>\n",
       "<style scoped>\n",
       "    .dataframe tbody tr th:only-of-type {\n",
       "        vertical-align: middle;\n",
       "    }\n",
       "\n",
       "    .dataframe tbody tr th {\n",
       "        vertical-align: top;\n",
       "    }\n",
       "\n",
       "    .dataframe thead th {\n",
       "        text-align: right;\n",
       "    }\n",
       "</style>\n",
       "<table border=\"1\" class=\"dataframe\">\n",
       "  <thead>\n",
       "    <tr style=\"text-align: right;\">\n",
       "      <th></th>\n",
       "      <th>sku</th>\n",
       "      <th>max_price</th>\n",
       "      <th>name</th>\n",
       "      <th>desc</th>\n",
       "      <th>price</th>\n",
       "      <th>promo_price</th>\n",
       "      <th>in_stock</th>\n",
       "      <th>type</th>\n",
       "    </tr>\n",
       "  </thead>\n",
       "  <tbody>\n",
       "    <tr>\n",
       "      <th>0</th>\n",
       "      <td>RAI0007</td>\n",
       "      <td>54.99</td>\n",
       "      <td>Silver Rain Design mStand Support</td>\n",
       "      <td>Aluminum support compatible with all MacBook</td>\n",
       "      <td>59.99</td>\n",
       "      <td>499.899</td>\n",
       "      <td>1</td>\n",
       "      <td>8696</td>\n",
       "    </tr>\n",
       "    <tr>\n",
       "      <th>1</th>\n",
       "      <td>APP0023</td>\n",
       "      <td>60.49</td>\n",
       "      <td>Apple Mac Keyboard Keypad Spanish</td>\n",
       "      <td>USB ultrathin keyboard Apple Mac Spanish.</td>\n",
       "      <td>59</td>\n",
       "      <td>589.996</td>\n",
       "      <td>0</td>\n",
       "      <td>13855401</td>\n",
       "    </tr>\n",
       "    <tr>\n",
       "      <th>2</th>\n",
       "      <td>APP0025</td>\n",
       "      <td>59.00</td>\n",
       "      <td>Mighty Mouse Apple Mouse for Mac</td>\n",
       "      <td>mouse Apple USB cable.</td>\n",
       "      <td>59</td>\n",
       "      <td>569.898</td>\n",
       "      <td>0</td>\n",
       "      <td>1387</td>\n",
       "    </tr>\n",
       "    <tr>\n",
       "      <th>3</th>\n",
       "      <td>APP0072</td>\n",
       "      <td>25.00</td>\n",
       "      <td>Apple Dock to USB Cable iPhone and iPod white</td>\n",
       "      <td>IPhone dock and USB Cable Apple iPod.</td>\n",
       "      <td>25</td>\n",
       "      <td>229.997</td>\n",
       "      <td>0</td>\n",
       "      <td>1230</td>\n",
       "    </tr>\n",
       "    <tr>\n",
       "      <th>4</th>\n",
       "      <td>KIN0007</td>\n",
       "      <td>35.71</td>\n",
       "      <td>Mac Memory Kingston 2GB 667MHz DDR2 SO-DIMM</td>\n",
       "      <td>2GB RAM Mac mini and iMac (2006/07) MacBook Pr...</td>\n",
       "      <td>34.99</td>\n",
       "      <td>31.99</td>\n",
       "      <td>1</td>\n",
       "      <td>1364</td>\n",
       "    </tr>\n",
       "    <tr>\n",
       "      <th>...</th>\n",
       "      <td>...</td>\n",
       "      <td>...</td>\n",
       "      <td>...</td>\n",
       "      <td>...</td>\n",
       "      <td>...</td>\n",
       "      <td>...</td>\n",
       "      <td>...</td>\n",
       "      <td>...</td>\n",
       "    </tr>\n",
       "    <tr>\n",
       "      <th>7824</th>\n",
       "      <td>MMW0012</td>\n",
       "      <td>22.99</td>\n",
       "      <td>My MW Case MacBook Pro 13 \"(Late 2016) Blue Sa...</td>\n",
       "      <td>Avoid shock and damage to your MacBook Pro 13-...</td>\n",
       "      <td>29.99</td>\n",
       "      <td>20.99</td>\n",
       "      <td>0</td>\n",
       "      <td>13835403</td>\n",
       "    </tr>\n",
       "    <tr>\n",
       "      <th>7825</th>\n",
       "      <td>MMW0013</td>\n",
       "      <td>22.99</td>\n",
       "      <td>My MW Case MacBook Pro 13 \"(Late 2016) White S...</td>\n",
       "      <td>Avoid shock and damage to your MacBook Pro 13-...</td>\n",
       "      <td>29.99</td>\n",
       "      <td>20.99</td>\n",
       "      <td>1</td>\n",
       "      <td>13835403</td>\n",
       "    </tr>\n",
       "    <tr>\n",
       "      <th>7826</th>\n",
       "      <td>MMW0016</td>\n",
       "      <td>22.99</td>\n",
       "      <td>My MW Case MacBook Pro 13 \"(Late 2016) Black</td>\n",
       "      <td>Avoid shock and damage to your MacBook Pro 13-...</td>\n",
       "      <td>29.99</td>\n",
       "      <td>20.99</td>\n",
       "      <td>1</td>\n",
       "      <td>13835403</td>\n",
       "    </tr>\n",
       "    <tr>\n",
       "      <th>7827</th>\n",
       "      <td>MMW0015</td>\n",
       "      <td>22.99</td>\n",
       "      <td>My MW Case MacBook Pro 13 \"(Late 2016) Gray</td>\n",
       "      <td>Avoid shock and damage to your MacBook Pro 13-...</td>\n",
       "      <td>29.99</td>\n",
       "      <td>20.99</td>\n",
       "      <td>1</td>\n",
       "      <td>13835403</td>\n",
       "    </tr>\n",
       "    <tr>\n",
       "      <th>7828</th>\n",
       "      <td>REP0076</td>\n",
       "      <td>149.99</td>\n",
       "      <td>repair Full screen iPad (1st generation)</td>\n",
       "      <td>Repair service including parts and labor for iPad</td>\n",
       "      <td>149.99</td>\n",
       "      <td>1.499.795</td>\n",
       "      <td>0</td>\n",
       "      <td>1,44E+11</td>\n",
       "    </tr>\n",
       "  </tbody>\n",
       "</table>\n",
       "<p>7829 rows × 8 columns</p>\n",
       "</div>"
      ],
      "text/plain": [
       "          sku max_price                                               name  \\\n",
       "0     RAI0007     54.99                  Silver Rain Design mStand Support   \n",
       "1     APP0023     60.49                  Apple Mac Keyboard Keypad Spanish   \n",
       "2     APP0025     59.00                   Mighty Mouse Apple Mouse for Mac   \n",
       "3     APP0072     25.00      Apple Dock to USB Cable iPhone and iPod white   \n",
       "4     KIN0007     35.71        Mac Memory Kingston 2GB 667MHz DDR2 SO-DIMM   \n",
       "...       ...       ...                                                ...   \n",
       "7824  MMW0012     22.99  My MW Case MacBook Pro 13 \"(Late 2016) Blue Sa...   \n",
       "7825  MMW0013     22.99  My MW Case MacBook Pro 13 \"(Late 2016) White S...   \n",
       "7826  MMW0016     22.99       My MW Case MacBook Pro 13 \"(Late 2016) Black   \n",
       "7827  MMW0015     22.99        My MW Case MacBook Pro 13 \"(Late 2016) Gray   \n",
       "7828  REP0076    149.99           repair Full screen iPad (1st generation)   \n",
       "\n",
       "                                                   desc   price promo_price  \\\n",
       "0          Aluminum support compatible with all MacBook   59.99     499.899   \n",
       "1             USB ultrathin keyboard Apple Mac Spanish.      59     589.996   \n",
       "2                                mouse Apple USB cable.      59     569.898   \n",
       "3                 IPhone dock and USB Cable Apple iPod.      25     229.997   \n",
       "4     2GB RAM Mac mini and iMac (2006/07) MacBook Pr...   34.99       31.99   \n",
       "...                                                 ...     ...         ...   \n",
       "7824  Avoid shock and damage to your MacBook Pro 13-...   29.99       20.99   \n",
       "7825  Avoid shock and damage to your MacBook Pro 13-...   29.99       20.99   \n",
       "7826  Avoid shock and damage to your MacBook Pro 13-...   29.99       20.99   \n",
       "7827  Avoid shock and damage to your MacBook Pro 13-...   29.99       20.99   \n",
       "7828  Repair service including parts and labor for iPad  149.99   1.499.795   \n",
       "\n",
       "      in_stock      type  \n",
       "0            1      8696  \n",
       "1            0  13855401  \n",
       "2            0      1387  \n",
       "3            0      1230  \n",
       "4            1      1364  \n",
       "...        ...       ...  \n",
       "7824         0  13835403  \n",
       "7825         1  13835403  \n",
       "7826         1  13835403  \n",
       "7827         1  13835403  \n",
       "7828         0  1,44E+11  \n",
       "\n",
       "[7829 rows x 8 columns]"
      ]
     },
     "execution_count": 589,
     "metadata": {},
     "output_type": "execute_result"
    }
   ],
   "source": [
    "\n",
    "recoverd_values = (\n",
    "orderlines_last_v\n",
    "        .groupby('sku')\n",
    "        .agg(max_price = ('unit_price', 'max'))\n",
    "        .reset_index()\n",
    "        .merge(\n",
    "                sold_products,\n",
    "                how= 'right',\n",
    "                on='sku'\n",
    "        )                           \n",
    ")\n",
    "recoverd_values"
   ]
  },
  {
   "cell_type": "code",
   "execution_count": 592,
   "metadata": {},
   "outputs": [
    {
     "data": {
      "text/html": [
       "<div>\n",
       "<style scoped>\n",
       "    .dataframe tbody tr th:only-of-type {\n",
       "        vertical-align: middle;\n",
       "    }\n",
       "\n",
       "    .dataframe tbody tr th {\n",
       "        vertical-align: top;\n",
       "    }\n",
       "\n",
       "    .dataframe thead th {\n",
       "        text-align: right;\n",
       "    }\n",
       "</style>\n",
       "<table border=\"1\" class=\"dataframe\">\n",
       "  <thead>\n",
       "    <tr style=\"text-align: right;\">\n",
       "      <th></th>\n",
       "      <th>sku</th>\n",
       "      <th>name</th>\n",
       "      <th>desc</th>\n",
       "      <th>price</th>\n",
       "      <th>promo_price</th>\n",
       "      <th>in_stock</th>\n",
       "      <th>type</th>\n",
       "      <th>new_price</th>\n",
       "    </tr>\n",
       "  </thead>\n",
       "  <tbody>\n",
       "    <tr>\n",
       "      <th>26</th>\n",
       "      <td>TWS0019</td>\n",
       "      <td>Twelve South MagicWand support Apple Magic Tra...</td>\n",
       "      <td>MagicWand for wireless keyboard and Magic Trac...</td>\n",
       "      <td>NaN</td>\n",
       "      <td>299.899</td>\n",
       "      <td>0</td>\n",
       "      <td>8696</td>\n",
       "      <td>29.99</td>\n",
       "    </tr>\n",
       "    <tr>\n",
       "      <th>1027</th>\n",
       "      <td>CEL0007</td>\n",
       "      <td>Celly Wallet Case with removable cover Black i...</td>\n",
       "      <td>Case Book for iPhone 6 card case type.</td>\n",
       "      <td>NaN</td>\n",
       "      <td>128.998</td>\n",
       "      <td>0</td>\n",
       "      <td>11865403</td>\n",
       "      <td>12.90</td>\n",
       "    </tr>\n",
       "    <tr>\n",
       "      <th>1028</th>\n",
       "      <td>CEL0012</td>\n",
       "      <td>Celly Silicone Hard Shell iPhone 6 Blue</td>\n",
       "      <td>Hard Shell Silicone iPhone 6.</td>\n",
       "      <td>NaN</td>\n",
       "      <td>4.99</td>\n",
       "      <td>0</td>\n",
       "      <td>11865403</td>\n",
       "      <td>4.99</td>\n",
       "    </tr>\n",
       "    <tr>\n",
       "      <th>1033</th>\n",
       "      <td>CEL0015</td>\n",
       "      <td>Celly fur-lined Powerbank battery 4000mAh Black</td>\n",
       "      <td>Leather-wrapped External Battery 4000mAh for i...</td>\n",
       "      <td>NaN</td>\n",
       "      <td>239.895</td>\n",
       "      <td>0</td>\n",
       "      <td>1515</td>\n",
       "      <td>23.99</td>\n",
       "    </tr>\n",
       "    <tr>\n",
       "      <th>1035</th>\n",
       "      <td>CEL0023</td>\n",
       "      <td>Celly Ambo Luxury Leather Case + Case Gold iPh...</td>\n",
       "      <td>Cover and housing together with magnet for iPh...</td>\n",
       "      <td>NaN</td>\n",
       "      <td>329.894</td>\n",
       "      <td>0</td>\n",
       "      <td>11865403</td>\n",
       "      <td>32.99</td>\n",
       "    </tr>\n",
       "    <tr>\n",
       "      <th>2742</th>\n",
       "      <td>CEL0028</td>\n",
       "      <td>Celly Swing Arm button selfie with Bluetooth B...</td>\n",
       "      <td>selfie extendable arm for iPhone</td>\n",
       "      <td>NaN</td>\n",
       "      <td>59.895</td>\n",
       "      <td>0</td>\n",
       "      <td>11905404</td>\n",
       "      <td>9.99</td>\n",
       "    </tr>\n",
       "    <tr>\n",
       "      <th>2743</th>\n",
       "      <td>CEL0029</td>\n",
       "      <td>Celly extensible arm selfie with Bluetooth but...</td>\n",
       "      <td>selfie extendable arm for iPhone</td>\n",
       "      <td>NaN</td>\n",
       "      <td>69.902</td>\n",
       "      <td>0</td>\n",
       "      <td>5720</td>\n",
       "      <td>6.99</td>\n",
       "    </tr>\n",
       "    <tr>\n",
       "      <th>2744</th>\n",
       "      <td>CEL0030</td>\n",
       "      <td>Celly Smart Drive Housing + clip car holder iP...</td>\n",
       "      <td>Magnetic holder for car Compatible iPhone 5 5s...</td>\n",
       "      <td>NaN</td>\n",
       "      <td>89.903</td>\n",
       "      <td>0</td>\n",
       "      <td>5720</td>\n",
       "      <td>8.99</td>\n",
       "    </tr>\n",
       "    <tr>\n",
       "      <th>2748</th>\n",
       "      <td>CEL0043</td>\n",
       "      <td>Celly Fluor Case iPhone 6 / 6S Pink / Transparent</td>\n",
       "      <td>Protective Case for iPhone 6 and 6s</td>\n",
       "      <td>NaN</td>\n",
       "      <td>99.898</td>\n",
       "      <td>0</td>\n",
       "      <td>11865403</td>\n",
       "      <td>9.99</td>\n",
       "    </tr>\n",
       "    <tr>\n",
       "      <th>2749</th>\n",
       "      <td>CEL0044</td>\n",
       "      <td>Celly iPhone Case Fluor 6s / 6 Yellow / Transp...</td>\n",
       "      <td>protective case with two colors for iPhone 6 a...</td>\n",
       "      <td>NaN</td>\n",
       "      <td>79.896</td>\n",
       "      <td>1</td>\n",
       "      <td>11865403</td>\n",
       "      <td>9.99</td>\n",
       "    </tr>\n",
       "    <tr>\n",
       "      <th>2752</th>\n",
       "      <td>CEL0033</td>\n",
       "      <td>Celly Waterproof iPad Case / Air / Pro 97 \"Tra...</td>\n",
       "      <td>waterproof protective case for iPad bag format...</td>\n",
       "      <td>NaN</td>\n",
       "      <td>149.895</td>\n",
       "      <td>0</td>\n",
       "      <td>12635403</td>\n",
       "      <td>14.99</td>\n",
       "    </tr>\n",
       "    <tr>\n",
       "      <th>2753</th>\n",
       "      <td>CEL0036</td>\n",
       "      <td>Celly Adapter Micro USB connector to Lightning...</td>\n",
       "      <td>Micro USB adapter cable connection Lightning</td>\n",
       "      <td>NaN</td>\n",
       "      <td>89.903</td>\n",
       "      <td>1</td>\n",
       "      <td>14365395</td>\n",
       "      <td>8.99</td>\n",
       "    </tr>\n",
       "    <tr>\n",
       "      <th>2754</th>\n",
       "      <td>CEL0051</td>\n",
       "      <td>Celly 4000mAh Battery Power Bank Aluminum Dorado</td>\n",
       "      <td>external battery capacity 4000mAh output volta...</td>\n",
       "      <td>NaN</td>\n",
       "      <td>129.894</td>\n",
       "      <td>0</td>\n",
       "      <td>1515</td>\n",
       "      <td>24.99</td>\n",
       "    </tr>\n",
       "    <tr>\n",
       "      <th>2755</th>\n",
       "      <td>CEL0052</td>\n",
       "      <td>Celly 4000mAh Battery Power Bank Aluminum Silver</td>\n",
       "      <td>external battery capacity 4000mAh output volta...</td>\n",
       "      <td>NaN</td>\n",
       "      <td>199.892</td>\n",
       "      <td>0</td>\n",
       "      <td>1515</td>\n",
       "      <td>24.99</td>\n",
       "    </tr>\n",
       "    <tr>\n",
       "      <th>2756</th>\n",
       "      <td>CEL0055</td>\n",
       "      <td>Celly IceCube Case iPhone 6 / 6S White</td>\n",
       "      <td>Anti-shock Case for iPhone 6 / 6S</td>\n",
       "      <td>NaN</td>\n",
       "      <td>119.899</td>\n",
       "      <td>0</td>\n",
       "      <td>11865403</td>\n",
       "      <td>11.99</td>\n",
       "    </tr>\n",
       "    <tr>\n",
       "      <th>2757</th>\n",
       "      <td>CEL0056</td>\n",
       "      <td>IceCube Celly iPhone Case 6 / 6s Amarillo</td>\n",
       "      <td>Anti-shock Case for iPhone 6 / 6S</td>\n",
       "      <td>NaN</td>\n",
       "      <td>119.899</td>\n",
       "      <td>0</td>\n",
       "      <td>11865403</td>\n",
       "      <td>11.99</td>\n",
       "    </tr>\n",
       "    <tr>\n",
       "      <th>2758</th>\n",
       "      <td>CEL0058</td>\n",
       "      <td>Celly IceCube Case iPhone 6 / 6S Plus Rosa</td>\n",
       "      <td>Anti-shock Case for iPhone 6 / 6S Plus</td>\n",
       "      <td>NaN</td>\n",
       "      <td>99.898</td>\n",
       "      <td>0</td>\n",
       "      <td>11865403</td>\n",
       "      <td>9.99</td>\n",
       "    </tr>\n",
       "    <tr>\n",
       "      <th>2759</th>\n",
       "      <td>CEL0059</td>\n",
       "      <td>Celly IceCube Case iPhone 6 / 6S Plus White</td>\n",
       "      <td>Anti-shock Case for iPhone 6 / 6S Plus</td>\n",
       "      <td>NaN</td>\n",
       "      <td>119.899</td>\n",
       "      <td>0</td>\n",
       "      <td>11865403</td>\n",
       "      <td>9.99</td>\n",
       "    </tr>\n",
       "    <tr>\n",
       "      <th>2764</th>\n",
       "      <td>CEL0041</td>\n",
       "      <td>Celly iPhone 6S Plus Frost Case Black</td>\n",
       "      <td>Ultra Thin Case for iPhone 6 and 6s</td>\n",
       "      <td>NaN</td>\n",
       "      <td>89.903</td>\n",
       "      <td>0</td>\n",
       "      <td>11865403</td>\n",
       "      <td>8.99</td>\n",
       "    </tr>\n",
       "    <tr>\n",
       "      <th>2767</th>\n",
       "      <td>CEL0045</td>\n",
       "      <td>Laser Case Celly iPhone 6 / 6S Dark Silver</td>\n",
       "      <td>Protective Case for iPhone 6 and 6s</td>\n",
       "      <td>NaN</td>\n",
       "      <td>149.895</td>\n",
       "      <td>0</td>\n",
       "      <td>11865403</td>\n",
       "      <td>14.99</td>\n",
       "    </tr>\n",
       "    <tr>\n",
       "      <th>2768</th>\n",
       "      <td>CEL0046</td>\n",
       "      <td>Laser Case Celly iPhone 6 / 6S Clear Silver</td>\n",
       "      <td>Protective Case for iPhone 6 and 6s</td>\n",
       "      <td>NaN</td>\n",
       "      <td>149.895</td>\n",
       "      <td>0</td>\n",
       "      <td>11865403</td>\n",
       "      <td>14.99</td>\n",
       "    </tr>\n",
       "    <tr>\n",
       "      <th>2770</th>\n",
       "      <td>CEL0048</td>\n",
       "      <td>Laser Case Celly iPhone 6 / 6S Rosa</td>\n",
       "      <td>Protective Case for iPhone 6 and 6s</td>\n",
       "      <td>NaN</td>\n",
       "      <td>149.895</td>\n",
       "      <td>0</td>\n",
       "      <td>11865403</td>\n",
       "      <td>14.99</td>\n",
       "    </tr>\n",
       "    <tr>\n",
       "      <th>2772</th>\n",
       "      <td>CEL0037</td>\n",
       "      <td>Celly Frost Cover for iPhone 6 / 6S Black</td>\n",
       "      <td>Ultra Thin Case for iPhone 6 and 6s</td>\n",
       "      <td>NaN</td>\n",
       "      <td>99.898</td>\n",
       "      <td>0</td>\n",
       "      <td>11865403</td>\n",
       "      <td>9.99</td>\n",
       "    </tr>\n",
       "  </tbody>\n",
       "</table>\n",
       "</div>"
      ],
      "text/plain": [
       "          sku                                               name  \\\n",
       "26    TWS0019  Twelve South MagicWand support Apple Magic Tra...   \n",
       "1027  CEL0007  Celly Wallet Case with removable cover Black i...   \n",
       "1028  CEL0012            Celly Silicone Hard Shell iPhone 6 Blue   \n",
       "1033  CEL0015    Celly fur-lined Powerbank battery 4000mAh Black   \n",
       "1035  CEL0023  Celly Ambo Luxury Leather Case + Case Gold iPh...   \n",
       "2742  CEL0028  Celly Swing Arm button selfie with Bluetooth B...   \n",
       "2743  CEL0029  Celly extensible arm selfie with Bluetooth but...   \n",
       "2744  CEL0030  Celly Smart Drive Housing + clip car holder iP...   \n",
       "2748  CEL0043  Celly Fluor Case iPhone 6 / 6S Pink / Transparent   \n",
       "2749  CEL0044  Celly iPhone Case Fluor 6s / 6 Yellow / Transp...   \n",
       "2752  CEL0033  Celly Waterproof iPad Case / Air / Pro 97 \"Tra...   \n",
       "2753  CEL0036  Celly Adapter Micro USB connector to Lightning...   \n",
       "2754  CEL0051   Celly 4000mAh Battery Power Bank Aluminum Dorado   \n",
       "2755  CEL0052   Celly 4000mAh Battery Power Bank Aluminum Silver   \n",
       "2756  CEL0055             Celly IceCube Case iPhone 6 / 6S White   \n",
       "2757  CEL0056          IceCube Celly iPhone Case 6 / 6s Amarillo   \n",
       "2758  CEL0058         Celly IceCube Case iPhone 6 / 6S Plus Rosa   \n",
       "2759  CEL0059        Celly IceCube Case iPhone 6 / 6S Plus White   \n",
       "2764  CEL0041              Celly iPhone 6S Plus Frost Case Black   \n",
       "2767  CEL0045         Laser Case Celly iPhone 6 / 6S Dark Silver   \n",
       "2768  CEL0046        Laser Case Celly iPhone 6 / 6S Clear Silver   \n",
       "2770  CEL0048                Laser Case Celly iPhone 6 / 6S Rosa   \n",
       "2772  CEL0037          Celly Frost Cover for iPhone 6 / 6S Black   \n",
       "\n",
       "                                                   desc price promo_price  \\\n",
       "26    MagicWand for wireless keyboard and Magic Trac...   NaN     299.899   \n",
       "1027             Case Book for iPhone 6 card case type.   NaN     128.998   \n",
       "1028                      Hard Shell Silicone iPhone 6.   NaN        4.99   \n",
       "1033  Leather-wrapped External Battery 4000mAh for i...   NaN     239.895   \n",
       "1035  Cover and housing together with magnet for iPh...   NaN     329.894   \n",
       "2742                   selfie extendable arm for iPhone   NaN      59.895   \n",
       "2743                   selfie extendable arm for iPhone   NaN      69.902   \n",
       "2744  Magnetic holder for car Compatible iPhone 5 5s...   NaN      89.903   \n",
       "2748                Protective Case for iPhone 6 and 6s   NaN      99.898   \n",
       "2749  protective case with two colors for iPhone 6 a...   NaN      79.896   \n",
       "2752  waterproof protective case for iPad bag format...   NaN     149.895   \n",
       "2753       Micro USB adapter cable connection Lightning   NaN      89.903   \n",
       "2754  external battery capacity 4000mAh output volta...   NaN     129.894   \n",
       "2755  external battery capacity 4000mAh output volta...   NaN     199.892   \n",
       "2756                  Anti-shock Case for iPhone 6 / 6S   NaN     119.899   \n",
       "2757                  Anti-shock Case for iPhone 6 / 6S   NaN     119.899   \n",
       "2758             Anti-shock Case for iPhone 6 / 6S Plus   NaN      99.898   \n",
       "2759             Anti-shock Case for iPhone 6 / 6S Plus   NaN     119.899   \n",
       "2764                Ultra Thin Case for iPhone 6 and 6s   NaN      89.903   \n",
       "2767                Protective Case for iPhone 6 and 6s   NaN     149.895   \n",
       "2768                Protective Case for iPhone 6 and 6s   NaN     149.895   \n",
       "2770                Protective Case for iPhone 6 and 6s   NaN     149.895   \n",
       "2772                Ultra Thin Case for iPhone 6 and 6s   NaN      99.898   \n",
       "\n",
       "      in_stock      type new_price  \n",
       "26           0      8696     29.99  \n",
       "1027         0  11865403     12.90  \n",
       "1028         0  11865403      4.99  \n",
       "1033         0      1515     23.99  \n",
       "1035         0  11865403     32.99  \n",
       "2742         0  11905404      9.99  \n",
       "2743         0      5720      6.99  \n",
       "2744         0      5720      8.99  \n",
       "2748         0  11865403      9.99  \n",
       "2749         1  11865403      9.99  \n",
       "2752         0  12635403     14.99  \n",
       "2753         1  14365395      8.99  \n",
       "2754         0      1515     24.99  \n",
       "2755         0      1515     24.99  \n",
       "2756         0  11865403     11.99  \n",
       "2757         0  11865403     11.99  \n",
       "2758         0  11865403      9.99  \n",
       "2759         0  11865403      9.99  \n",
       "2764         0  11865403      8.99  \n",
       "2767         0  11865403     14.99  \n",
       "2768         0  11865403     14.99  \n",
       "2770         0  11865403     14.99  \n",
       "2772         0  11865403      9.99  "
      ]
     },
     "execution_count": 592,
     "metadata": {},
     "output_type": "execute_result"
    }
   ],
   "source": [
    "sold_products= (\n",
    "sold_products\n",
    "        .assign(new_price =np.where(\n",
    "                                    sold_products['price'].isna(),\n",
    "                                    recoverd_values['max_price'], sold_products['price']\n",
    "                                )\n",
    "                )\n",
    ")\n",
    "# sold_products.loc[lambda df_ : df_['price'].isna()]"
   ]
  },
  {
   "cell_type": "markdown",
   "metadata": {},
   "source": [
    "i add the max price column from the recovered_valuse to the sold_product, because we use this max price for fill the missed prices, and to make decision about messy prices too.\n",
    "and i add two new columns, \n",
    "'float_messy_price' , that will be fill by the converted all prices to float by my method\n",
    "'float_price', that will be fill by the float value of best price"
   ]
  },
  {
   "cell_type": "code",
   "execution_count": null,
   "metadata": {},
   "outputs": [],
   "source": [
    "#  .assign(new_unit_price = lambda df_ : df_['unit_price'].replace(r'(\\d*)\\.(\\d{3}\\.\\d{2})$', r'\\1\\2', regex= True).astype('float'))"
   ]
  },
  {
   "cell_type": "code",
   "execution_count": 595,
   "metadata": {},
   "outputs": [
    {
     "data": {
      "text/html": [
       "<div>\n",
       "<style scoped>\n",
       "    .dataframe tbody tr th:only-of-type {\n",
       "        vertical-align: middle;\n",
       "    }\n",
       "\n",
       "    .dataframe tbody tr th {\n",
       "        vertical-align: top;\n",
       "    }\n",
       "\n",
       "    .dataframe thead th {\n",
       "        text-align: right;\n",
       "    }\n",
       "</style>\n",
       "<table border=\"1\" class=\"dataframe\">\n",
       "  <thead>\n",
       "    <tr style=\"text-align: right;\">\n",
       "      <th></th>\n",
       "      <th>sku</th>\n",
       "      <th>name</th>\n",
       "      <th>desc</th>\n",
       "      <th>price</th>\n",
       "      <th>promo_price</th>\n",
       "      <th>in_stock</th>\n",
       "      <th>type</th>\n",
       "      <th>new_price</th>\n",
       "      <th>max_price</th>\n",
       "      <th>float_messy_price</th>\n",
       "      <th>float_price</th>\n",
       "    </tr>\n",
       "  </thead>\n",
       "  <tbody>\n",
       "    <tr>\n",
       "      <th>0</th>\n",
       "      <td>RAI0007</td>\n",
       "      <td>Silver Rain Design mStand Support</td>\n",
       "      <td>Aluminum support compatible with all MacBook</td>\n",
       "      <td>59.99</td>\n",
       "      <td>499.899</td>\n",
       "      <td>1</td>\n",
       "      <td>8696</td>\n",
       "      <td>59.99</td>\n",
       "      <td>54.99</td>\n",
       "      <td>59.99</td>\n",
       "      <td>0.0</td>\n",
       "    </tr>\n",
       "    <tr>\n",
       "      <th>1</th>\n",
       "      <td>APP0023</td>\n",
       "      <td>Apple Mac Keyboard Keypad Spanish</td>\n",
       "      <td>USB ultrathin keyboard Apple Mac Spanish.</td>\n",
       "      <td>59</td>\n",
       "      <td>589.996</td>\n",
       "      <td>0</td>\n",
       "      <td>13855401</td>\n",
       "      <td>59</td>\n",
       "      <td>60.49</td>\n",
       "      <td>59.00</td>\n",
       "      <td>0.0</td>\n",
       "    </tr>\n",
       "    <tr>\n",
       "      <th>2</th>\n",
       "      <td>APP0025</td>\n",
       "      <td>Mighty Mouse Apple Mouse for Mac</td>\n",
       "      <td>mouse Apple USB cable.</td>\n",
       "      <td>59</td>\n",
       "      <td>569.898</td>\n",
       "      <td>0</td>\n",
       "      <td>1387</td>\n",
       "      <td>59</td>\n",
       "      <td>59.00</td>\n",
       "      <td>59.00</td>\n",
       "      <td>0.0</td>\n",
       "    </tr>\n",
       "    <tr>\n",
       "      <th>3</th>\n",
       "      <td>APP0072</td>\n",
       "      <td>Apple Dock to USB Cable iPhone and iPod white</td>\n",
       "      <td>IPhone dock and USB Cable Apple iPod.</td>\n",
       "      <td>25</td>\n",
       "      <td>229.997</td>\n",
       "      <td>0</td>\n",
       "      <td>1230</td>\n",
       "      <td>25</td>\n",
       "      <td>25.00</td>\n",
       "      <td>25.00</td>\n",
       "      <td>0.0</td>\n",
       "    </tr>\n",
       "    <tr>\n",
       "      <th>4</th>\n",
       "      <td>KIN0007</td>\n",
       "      <td>Mac Memory Kingston 2GB 667MHz DDR2 SO-DIMM</td>\n",
       "      <td>2GB RAM Mac mini and iMac (2006/07) MacBook Pr...</td>\n",
       "      <td>34.99</td>\n",
       "      <td>31.99</td>\n",
       "      <td>1</td>\n",
       "      <td>1364</td>\n",
       "      <td>34.99</td>\n",
       "      <td>35.71</td>\n",
       "      <td>34.99</td>\n",
       "      <td>0.0</td>\n",
       "    </tr>\n",
       "    <tr>\n",
       "      <th>...</th>\n",
       "      <td>...</td>\n",
       "      <td>...</td>\n",
       "      <td>...</td>\n",
       "      <td>...</td>\n",
       "      <td>...</td>\n",
       "      <td>...</td>\n",
       "      <td>...</td>\n",
       "      <td>...</td>\n",
       "      <td>...</td>\n",
       "      <td>...</td>\n",
       "      <td>...</td>\n",
       "    </tr>\n",
       "    <tr>\n",
       "      <th>7824</th>\n",
       "      <td>MMW0012</td>\n",
       "      <td>My MW Case MacBook Pro 13 \"(Late 2016) Blue Sa...</td>\n",
       "      <td>Avoid shock and damage to your MacBook Pro 13-...</td>\n",
       "      <td>29.99</td>\n",
       "      <td>20.99</td>\n",
       "      <td>0</td>\n",
       "      <td>13835403</td>\n",
       "      <td>29.99</td>\n",
       "      <td>22.99</td>\n",
       "      <td>29.99</td>\n",
       "      <td>0.0</td>\n",
       "    </tr>\n",
       "    <tr>\n",
       "      <th>7825</th>\n",
       "      <td>MMW0013</td>\n",
       "      <td>My MW Case MacBook Pro 13 \"(Late 2016) White S...</td>\n",
       "      <td>Avoid shock and damage to your MacBook Pro 13-...</td>\n",
       "      <td>29.99</td>\n",
       "      <td>20.99</td>\n",
       "      <td>1</td>\n",
       "      <td>13835403</td>\n",
       "      <td>29.99</td>\n",
       "      <td>22.99</td>\n",
       "      <td>29.99</td>\n",
       "      <td>0.0</td>\n",
       "    </tr>\n",
       "    <tr>\n",
       "      <th>7826</th>\n",
       "      <td>MMW0016</td>\n",
       "      <td>My MW Case MacBook Pro 13 \"(Late 2016) Black</td>\n",
       "      <td>Avoid shock and damage to your MacBook Pro 13-...</td>\n",
       "      <td>29.99</td>\n",
       "      <td>20.99</td>\n",
       "      <td>1</td>\n",
       "      <td>13835403</td>\n",
       "      <td>29.99</td>\n",
       "      <td>22.99</td>\n",
       "      <td>29.99</td>\n",
       "      <td>0.0</td>\n",
       "    </tr>\n",
       "    <tr>\n",
       "      <th>7827</th>\n",
       "      <td>MMW0015</td>\n",
       "      <td>My MW Case MacBook Pro 13 \"(Late 2016) Gray</td>\n",
       "      <td>Avoid shock and damage to your MacBook Pro 13-...</td>\n",
       "      <td>29.99</td>\n",
       "      <td>20.99</td>\n",
       "      <td>1</td>\n",
       "      <td>13835403</td>\n",
       "      <td>29.99</td>\n",
       "      <td>22.99</td>\n",
       "      <td>29.99</td>\n",
       "      <td>0.0</td>\n",
       "    </tr>\n",
       "    <tr>\n",
       "      <th>7828</th>\n",
       "      <td>REP0076</td>\n",
       "      <td>repair Full screen iPad (1st generation)</td>\n",
       "      <td>Repair service including parts and labor for iPad</td>\n",
       "      <td>149.99</td>\n",
       "      <td>1.499.795</td>\n",
       "      <td>0</td>\n",
       "      <td>1,44E+11</td>\n",
       "      <td>149.99</td>\n",
       "      <td>149.99</td>\n",
       "      <td>149.99</td>\n",
       "      <td>0.0</td>\n",
       "    </tr>\n",
       "  </tbody>\n",
       "</table>\n",
       "<p>7829 rows × 11 columns</p>\n",
       "</div>"
      ],
      "text/plain": [
       "          sku                                               name  \\\n",
       "0     RAI0007                  Silver Rain Design mStand Support   \n",
       "1     APP0023                  Apple Mac Keyboard Keypad Spanish   \n",
       "2     APP0025                   Mighty Mouse Apple Mouse for Mac   \n",
       "3     APP0072      Apple Dock to USB Cable iPhone and iPod white   \n",
       "4     KIN0007        Mac Memory Kingston 2GB 667MHz DDR2 SO-DIMM   \n",
       "...       ...                                                ...   \n",
       "7824  MMW0012  My MW Case MacBook Pro 13 \"(Late 2016) Blue Sa...   \n",
       "7825  MMW0013  My MW Case MacBook Pro 13 \"(Late 2016) White S...   \n",
       "7826  MMW0016       My MW Case MacBook Pro 13 \"(Late 2016) Black   \n",
       "7827  MMW0015        My MW Case MacBook Pro 13 \"(Late 2016) Gray   \n",
       "7828  REP0076           repair Full screen iPad (1st generation)   \n",
       "\n",
       "                                                   desc   price promo_price  \\\n",
       "0          Aluminum support compatible with all MacBook   59.99     499.899   \n",
       "1             USB ultrathin keyboard Apple Mac Spanish.      59     589.996   \n",
       "2                                mouse Apple USB cable.      59     569.898   \n",
       "3                 IPhone dock and USB Cable Apple iPod.      25     229.997   \n",
       "4     2GB RAM Mac mini and iMac (2006/07) MacBook Pr...   34.99       31.99   \n",
       "...                                                 ...     ...         ...   \n",
       "7824  Avoid shock and damage to your MacBook Pro 13-...   29.99       20.99   \n",
       "7825  Avoid shock and damage to your MacBook Pro 13-...   29.99       20.99   \n",
       "7826  Avoid shock and damage to your MacBook Pro 13-...   29.99       20.99   \n",
       "7827  Avoid shock and damage to your MacBook Pro 13-...   29.99       20.99   \n",
       "7828  Repair service including parts and labor for iPad  149.99   1.499.795   \n",
       "\n",
       "      in_stock      type new_price  max_price  float_messy_price  float_price  \n",
       "0            1      8696     59.99      54.99              59.99          0.0  \n",
       "1            0  13855401        59      60.49              59.00          0.0  \n",
       "2            0      1387        59      59.00              59.00          0.0  \n",
       "3            0      1230        25      25.00              25.00          0.0  \n",
       "4            1      1364     34.99      35.71              34.99          0.0  \n",
       "...        ...       ...       ...        ...                ...          ...  \n",
       "7824         0  13835403     29.99      22.99              29.99          0.0  \n",
       "7825         1  13835403     29.99      22.99              29.99          0.0  \n",
       "7826         1  13835403     29.99      22.99              29.99          0.0  \n",
       "7827         1  13835403     29.99      22.99              29.99          0.0  \n",
       "7828         0  1,44E+11    149.99     149.99             149.99          0.0  \n",
       "\n",
       "[7829 rows x 11 columns]"
      ]
     },
     "execution_count": 595,
     "metadata": {},
     "output_type": "execute_result"
    }
   ],
   "source": [
    "sold_products= (\n",
    "sold_products\n",
    "        .assign(\n",
    "                max_price = recoverd_values['max_price'].replace(r'(\\d*)\\.(\\d{3}\\.\\d{2})$', r'\\1\\2', regex= True).astype('float'),\n",
    "                float_messy_price = lambda df_ : df_['new_price'].replace(r'(\\d*)\\.(\\d{3}\\.\\d{2,3})$', r'\\1\\2', regex= True).astype('float'),\n",
    "                float_price = 0.0 \n",
    "                )\n",
    ")\n",
    "sold_products"
   ]
  },
  {
   "cell_type": "markdown",
   "metadata": {},
   "source": [
    "**Data types:**\n",
    "\n",
    "`price` should be a float\n",
    "\n",
    "let us make look at price type\n",
    "\n",
    "i convert the normal price values to float and save them in float_price. pattern '.*\\.\\d{2}$',  '.*\\.\\d{1}$' , '\\d*$'\n",
    "\n",
    "then i try to find meesy values with this format ( .*\\.\\d{3})"
   ]
  },
  {
   "cell_type": "code",
   "execution_count": 677,
   "metadata": {},
   "outputs": [],
   "source": [
    "sold_products_last_v =(\n",
    "sold_products \n",
    "        .assign(float_price = np.where (\n",
    "                                        sold_products['new_price'].str.match(r'\\d*$') | sold_products['new_price'].str.match(r'.*\\.\\d{1}$') | sold_products['new_price'].str.match(r'.*\\.\\d{2}$'),\n",
    "                                        sold_products['float_messy_price'],\n",
    "                                        sold_products['float_price']\n",
    "                                         )\n",
    "                                        )\n",
    ")\n",
    "# .loc[sold_products['new_price'].str.match(r'.*\\.\\d{2}$')]"
   ]
  },
  {
   "cell_type": "code",
   "execution_count": 600,
   "metadata": {},
   "outputs": [],
   "source": [
    "# (\n",
    "# sold_products\n",
    "#         # .assign(new_price = lambda df_ : df_['new_price'].replace(r'(\\d*)\\.(\\d{3}\\.\\d{2})$', r'\\1\\2', regex= True))\n",
    "        \n",
    "#         .assign(float_price = np.where (\n",
    "#                                         sold_products['new_price'].str.match(r'\\d*$') | sold_products['new_price'].str.match(r'.*\\.\\d{1}$') | sold_products['new_price'].str.match(r'.*\\.\\d{2}$'),\n",
    "#                                         sold_products['new_price'].replace(r'(\\d*)\\.(\\d{3}\\.\\d{2,3})$', r'\\1\\2', regex= True).astype('float'),\n",
    "#                                         sold_products['float_price']\n",
    "#                                          )\n",
    "#                                         )\n",
    "#         # # .loc[lambda df_ :df_['new_price'].str.match(r'.*\\d{4}\\.\\d{0,2}$')] \n",
    "#         # .loc[sold_products['new_price'].str.match(r'.*\\.\\d{2}$')]\n",
    "#         .loc[sold_products['new_price'].str.match(r'.*\\.\\d{3}$')]\n",
    "# )"
   ]
  },
  {
   "cell_type": "markdown",
   "metadata": {},
   "source": [
    "i try to compare the promo_price, max_price and recovered_price to make the best desicion\n",
    "\n",
    "i make it multi steps:\n",
    "first step- recovered prices with pattern ('\\d{1}\\.\\d{3}$')"
   ]
  },
  {
   "cell_type": "code",
   "execution_count": 678,
   "metadata": {},
   "outputs": [],
   "source": [
    "sold_products_last_v =(\n",
    "sold_products_last_v\n",
    "        .assign(float_price = np.where (\n",
    "                                        lambda df_ :df_['new_price'].str.match(r'\\d\\.\\d{3}$'),\n",
    "                                        np.where(\n",
    "                                                sold_products['max_price'] >= sold_products['float_messy_price'],\n",
    "                                                sold_products['max_price'],\n",
    "                                                sold_products['float_messy_price']\n",
    "                                                ),\n",
    "                                        sold_products['float_price']\n",
    "                                         )\n",
    "                                        )\n",
    "        # .loc[lambda df_ :df_['new_price'].str.match(r'\\d\\.\\d{3}$')]\n",
    "\n",
    ")"
   ]
  },
  {
   "cell_type": "markdown",
   "metadata": {},
   "source": [
    "second step- recovered prices with pattern ('\\d{2}\\.\\d{3}$')"
   ]
  },
  {
   "cell_type": "code",
   "execution_count": 679,
   "metadata": {},
   "outputs": [],
   "source": [
    "sold_products_last_v =(\n",
    "sold_products_last_v \n",
    "        .assign(float_price = np.where (\n",
    "                                        lambda df_ :df_['new_price'].str.match(r'\\d{2}\\.\\d{3}$'),\n",
    "                                        np.where(\n",
    "                                                sold_products['max_price'].astype(int)/10 < 1,\n",
    "                                                np.where(\n",
    "                                                        sold_products['max_price'] >= sold_products['float_messy_price']/10 ,\n",
    "                                                        sold_products['max_price'] ,\n",
    "                                                        sold_products['float_messy_price']/10\n",
    "                                                ),\n",
    "                                                np.where(\n",
    "                                                        sold_products['max_price'] >= sold_products['float_messy_price'] ,\n",
    "                                                        sold_products['max_price'] ,\n",
    "                                                        sold_products['float_messy_price']\n",
    "                                                )\n",
    "                                                ),\n",
    "                                        sold_products['float_price']\n",
    "                                         )\n",
    "                                        )\n",
    "        # .loc[lambda df_ :df_['new_price'].str.match(r'\\d{2}\\.\\d{3}$')]\n",
    "\n",
    ")"
   ]
  },
  {
   "cell_type": "markdown",
   "metadata": {},
   "source": [
    "third step- recovered prices with pattern ('\\d{3}\\.\\d{3}$')"
   ]
  },
  {
   "cell_type": "code",
   "execution_count": 680,
   "metadata": {},
   "outputs": [],
   "source": [
    "sold_products_last_v =(\n",
    "sold_products_last_v\n",
    "        .assign(float_price = np.where (\n",
    "                                        lambda df_ :df_['new_price'].str.match(r'\\d{3}\\.\\d{3}$'),\n",
    "                                        np.where(\n",
    "                                                sold_products['max_price'].astype(int)/100 < 1,\n",
    "                                                np.where(\n",
    "                                                        sold_products['max_price'] >= sold_products['float_messy_price']/10 ,\n",
    "                                                        sold_products['max_price'] ,\n",
    "                                                        sold_products['float_messy_price']/10\n",
    "                                                ),\n",
    "                                                np.where(\n",
    "                                                        sold_products['max_price'] >= sold_products['float_messy_price'] ,\n",
    "                                                        sold_products['max_price'] ,\n",
    "                                                        sold_products['float_messy_price']\n",
    "                                                )\n",
    "                                                ),\n",
    "                                        sold_products['float_price']\n",
    "                                         )\n",
    "                                        )\n",
    "        \n",
    "        \n",
    "        # .loc[lambda df_ :df_['new_price'].str.match(r'\\d{3}\\.\\d{3}$')]\n",
    "        # .head(50)\n",
    "\n",
    ")"
   ]
  },
  {
   "cell_type": "markdown",
   "metadata": {},
   "source": [
    "forth step- recovered prices with pattern ('\\d\\.\\d{3}\\.\\d{3}$')"
   ]
  },
  {
   "cell_type": "code",
   "execution_count": 681,
   "metadata": {},
   "outputs": [],
   "source": [
    "sold_products_last_v =(\n",
    "sold_products_last_v\n",
    "        .assign(float_price = np.where (\n",
    "                                        lambda df_ :df_['new_price'].str.match(r'\\d\\.\\d{3}\\.\\d{3}$'),\n",
    "                                        np.where(\n",
    "                                                sold_products['max_price'].astype(int)/100 < 1,\n",
    "                                                np.where(\n",
    "                                                        sold_products['max_price'] >= sold_products['float_messy_price']/100 ,\n",
    "                                                        sold_products['max_price'] ,\n",
    "                                                        sold_products['float_messy_price']/100\n",
    "                                                ),\n",
    "                                                np.where(\n",
    "                                                        sold_products['max_price'] >= sold_products['float_messy_price']/10 ,\n",
    "                                                        sold_products['max_price'] ,\n",
    "                                                        sold_products['float_messy_price']/10\n",
    "                                                )\n",
    "                                                ),\n",
    "                                        sold_products['float_price']\n",
    "                                         )\n",
    "                                        )\n",
    "        \n",
    "        \n",
    "        # .loc[lambda df_ :df_['new_price'].str.match(r'\\d\\.\\d{3}\\.\\d{3}$')]\n",
    "        # .head(60)\n",
    "\n",
    ")"
   ]
  },
  {
   "cell_type": "markdown",
   "metadata": {},
   "source": [
    "forth step- recovered prices with pattern ('\\d{2}\\.\\d{3}\\.\\d{3}$')"
   ]
  },
  {
   "cell_type": "code",
   "execution_count": 682,
   "metadata": {},
   "outputs": [],
   "source": [
    "sold_products_last_v =(\n",
    "sold_products_last_v\n",
    "        .assign(float_price = np.where (\n",
    "                                        lambda df_ :df_['new_price'].str.match(r'\\d{2}\\.\\d{3}\\.\\d{3}$'),\n",
    "                                        np.where(\n",
    "                                                sold_products['max_price'].astype(int)/1000 < 1,\n",
    "                                                np.where(\n",
    "                                                        sold_products['max_price'] >= sold_products['float_messy_price']/100 ,\n",
    "                                                        sold_products['max_price'] ,\n",
    "                                                        sold_products['float_messy_price']/100\n",
    "                                                ),\n",
    "                                                np.where(\n",
    "                                                        sold_products['max_price'] >= sold_products['float_messy_price']/10 ,\n",
    "                                                        sold_products['max_price'] ,\n",
    "                                                        sold_products['float_messy_price']/10\n",
    "                                                )\n",
    "                                                ),\n",
    "                                        sold_products['float_price']\n",
    "                                         )\n",
    "                                        )\n",
    "        \n",
    "        \n",
    "        # .loc[lambda df_ :df_['new_price'].str.match(r'\\d{2}\\.\\d{3}\\.\\d{3}$')]\n",
    "        # .head(60)\n",
    "\n",
    ")"
   ]
  },
  {
   "cell_type": "markdown",
   "metadata": {},
   "source": []
  },
  {
   "cell_type": "code",
   "execution_count": 683,
   "metadata": {},
   "outputs": [],
   "source": [
    "sold_products_last_v =(\n",
    "sold_products_last_v\n",
    "        .assign(float_price = np.where (\n",
    "                                        lambda df_ :df_['new_price'].str.match(r'\\d{3}\\.\\d{3}\\.\\d{3}$'),\n",
    "                                        np.where(\n",
    "                                                sold_products['max_price'].astype(int)/10000 < 1 ,\n",
    "                                                np.where(\n",
    "                                                        sold_products['max_price'] >= sold_products['float_messy_price']/100 ,\n",
    "                                                        sold_products['max_price'] ,\n",
    "                                                        sold_products['float_messy_price']/100\n",
    "                                                ),\n",
    "                                                np.where(\n",
    "                                                        sold_products['max_price'] >= sold_products['float_messy_price']/10 ,\n",
    "                                                        sold_products['max_price'] ,\n",
    "                                                        sold_products['float_messy_price']/10\n",
    "                                                )\n",
    "                                                ),\n",
    "                                        sold_products['float_price']\n",
    "                                         )\n",
    "                                        )\n",
    "        \n",
    "        \n",
    "        # .loc[lambda df_ :df_['new_price'].str.match(r'\\d{3}\\.\\d{3}\\.\\d{3}$')]\n",
    "        # .head(60)\n",
    "\n",
    ")"
   ]
  },
  {
   "cell_type": "code",
   "execution_count": 684,
   "metadata": {},
   "outputs": [
    {
     "name": "stdout",
     "output_type": "stream",
     "text": [
      "<class 'pandas.core.frame.DataFrame'>\n",
      "RangeIndex: 7829 entries, 0 to 7828\n",
      "Data columns (total 11 columns):\n",
      " #   Column             Non-Null Count  Dtype  \n",
      "---  ------             --------------  -----  \n",
      " 0   sku                7829 non-null   object \n",
      " 1   name               7829 non-null   object \n",
      " 2   desc               7823 non-null   object \n",
      " 3   price              7806 non-null   object \n",
      " 4   promo_price        7829 non-null   object \n",
      " 5   in_stock           7829 non-null   int64  \n",
      " 6   type               7815 non-null   object \n",
      " 7   new_price          7829 non-null   object \n",
      " 8   max_price          7829 non-null   float64\n",
      " 9   float_messy_price  7829 non-null   float64\n",
      " 10  float_price        7829 non-null   float64\n",
      "dtypes: float64(3), int64(1), object(7)\n",
      "memory usage: 672.9+ KB\n"
     ]
    }
   ],
   "source": [
    "sold_products_last_v.info()"
   ]
  }
 ],
 "metadata": {
  "kernelspec": {
   "display_name": "Python 3.9.12 ('base')",
   "language": "python",
   "name": "python3"
  },
  "language_info": {
   "codemirror_mode": {
    "name": "ipython",
    "version": 3
   },
   "file_extension": ".py",
   "mimetype": "text/x-python",
   "name": "python",
   "nbconvert_exporter": "python",
   "pygments_lexer": "ipython3",
   "version": "3.9.12"
  },
  "orig_nbformat": 4,
  "vscode": {
   "interpreter": {
    "hash": "49cb93f377a7abe7414b7b0f21fb3017538004a126cf690fb524202736b7fb92"
   }
  }
 },
 "nbformat": 4,
 "nbformat_minor": 2
}
